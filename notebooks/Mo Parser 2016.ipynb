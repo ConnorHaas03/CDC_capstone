{
 "cells": [
  {
   "cell_type": "code",
   "execution_count": 1,
   "metadata": {},
   "outputs": [],
   "source": [
    "import pandas as pd\n",
    "import numpy as np"
   ]
  },
  {
   "cell_type": "code",
   "execution_count": 3,
   "metadata": {},
   "outputs": [],
   "source": [
    "# load text file, read it into strings and then split on new lines\n",
    "\n",
    "file = open(r'Birth Nat 2016.txt')\n",
    "lineReader = file.read()\n",
    "lr2016 = lineReader.split('\\n')"
   ]
  },
  {
   "cell_type": "code",
   "execution_count": 7,
   "metadata": {},
   "outputs": [],
   "source": [
    "def nat2016Parser( line ):\n",
    "    ret_dict = dict(\n",
    "        birth_year = line[8:12],\n",
    "        birth_month = line[12:14],\n",
    "        birth_time = line[18:22],\n",
    "        birth_day_of_wk = line[22:23],\n",
    "        birth_place = line[31:32],\n",
    "        mothers_age_imputed = line[72:73],\n",
    "        mothers_age = line[74:76],\n",
    "        mothers_nativity = line[83:84],\n",
    "        mothers_residence_status = line[103:104],\n",
    "        mothers_race = line[109:110],   # MBRACE\n",
    "        mothers_race_imputed = line[110:111],\n",
    "        mothers_hispanic_origin = line[114:115],  # re-code to 0 for non-hispanic and 1 for hispanic (rest/all)\n",
    "        mothers_hispanic_origin2 = line[116:117],\n",
    "        paternity_acknow = line[118:119],\n",
    "        mothers_marital_status = line[119:120],\n",
    "        mothers_maristat_imputed = line[120:121],\n",
    "        mothers_education = line[123:124],\n",
    "        fathers_age = line[146:148],\n",
    "        fathers_race = line[155:156],    # FBRACE\n",
    "        fathers_hispanic_origin = line[159:160],   # FHISP_R\n",
    "        fathers_education = line[162:163],\n",
    "        prior_living_births = line[170:172],    # PRIORLIVE\n",
    "        prior_dead_births = line[172:174],       # PRIORDEAD \n",
    "        prior_terminations = line[174:176],      # PRIORTERM\n",
    "        mo_since_last_live_birth = line[197:200], # ILLB_R\n",
    "        mo_prenatal_care_began = line[223:225],    # PRECARE\n",
    "        n_prenatal_visits = line[237:239],\n",
    "        wic = line[250:251],\n",
    "        cigs_before = line[252:254],\n",
    "        cigs_tri1 = line[254:256], \n",
    "        cigs_tri2 = line[256:258], \n",
    "        cigs_tri3 = line[258:260], \n",
    "        mothers_height = line[279:281],\n",
    "        mothers_height_reporting = line[281:282],\n",
    "        mothers_bmi = line[282:286],\n",
    "        mothers_bmi_recode = line[286:287],\n",
    "        pre_preg_lbs = line[291:294],\n",
    "        pre_preg_lbs_reporting = line[294:295],  \n",
    "        delivery_lbs = line[298:301],\n",
    "        delivery_lbs_reporting = line[302:303],\n",
    "        weight_gain = line[303:305],            # WTGAIN\n",
    "        weight_gain_reporting = line[306:307],            # F_WTGAIN\n",
    "        pre_preg_diab = line[312:313],\n",
    "        pre_preg_diab_reporting = line[318:319],\n",
    "        gest_diab = line[313:314],\n",
    "        gest_diab_reporting = line[319:320],\n",
    "        pre_preg_hypten = line[314:315],\n",
    "        pre_preg_hypten_reporting = line[320:321],\n",
    "        gest_hypten = line[315:316],\n",
    "        gest_hypten_reporting = line[321:322],\n",
    "        hypten_ecl = line[316:317],\n",
    "        hypten_ecl_reporting = line[322:323],\n",
    "        prev_preterm_birth = line[317:318],\n",
    "        prev_preterm_birth_reporting = line[323:324],\n",
    "        infertility_treatment = line[324:325],\n",
    "        fertil_enhance = line[325:326],\n",
    "        asst_repro_tech = line[326:327],\n",
    "        n_prev_cesar = line[331:333],\n",
    "        no_risk_reported = line[336:337],\n",
    "        gonorrhea = line[342:343],\n",
    "        syphilis = line[343:344],\n",
    "        chlamydia = line[344:345],\n",
    "        hepB = line[345:346],\n",
    "        hepC = line[346:347],\n",
    "        no_infection_reported = line[352:353],\n",
    "        success_ext_cep = line[359:360],\n",
    "        fail_ext_cep = line[360:361],\n",
    "        induced_labor = line[382:383],\n",
    "        aug_labor = line[383:384],\n",
    "        steriods = line[384:385],\n",
    "        antibiotics = line[385:386],\n",
    "        chorioamnionitis = line[386:387],\n",
    "        anesthesia = line[387:388],\n",
    "        fetal_present_at_birth = line[400:401],\n",
    "        final_delivery_method = line[401:402],\n",
    "        trial_of_labor_attempt = line[402:403],\n",
    "        maternal_transfusion = line[414:415],\n",
    "        perineal_laceration = line[415:416],\n",
    "        rupt_uterus = line[416:417],\n",
    "        unplanned_hyster = line[417:418],\n",
    "        admit_to_IC = line[418:419],\n",
    "        attendant_at_birth = line[432:433],\n",
    "        mother_transferred = line[433:434],\n",
    "        delivery_payment_source = line[434:435],\n",
    "        APGAR_score_5min = line[443:445],\n",
    "        APGAR_score_10min = line[447:449],\n",
    "        plurality = line[453:454],\n",
    "        pluarlity_imputed = line[455:456],\n",
    "        sex_of_infant = line[474:475],\n",
    "        sex_of_infant_imputed = line[475:476],\n",
    "        last_norm_menses_mo = line[476:478],\n",
    "        last_norm_menses_yr = line[480:484],\n",
    "        combined_gestation_imputed = line[487:488],\n",
    "        obst_est_of_gestation_used = line[488:489],\n",
    "        combined_gestation_wk = line[489:491],\n",
    "        obst_est_edit_wk = line[498:500],\n",
    "        birth_weight_gm = line[503:507],\n",
    "        assist_vent_immed = line[516:517],\n",
    "        assist_vent_after6 = line[517:518],\n",
    "        admit_NICU = line[518:519],\n",
    "        surfactant = line[519:520],\n",
    "        antibiotics_for_newborn = line[520:521],\n",
    "        seizures = line[521:522],\n",
    "        anencephaly = line[536:537],\n",
    "        meningo_spina_bif = line[537:538],\n",
    "        cyn_cong_heart_disease = line[538:539],\n",
    "        cong_diaph_hernia = line[539:540],\n",
    "        omphalocele = line[540:541],\n",
    "        gastroschisis = line[541:542],\n",
    "        limb_reduc_defect = line[548:549],\n",
    "        cleft_lip_or_palate = line[549:550],\n",
    "        cleft_palate_only = line[550:551],\n",
    "        down_syndr = line[551:552],\n",
    "        suspect_chromo_disorder = line[552:553],\n",
    "        hypospadias = line[553:554],\n",
    "        no_cong_anamolies_checked = line[560:561],\n",
    "        infant_transferred = line[566:567],\n",
    "        infant_living_at_report = line[567:568],\n",
    "        infant_breastfed_at_discharge = line[568:569])\n",
    "    return pd.Series( ret_dict )\n"
   ]
  },
  {
   "cell_type": "code",
   "execution_count": 10,
   "metadata": {},
   "outputs": [
    {
     "name": "stdout",
     "output_type": "stream",
     "text": [
      "CPU times: user 9min 7s, sys: 11min 12s, total: 20min 20s\n",
      "Wall time: 26min 7s\n"
     ]
    }
   ],
   "source": [
    "%time df2016_P1 = pd.DataFrame(list(map(lambda x: nat2016Parser(lr2016[x]),range(0, int(len(lr2016)/4)))))\n"
   ]
  },
  {
   "cell_type": "code",
   "execution_count": null,
   "metadata": {},
   "outputs": [],
   "source": [
    "%time df2016_P2 = pd.DataFrame(list(map(lambda x: nat2016Parser(lr2016[x]),range(int(len(lr2016)/4), int(len(lr2016)/2)))))\n"
   ]
  },
  {
   "cell_type": "code",
   "execution_count": null,
   "metadata": {},
   "outputs": [],
   "source": [
    "%time df2016_P3 = pd.DataFrame(list(map(lambda x: nat2016Parser(lr2016[x]),range(int(len(lr2016)/2), int(len(lr2016)*3/4)))))\n"
   ]
  },
  {
   "cell_type": "code",
   "execution_count": null,
   "metadata": {},
   "outputs": [],
   "source": [
    "%time df2016_P4 = pd.DataFrame(list(map(lambda x: nat2016Parser(lr2016[x]),range(int(len(lr2016)*3/4), len(lr2016)))))\n"
   ]
  },
  {
   "cell_type": "code",
   "execution_count": null,
   "metadata": {},
   "outputs": [],
   "source": [
    "df2016 = pd.concat([df2016_P1, df2016_P2, df2016_P3, df2016_P4])"
   ]
  },
  {
   "cell_type": "code",
   "execution_count": null,
   "metadata": {},
   "outputs": [],
   "source": [
    "df2016.to_csv('2016_data', index = False)"
   ]
  },
  {
   "cell_type": "markdown",
   "metadata": {},
   "source": [
    "---------------"
   ]
  },
  {
   "cell_type": "code",
   "execution_count": null,
   "metadata": {},
   "outputs": [],
   "source": []
  }
 ],
 "metadata": {
  "kernelspec": {
   "display_name": "Python 3",
   "language": "python",
   "name": "python3"
  },
  "language_info": {
   "codemirror_mode": {
    "name": "ipython",
    "version": 3
   },
   "file_extension": ".py",
   "mimetype": "text/x-python",
   "name": "python",
   "nbconvert_exporter": "python",
   "pygments_lexer": "ipython3",
   "version": "3.7.4"
  }
 },
 "nbformat": 4,
 "nbformat_minor": 2
}
