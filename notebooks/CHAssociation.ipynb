{
 "cells": [
  {
   "cell_type": "code",
   "execution_count": 9,
   "metadata": {},
   "outputs": [],
   "source": [
    "import pandas as pd\n",
    "import numpy as np\n",
    "import matplotlib.pyplot as plt\n",
    "from scipy.stats import chisquare, chi2_contingency\n",
    "import scipy.stats"
   ]
  },
  {
   "cell_type": "code",
   "execution_count": 5,
   "metadata": {},
   "outputs": [
    {
     "name": "stderr",
     "output_type": "stream",
     "text": [
      "C:\\Users\\conma\\Anaconda3\\lib\\site-packages\\IPython\\core\\interactiveshell.py:3058: DtypeWarning: Columns (3,5,10,12,13,15,17,18,19,20,21,22,26,27,28,29,30,31,32,33,34,35,36,37,47,48,54,63,64,73,75,105) have mixed types. Specify dtype option on import or set low_memory=False.\n",
      "  interactivity=interactivity, compiler=compiler, result=result)\n"
     ]
    }
   ],
   "source": [
    "totDF = pd.read_csv('../data/raw/totSampDF18.csv')\n",
    "totDF = totDF.drop(totDF.columns[0],axis=1)#.reset_index()"
   ]
  },
  {
   "cell_type": "code",
   "execution_count": null,
   "metadata": {},
   "outputs": [],
   "source": [
    "chisquare(totDF)"
   ]
  },
  {
   "cell_type": "code",
   "execution_count": 19,
   "metadata": {},
   "outputs": [
    {
     "data": {
      "text/plain": [
       "Power_divergenceResult(statistic=array([  9270.85641461, 749261.55915139,   1306.92957746,  63568.54612973]), pvalue=array([0.00000000e+000, 0.00000000e+000, 1.21232192e-249, 0.00000000e+000]))"
      ]
     },
     "execution_count": 19,
     "metadata": {},
     "output_type": "execute_result"
    }
   ],
   "source": [
    "chisquare(cont)"
   ]
  },
  {
   "cell_type": "code",
   "execution_count": 18,
   "metadata": {},
   "outputs": [
    {
     "data": {
      "text/plain": [
       "(1696.2585384151857,\n",
       " 6.819804153440283e-280,\n",
       " 114,\n",
       " array([[1.80081000e-01, 1.53250750e+01, 2.53470000e-02, 1.46949700e+00],\n",
       "        [9.00405000e-01, 7.66253750e+01, 1.26735000e-01, 7.34748500e+00],\n",
       "        [4.88337300e+00, 4.15579975e+02, 6.87351000e-01, 3.98493010e+01],\n",
       "        [1.76797170e+01, 1.50456177e+03, 2.48847900e+00, 1.44270029e+02],\n",
       "        [4.37279040e+01, 3.72128880e+03, 6.15484800e+00, 3.56828448e+02],\n",
       "        [8.60575320e+01, 7.32358290e+03, 1.21128840e+01, 7.02246684e+02],\n",
       "        [1.58450094e+02, 1.34842630e+04, 2.23023780e+01, 1.29298448e+03],\n",
       "        [2.64719070e+02, 2.25278603e+04, 3.72600900e+01, 2.16016059e+03],\n",
       "        [3.40289532e+02, 2.89589829e+04, 4.78968840e+01, 2.77683068e+03],\n",
       "        [3.89843586e+02, 3.31760830e+04, 5.48717820e+01, 3.18120168e+03],\n",
       "        [4.44249234e+02, 3.78060586e+04, 6.25295580e+01, 3.62516266e+03],\n",
       "        [4.81970907e+02, 4.10162110e+04, 6.78390090e+01, 3.93297906e+03],\n",
       "        [5.21885331e+02, 4.44129688e+04, 7.34570970e+01, 4.25868875e+03],\n",
       "        [5.59405737e+02, 4.76059933e+04, 7.87382190e+01, 4.56486277e+03],\n",
       "        [5.89680531e+02, 5.01824088e+04, 8.29994970e+01, 4.81191115e+03],\n",
       "        [6.17307075e+02, 5.25334556e+04, 8.68880250e+01, 5.03734927e+03],\n",
       "        [6.41416743e+02, 5.45852127e+04, 9.02815410e+01, 5.23408899e+03],\n",
       "        [6.58333764e+02, 5.60248683e+04, 9.26626680e+01, 5.37213527e+03],\n",
       "        [6.57189720e+02, 5.59275090e+04, 9.25016400e+01, 5.36279964e+03],\n",
       "        [6.45134886e+02, 5.49016304e+04, 9.08048820e+01, 5.26442978e+03],\n",
       "        [6.06332727e+02, 5.15995275e+04, 8.53433490e+01, 4.94779640e+03],\n",
       "        [5.56895196e+02, 4.73923437e+04, 7.83848520e+01, 4.54437625e+03],\n",
       "        [4.98665475e+02, 4.24369356e+04, 7.01888250e+01, 4.06921007e+03],\n",
       "        [4.35520602e+02, 3.70632432e+04, 6.13009740e+01, 3.55393527e+03],\n",
       "        [3.63011517e+02, 3.08926468e+04, 5.10950790e+01, 2.96224663e+03],\n",
       "        [2.86286418e+02, 2.43632634e+04, 4.02957660e+01, 2.33615447e+03],\n",
       "        [2.20450923e+02, 1.87605962e+04, 3.10292010e+01, 1.79892365e+03],\n",
       "        [1.68958350e+02, 1.43785263e+04, 2.37814500e+01, 1.37873395e+03],\n",
       "        [1.20866130e+02, 1.02858298e+04, 1.70123100e+01, 9.86291810e+02],\n",
       "        [8.38435950e+01, 7.13517462e+03, 1.18012650e+01, 6.84180515e+02],\n",
       "        [5.35264290e+01, 4.55515318e+03, 7.53402300e+00, 4.36786373e+02],\n",
       "        [3.21603480e+01, 2.73687810e+03, 4.52667600e+00, 2.62434876e+02],\n",
       "        [1.90568070e+01, 1.62175353e+03, 2.68230900e+00, 1.55507359e+02],\n",
       "        [1.09319760e+01, 9.30322200e+02, 1.53871200e+00, 8.92071120e+01],\n",
       "        [5.17997700e+00, 4.40821275e+02, 7.29099000e-01, 4.22696490e+01],\n",
       "        [2.98722600e+00, 2.54215950e+02, 4.20462000e-01, 2.43763620e+01],\n",
       "        [1.83258900e+00, 1.55955175e+02, 2.57943000e-01, 1.49542930e+01],\n",
       "        [1.24997400e+00, 1.06374050e+02, 1.75938000e-01, 1.02000380e+01],\n",
       "        [1.93851900e+00, 1.64969925e+02, 2.72853000e-01, 1.58187030e+01]]))"
      ]
     },
     "execution_count": 18,
     "metadata": {},
     "output_type": "execute_result"
    }
   ],
   "source": [
    "cont = pd.crosstab(totDF['mothers_age'],totDF['admit_NICU'])#,totDF['antibiotics'])\n",
    "scipy.stats.chi2_contingency(cont)"
   ]
  },
  {
   "cell_type": "code",
   "execution_count": 17,
   "metadata": {},
   "outputs": [
    {
     "ename": "TypeError",
     "evalue": "unsupported operand type(s) for -: 'float' and 'str'",
     "output_type": "error",
     "traceback": [
      "\u001b[1;31m---------------------------------------------------------------------------\u001b[0m",
      "\u001b[1;31mTypeError\u001b[0m                                 Traceback (most recent call last)",
      "\u001b[1;32m<ipython-input-17-2f86a8b11580>\u001b[0m in \u001b[0;36m<module>\u001b[1;34m\u001b[0m\n\u001b[1;32m----> 1\u001b[1;33m \u001b[0mchisquare\u001b[0m\u001b[1;33m(\u001b[0m\u001b[0mtotDF\u001b[0m\u001b[1;33m[\u001b[0m\u001b[1;34m'mothers_age'\u001b[0m\u001b[1;33m]\u001b[0m\u001b[1;33m,\u001b[0m\u001b[0mtotDF\u001b[0m\u001b[1;33m[\u001b[0m\u001b[1;34m'admit_NICU'\u001b[0m\u001b[1;33m]\u001b[0m\u001b[1;33m)\u001b[0m\u001b[1;33m\u001b[0m\u001b[1;33m\u001b[0m\u001b[0m\n\u001b[0m",
      "\u001b[1;32m~\\Anaconda3\\lib\\site-packages\\scipy\\stats\\stats.py\u001b[0m in \u001b[0;36mchisquare\u001b[1;34m(f_obs, f_exp, ddof, axis)\u001b[0m\n\u001b[0;32m   5179\u001b[0m     \"\"\"\n\u001b[0;32m   5180\u001b[0m     return power_divergence(f_obs, f_exp=f_exp, ddof=ddof, axis=axis,\n\u001b[1;32m-> 5181\u001b[1;33m                             lambda_=\"pearson\")\n\u001b[0m\u001b[0;32m   5182\u001b[0m \u001b[1;33m\u001b[0m\u001b[0m\n\u001b[0;32m   5183\u001b[0m \u001b[1;33m\u001b[0m\u001b[0m\n",
      "\u001b[1;32m~\\Anaconda3\\lib\\site-packages\\scipy\\stats\\stats.py\u001b[0m in \u001b[0;36mpower_divergence\u001b[1;34m(f_obs, f_exp, ddof, axis, lambda_)\u001b[0m\n\u001b[0;32m   5046\u001b[0m     \u001b[1;32mif\u001b[0m \u001b[0mlambda_\u001b[0m \u001b[1;33m==\u001b[0m \u001b[1;36m1\u001b[0m\u001b[1;33m:\u001b[0m\u001b[1;33m\u001b[0m\u001b[1;33m\u001b[0m\u001b[0m\n\u001b[0;32m   5047\u001b[0m         \u001b[1;31m# Pearson's chi-squared statistic\u001b[0m\u001b[1;33m\u001b[0m\u001b[1;33m\u001b[0m\u001b[1;33m\u001b[0m\u001b[0m\n\u001b[1;32m-> 5048\u001b[1;33m         \u001b[0mterms\u001b[0m \u001b[1;33m=\u001b[0m \u001b[1;33m(\u001b[0m\u001b[0mf_obs\u001b[0m \u001b[1;33m-\u001b[0m \u001b[0mf_exp\u001b[0m\u001b[1;33m)\u001b[0m\u001b[1;33m**\u001b[0m\u001b[1;36m2\u001b[0m \u001b[1;33m/\u001b[0m \u001b[0mf_exp\u001b[0m\u001b[1;33m\u001b[0m\u001b[1;33m\u001b[0m\u001b[0m\n\u001b[0m\u001b[0;32m   5049\u001b[0m     \u001b[1;32melif\u001b[0m \u001b[0mlambda_\u001b[0m \u001b[1;33m==\u001b[0m \u001b[1;36m0\u001b[0m\u001b[1;33m:\u001b[0m\u001b[1;33m\u001b[0m\u001b[1;33m\u001b[0m\u001b[0m\n\u001b[0;32m   5050\u001b[0m         \u001b[1;31m# Log-likelihood ratio (i.e. G-test)\u001b[0m\u001b[1;33m\u001b[0m\u001b[1;33m\u001b[0m\u001b[1;33m\u001b[0m\u001b[0m\n",
      "\u001b[1;31mTypeError\u001b[0m: unsupported operand type(s) for -: 'float' and 'str'"
     ]
    }
   ],
   "source": [
    "chisquare(totDF['mothers_age'],totDF['admit_NICU'])"
   ]
  }
 ],
 "metadata": {
  "kernelspec": {
   "display_name": "Python 3",
   "language": "python",
   "name": "python3"
  },
  "language_info": {
   "codemirror_mode": {
    "name": "ipython",
    "version": 3
   },
   "file_extension": ".py",
   "mimetype": "text/x-python",
   "name": "python",
   "nbconvert_exporter": "python",
   "pygments_lexer": "ipython3",
   "version": "3.7.4"
  }
 },
 "nbformat": 4,
 "nbformat_minor": 2
}
