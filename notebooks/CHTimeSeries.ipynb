{
 "cells": [
  {
   "cell_type": "code",
   "execution_count": 1,
   "metadata": {},
   "outputs": [],
   "source": [
    "import pandas as pd\n",
    "import numpy as np\n",
    "import matplotlib.pyplot as plt\n",
    "#import seaborn as sns"
   ]
  },
  {
   "cell_type": "code",
   "execution_count": 2,
   "metadata": {},
   "outputs": [
    {
     "name": "stderr",
     "output_type": "stream",
     "text": [
      "C:\\Users\\conma\\Anaconda3\\lib\\site-packages\\IPython\\core\\interactiveshell.py:3058: DtypeWarning: Columns (3,5,10,12,13,15,17,18,19,20,21,22,26,27,28,29,30,31,32,33,34,35,36,37,47,48,54,63,64,73,75,105) have mixed types. Specify dtype option on import or set low_memory=False.\n",
      "  interactivity=interactivity, compiler=compiler, result=result)\n"
     ]
    }
   ],
   "source": [
    "totDF = pd.read_csv('../data/raw/totSampDF18.csv')\n",
    "totDF = totDF.drop(totDF.columns[0],axis=1)#.reset_index()\n",
    "totClean = pd.read_csv('../data/raw/Cleaned_data_set.csv')\n",
    "totClean = totClean.drop(totClean.columns[0],axis=1)#.reset_index()"
   ]
  },
  {
   "cell_type": "code",
   "execution_count": 4,
   "metadata": {},
   "outputs": [
    {
     "data": {
      "text/plain": [
       "29    62148\n",
       "30    62040\n",
       "31    60902\n",
       "28    60551\n",
       "27    58275\n",
       "32    57239\n",
       "26    55667\n",
       "25    52809\n",
       "33    52572\n",
       "24    49267\n",
       "34    47075\n",
       "23    45499\n",
       "22    41938\n",
       "35    41114\n",
       "21    36802\n",
       "36    34269\n",
       "20    32124\n",
       "37    27026\n",
       "19    24990\n",
       "38    20811\n",
       "39    15950\n",
       "18    14958\n",
       "40    11410\n",
       "17     8124\n",
       "41     7915\n",
       "42     5053\n",
       "16     4128\n",
       "43     3036\n",
       "44     1799\n",
       "15     1669\n",
       "45     1032\n",
       "46      489\n",
       "14      461\n",
       "47      282\n",
       "50      183\n",
       "48      173\n",
       "49      118\n",
       "13       85\n",
       "12       17\n",
       "Name: mothers_age, dtype: int64"
      ]
     },
     "execution_count": 4,
     "metadata": {},
     "output_type": "execute_result"
    }
   ],
   "source": [
    "totClean['mothers_age'].value_counts()"
   ]
  },
  {
   "cell_type": "code",
   "execution_count": null,
   "metadata": {},
   "outputs": [],
   "source": [
    "births['admit_NICU'] = births['admit_NICU'].replace(' ', 'U')"
   ]
  },
  {
   "cell_type": "code",
   "execution_count": null,
   "metadata": {},
   "outputs": [],
   "source": [
    "totDF['mothers_bmi'] = pd.to_numeric(totDF['mothers_bmi'], errors = 'coerce')\n",
    "totClean['mothers_bmi'] = pd.to_numeric(totClean['mothers_bmi'], errors = 'coerce')\n",
    "totDF['mother_bmirecode'] = pd.cut(totDF['mothers_bmi'],[19.0, 25.0,30.0,35.0,40.0,90.0], right = False)\n",
    "totClean['mother_bmirecode'] = pd.cut(totClean['mothers_bmi'],[19.0, 25.0,30.0,35.0,40.0,90.0], right = False)"
   ]
  },
  {
   "cell_type": "code",
   "execution_count": null,
   "metadata": {},
   "outputs": [],
   "source": [
    "val_check(totDF,'mothers_bmi_recode')"
   ]
  },
  {
   "cell_type": "code",
   "execution_count": null,
   "metadata": {},
   "outputs": [],
   "source": [
    "print(totDF['mothers_bmi_recode'].value_counts())\n",
    "print(totDF['mothers_bmi_recode'].count())\n",
    "print(totClean['mothers_bmi_recode'].value_counts())\n",
    "print(totClean['mothers_bmi_recode'].count())"
   ]
  },
  {
   "cell_type": "code",
   "execution_count": null,
   "metadata": {},
   "outputs": [],
   "source": [
    "print(totDF['mothers_bmi'].value_counts())\n",
    "print(totDF['mothers_bmi'].count())\n",
    "print(totClean['mothers_bmi'].value_counts())\n",
    "print(totClean['mothers_bmi'].count())"
   ]
  },
  {
   "cell_type": "markdown",
   "metadata": {},
   "source": [
    "### Values to do analysis on\n",
    "\n",
    " Mom age\n",
    " \n",
    " Mom’s age to first baby\n",
    " \n",
    " Multiple Births\n",
    " \n",
    " Plurality\n",
    " \n",
    " BMI / Mom’s weight / weight gain M&C\n",
    " \n",
    " previous children - if prior_living_births, prior_dead_births, prior_terminations\n",
    " \n",
    " mean of mothers age vs mean of first child birthed"
   ]
  },
  {
   "cell_type": "markdown",
   "metadata": {},
   "source": [
    "#### Only include 2014-2017"
   ]
  },
  {
   "cell_type": "code",
   "execution_count": null,
   "metadata": {},
   "outputs": [],
   "source": [
    "totDF['mothers_bmi_recode']"
   ]
  },
  {
   "cell_type": "code",
   "execution_count": null,
   "metadata": {},
   "outputs": [],
   "source": [
    "dfNo13 = totDF.loc[totDF['birth_year'] != 2013.0]\n",
    "dfNo13 = dfNo13.drop(totDF.columns[0:2],axis=1)\n",
    "dfNo13.drop(4933,axis=0,inplace=True)\n",
    "dfNo13"
   ]
  },
  {
   "cell_type": "code",
   "execution_count": null,
   "metadata": {},
   "outputs": [],
   "source": [
    "def plot_gpYR(df,col,xlab,ylab,title,kind='line'):\n",
    "    groupDF = df.groupby('birth_year')[col].value_counts().unstack()\n",
    "    plt.figure(figsize=(20,20))\n",
    "    groupDF.plot(kind=kind,logy=True, legend=True)\n",
    "    plt.xlabel(xlab)\n",
    "    plt.ylabel(ylab)\n",
    "    plt.title(title)\n",
    "    return"
   ]
  },
  {
   "cell_type": "code",
   "execution_count": null,
   "metadata": {},
   "outputs": [],
   "source": [
    "def val_check(data_frame, column_name = str):\n",
    "    df = pd.DataFrame(data_frame)\n",
    "    col = column_name\n",
    "    print( \"Value counts of %s \\n\" %(col), df[col].value_counts())\n",
    "    print(\"Value counts of %s by year \\n\" %(col), df.groupby(['birth_year'])[col].value_counts())"
   ]
  },
  {
   "cell_type": "code",
   "execution_count": null,
   "metadata": {},
   "outputs": [],
   "source": [
    "def clean_col (df,groups):\n",
    "    df = df.mask(df == ' ')\n",
    "\n",
    "    numerics = ['int16', 'int32', 'int64']\n",
    "    if df[groups].dtypes == numerics:\n",
    "        df[groups] = list(map(lambda g: df[g].astype(float),groups))        \n",
    "    return df"
   ]
  },
  {
   "cell_type": "code",
   "execution_count": null,
   "metadata": {},
   "outputs": [],
   "source": [
    "totDF['mothers_age'].value_counts()\n",
    "totDF.plot()"
   ]
  },
  {
   "cell_type": "markdown",
   "metadata": {},
   "source": [
    "#### Create a new feature that for mothers first child"
   ]
  },
  {
   "cell_type": "code",
   "execution_count": null,
   "metadata": {},
   "outputs": [],
   "source": [
    "totDF['is_first_child'] = (totDF['prior_living_births']+totDF['prior_dead_births']+totDF['prior_terminations']) <= 0"
   ]
  },
  {
   "cell_type": "markdown",
   "metadata": {},
   "source": [
    "#### Bool mask\n",
    "Only include rows where it is the mother's first child\n"
   ]
  },
  {
   "cell_type": "code",
   "execution_count": null,
   "metadata": {},
   "outputs": [],
   "source": [
    "%time first_child = totDF.mask(totDF['is_first_child'] == False)\n",
    "# print(first_child['mothers_age_groups'].value_counts())\n",
    "# print(totDF['mothers_age_groups'].value_counts())"
   ]
  },
  {
   "cell_type": "markdown",
   "metadata": {},
   "source": [
    "#### Create a new feature of mothers age in a range"
   ]
  },
  {
   "cell_type": "code",
   "execution_count": null,
   "metadata": {},
   "outputs": [],
   "source": [
    "totDF['mothers_age_groups']= pd.cut(totDF['mothers_age'], 4, labels = ['12-19', '20-29', '30-39','40-50'])"
   ]
  },
  {
   "cell_type": "code",
   "execution_count": null,
   "metadata": {
    "scrolled": true
   },
   "outputs": [],
   "source": [
    "totDF['plurality']#.value_counts()"
   ]
  },
  {
   "cell_type": "code",
   "execution_count": null,
   "metadata": {},
   "outputs": [],
   "source": [
    "totDF.groupby('plurality')['birth_year'].value_counts()"
   ]
  },
  {
   "cell_type": "markdown",
   "metadata": {},
   "source": [
    "### Time Series Graphs"
   ]
  },
  {
   "cell_type": "code",
   "execution_count": null,
   "metadata": {
    "scrolled": true
   },
   "outputs": [],
   "source": [
    "plot_gpYR(first_child,'mothers_age_groups','Year of birth',\n",
    "          'Age of first Child','Mothers first child per year')"
   ]
  },
  {
   "cell_type": "code",
   "execution_count": null,
   "metadata": {},
   "outputs": [],
   "source": [
    "plot_gpYR(totDF,'mothers_age_groups','Year of birth',\n",
    "        'Mothers Age','Mothers age when she gave birth')"
   ]
  },
  {
   "cell_type": "code",
   "execution_count": null,
   "metadata": {},
   "outputs": [],
   "source": [
    "plot_gpYR(totDF,'plurality','Years of birth',\n",
    "          'Number of cases of Plurality', 'Plurality per year')"
   ]
  },
  {
   "cell_type": "code",
   "execution_count": null,
   "metadata": {},
   "outputs": [],
   "source": [
    "plot_gpYR(totDF,'plurality','Years of birth',\n",
    "          'Number of cases of Plurality','Plurality per year',kind='bar')"
   ]
  }
 ],
 "metadata": {
  "kernelspec": {
   "display_name": "Python 3",
   "language": "python",
   "name": "python3"
  },
  "language_info": {
   "codemirror_mode": {
    "name": "ipython",
    "version": 3
   },
   "file_extension": ".py",
   "mimetype": "text/x-python",
   "name": "python",
   "nbconvert_exporter": "python",
   "pygments_lexer": "ipython3",
   "version": "3.7.4"
  }
 },
 "nbformat": 4,
 "nbformat_minor": 2
}
