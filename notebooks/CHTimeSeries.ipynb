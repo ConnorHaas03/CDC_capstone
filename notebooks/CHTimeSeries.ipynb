{
 "cells": [
  {
   "cell_type": "code",
   "execution_count": 24,
   "metadata": {},
   "outputs": [],
   "source": [
    "import pandas as pd\n",
    "import numpy as np\n",
    "import matplotlib.pyplot as plt\n",
    "#import seaborn as sns"
   ]
  },
  {
   "cell_type": "code",
   "execution_count": 39,
   "metadata": {},
   "outputs": [],
   "source": [
    "totDF = pd.read_csv('../data/raw/totSampDF18.csv')\n",
    "totDF = totDF.drop(totDF.columns[0],axis=1)#.reset_index()\n",
    "totClean = pd.read_csv('../data/raw/Cleaned_data_set.csv')\n",
    "totClean = totClean.drop(totClean.columns[0],axis=1)#.reset_index()"
   ]
  },
  {
   "cell_type": "code",
   "execution_count": null,
   "metadata": {},
   "outputs": [],
   "source": [
    "births['admit_NICU'] = births['admit_NICU'].replace(' ', 'U')"
   ]
  },
  {
   "cell_type": "code",
   "execution_count": 29,
   "metadata": {},
   "outputs": [],
   "source": [
    "totDF['mothers_bmi'] = pd.to_numeric(totDF['mothers_bmi'], errors = 'coerce')\n",
    "totClean['mothers_bmi'] = pd.to_numeric(totClean['mothers_bmi'], errors = 'coerce')\n",
    "totDF['mother_bmirecode'] = pd.cut(totDF['mothers_bmi'],[19.0, 25.0,30.0,35.0,40.0,90.0], right = False)\n",
    "totClean['mother_bmirecode'] = pd.cut(totClean['mothers_bmi'],[19.0, 25.0,30.0,35.0,40.0,90.0], right = False)"
   ]
  },
  {
   "cell_type": "code",
   "execution_count": 38,
   "metadata": {},
   "outputs": [
    {
     "name": "stdout",
     "output_type": "stream",
     "text": [
      "Value counts of mothers_bmi_recode \n",
      " 2.0    170956\n",
      "3.0    101815\n",
      "4.0     56469\n",
      "5.0     27423\n",
      "6.0     19513\n",
      "1.0     13241\n",
      "9.0     10583\n",
      "Name: mothers_bmi_recode, dtype: int64\n",
      "Value counts of mothers_bmi_recode by year \n",
      " birth_year  mothers_bmi_recode\n",
      "2016.0      2.0                   86471\n",
      "            3.0                   50674\n",
      "            4.0                   27798\n",
      "            5.0                   13173\n",
      "            6.0                    9689\n",
      "            1.0                    6652\n",
      "            9.0                    5543\n",
      "2017.0      2.0                   84485\n",
      "            3.0                   51141\n",
      "            4.0                   28671\n",
      "            5.0                   14250\n",
      "            6.0                    9824\n",
      "            1.0                    6589\n",
      "            9.0                    5040\n",
      "Name: mothers_bmi_recode, dtype: int64\n"
     ]
    }
   ],
   "source": [
    "val_check(totDF,'mothers_bmi_recode')"
   ]
  },
  {
   "cell_type": "code",
   "execution_count": 32,
   "metadata": {},
   "outputs": [
    {
     "name": "stdout",
     "output_type": "stream",
     "text": [
      "2.0    170956\n",
      "3.0    101815\n",
      "4.0     56469\n",
      "5.0     27423\n",
      "6.0     19513\n",
      "1.0     13241\n",
      "9.0     10583\n",
      "Name: mothers_bmi_recode, dtype: int64\n",
      "400000\n",
      "9    610583\n",
      "2    170956\n",
      "3    101815\n",
      "4     56469\n",
      "5     27423\n",
      "6     19513\n",
      "1     13241\n",
      "Name: mothers_bmi_recode, dtype: int64\n",
      "1000000\n"
     ]
    }
   ],
   "source": [
    "print(totDF['mothers_bmi_recode'].value_counts())\n",
    "print(totDF['mothers_bmi_recode'].count())\n",
    "print(totClean['mothers_bmi_recode'].value_counts())\n",
    "print(totClean['mothers_bmi_recode'].count())"
   ]
  },
  {
   "cell_type": "code",
   "execution_count": 35,
   "metadata": {},
   "outputs": [
    {
     "name": "stdout",
     "output_type": "stream",
     "text": [
      "99.9    28805\n",
      "26.6    17487\n",
      "28.3    15101\n",
      "23.0    12982\n",
      "22.3    12690\n",
      "        ...  \n",
      "69.7        1\n",
      "65.1        1\n",
      "66.7        1\n",
      "65.0        1\n",
      "68.6        1\n",
      "Name: mothers_bmi, Length: 554, dtype: int64\n",
      "989407\n",
      "99.9    39398\n",
      "26.6    17487\n",
      "28.3    15101\n",
      "23.0    12982\n",
      "22.3    12690\n",
      "        ...  \n",
      "69.7        1\n",
      "65.1        1\n",
      "66.7        1\n",
      "65.0        1\n",
      "68.6        1\n",
      "Name: mothers_bmi, Length: 554, dtype: int64\n",
      "1000000\n"
     ]
    }
   ],
   "source": [
    "print(totDF['mothers_bmi'].value_counts())\n",
    "print(totDF['mothers_bmi'].count())\n",
    "print(totClean['mothers_bmi'].value_counts())\n",
    "print(totClean['mothers_bmi'].count())"
   ]
  },
  {
   "cell_type": "markdown",
   "metadata": {},
   "source": [
    "### Values to do analysis on\n",
    "\n",
    " Mom age\n",
    " \n",
    " Mom’s age to first baby\n",
    " \n",
    " Multiple Births\n",
    " \n",
    " Plurality\n",
    " \n",
    " BMI / Mom’s weight / weight gain M&C\n",
    " \n",
    " previous children - if prior_living_births, prior_dead_births, prior_terminations\n",
    " \n",
    " mean of mothers age vs mean of first child birthed"
   ]
  },
  {
   "cell_type": "markdown",
   "metadata": {},
   "source": [
    "#### Only include 2014-2017"
   ]
  },
  {
   "cell_type": "code",
   "execution_count": null,
   "metadata": {},
   "outputs": [],
   "source": [
    "totDF['mothers_bmi_recode']"
   ]
  },
  {
   "cell_type": "code",
   "execution_count": 279,
   "metadata": {
    "collapsed": true
   },
   "outputs": [
    {
     "data": {
      "text/html": [
       "<div>\n",
       "<style scoped>\n",
       "    .dataframe tbody tr th:only-of-type {\n",
       "        vertical-align: middle;\n",
       "    }\n",
       "\n",
       "    .dataframe tbody tr th {\n",
       "        vertical-align: top;\n",
       "    }\n",
       "\n",
       "    .dataframe thead th {\n",
       "        text-align: right;\n",
       "    }\n",
       "</style>\n",
       "<table border=\"1\" class=\"dataframe\">\n",
       "  <thead>\n",
       "    <tr style=\"text-align: right;\">\n",
       "      <th></th>\n",
       "      <th>birth_year</th>\n",
       "      <th>birth_month</th>\n",
       "      <th>birth_time</th>\n",
       "      <th>birth_day_of_wk</th>\n",
       "      <th>birth_place</th>\n",
       "      <th>mothers_age_imputed</th>\n",
       "      <th>mothers_age</th>\n",
       "      <th>mothers_nativity</th>\n",
       "      <th>mothers_residence_status</th>\n",
       "      <th>mothers_race</th>\n",
       "      <th>...</th>\n",
       "      <th>weight_gain</th>\n",
       "      <th>weight_gain_reporting</th>\n",
       "      <th>pre_preg_diab_reporting</th>\n",
       "      <th>gest_diab_reporting</th>\n",
       "      <th>pre_preg_hypten_reporting</th>\n",
       "      <th>gest_hypten_reporting</th>\n",
       "      <th>hypten_ecl_reporting</th>\n",
       "      <th>prev_preterm_birth_reporting</th>\n",
       "      <th>is_first_child</th>\n",
       "      <th>mothers_age_groups</th>\n",
       "    </tr>\n",
       "  </thead>\n",
       "  <tbody>\n",
       "    <tr>\n",
       "      <td>200000</td>\n",
       "      <td>2014.0</td>\n",
       "      <td>9.0</td>\n",
       "      <td>1101</td>\n",
       "      <td>2.0</td>\n",
       "      <td>1</td>\n",
       "      <td></td>\n",
       "      <td>34.0</td>\n",
       "      <td>1.0</td>\n",
       "      <td>1.0</td>\n",
       "      <td>1</td>\n",
       "      <td>...</td>\n",
       "      <td>NaN</td>\n",
       "      <td>NaN</td>\n",
       "      <td>NaN</td>\n",
       "      <td>NaN</td>\n",
       "      <td>NaN</td>\n",
       "      <td>NaN</td>\n",
       "      <td>NaN</td>\n",
       "      <td>NaN</td>\n",
       "      <td>False</td>\n",
       "      <td>30-39</td>\n",
       "    </tr>\n",
       "    <tr>\n",
       "      <td>200001</td>\n",
       "      <td>2014.0</td>\n",
       "      <td>9.0</td>\n",
       "      <td>940</td>\n",
       "      <td>2.0</td>\n",
       "      <td>1</td>\n",
       "      <td></td>\n",
       "      <td>22.0</td>\n",
       "      <td>1.0</td>\n",
       "      <td>1.0</td>\n",
       "      <td>2</td>\n",
       "      <td>...</td>\n",
       "      <td>NaN</td>\n",
       "      <td>NaN</td>\n",
       "      <td>NaN</td>\n",
       "      <td>NaN</td>\n",
       "      <td>NaN</td>\n",
       "      <td>NaN</td>\n",
       "      <td>NaN</td>\n",
       "      <td>NaN</td>\n",
       "      <td>True</td>\n",
       "      <td>20-29</td>\n",
       "    </tr>\n",
       "    <tr>\n",
       "      <td>200002</td>\n",
       "      <td>2014.0</td>\n",
       "      <td>11.0</td>\n",
       "      <td>1843</td>\n",
       "      <td>1.0</td>\n",
       "      <td>1</td>\n",
       "      <td></td>\n",
       "      <td>38.0</td>\n",
       "      <td>2.0</td>\n",
       "      <td>1.0</td>\n",
       "      <td>1</td>\n",
       "      <td>...</td>\n",
       "      <td>NaN</td>\n",
       "      <td>NaN</td>\n",
       "      <td>NaN</td>\n",
       "      <td>NaN</td>\n",
       "      <td>NaN</td>\n",
       "      <td>NaN</td>\n",
       "      <td>NaN</td>\n",
       "      <td>NaN</td>\n",
       "      <td>False</td>\n",
       "      <td>30-39</td>\n",
       "    </tr>\n",
       "    <tr>\n",
       "      <td>200003</td>\n",
       "      <td>2014.0</td>\n",
       "      <td>1.0</td>\n",
       "      <td>734</td>\n",
       "      <td>4.0</td>\n",
       "      <td>1</td>\n",
       "      <td></td>\n",
       "      <td>29.0</td>\n",
       "      <td>1.0</td>\n",
       "      <td>2.0</td>\n",
       "      <td>1</td>\n",
       "      <td>...</td>\n",
       "      <td>NaN</td>\n",
       "      <td>NaN</td>\n",
       "      <td>NaN</td>\n",
       "      <td>NaN</td>\n",
       "      <td>NaN</td>\n",
       "      <td>NaN</td>\n",
       "      <td>NaN</td>\n",
       "      <td>NaN</td>\n",
       "      <td>True</td>\n",
       "      <td>20-29</td>\n",
       "    </tr>\n",
       "    <tr>\n",
       "      <td>200004</td>\n",
       "      <td>2014.0</td>\n",
       "      <td>7.0</td>\n",
       "      <td>1752</td>\n",
       "      <td>4.0</td>\n",
       "      <td>1</td>\n",
       "      <td></td>\n",
       "      <td>28.0</td>\n",
       "      <td>1.0</td>\n",
       "      <td>2.0</td>\n",
       "      <td>1</td>\n",
       "      <td>...</td>\n",
       "      <td>NaN</td>\n",
       "      <td>NaN</td>\n",
       "      <td>NaN</td>\n",
       "      <td>NaN</td>\n",
       "      <td>NaN</td>\n",
       "      <td>NaN</td>\n",
       "      <td>NaN</td>\n",
       "      <td>NaN</td>\n",
       "      <td>False</td>\n",
       "      <td>20-29</td>\n",
       "    </tr>\n",
       "    <tr>\n",
       "      <td>...</td>\n",
       "      <td>...</td>\n",
       "      <td>...</td>\n",
       "      <td>...</td>\n",
       "      <td>...</td>\n",
       "      <td>...</td>\n",
       "      <td>...</td>\n",
       "      <td>...</td>\n",
       "      <td>...</td>\n",
       "      <td>...</td>\n",
       "      <td>...</td>\n",
       "      <td>...</td>\n",
       "      <td>...</td>\n",
       "      <td>...</td>\n",
       "      <td>...</td>\n",
       "      <td>...</td>\n",
       "      <td>...</td>\n",
       "      <td>...</td>\n",
       "      <td>...</td>\n",
       "      <td>...</td>\n",
       "      <td>...</td>\n",
       "      <td>...</td>\n",
       "    </tr>\n",
       "    <tr>\n",
       "      <td>999995</td>\n",
       "      <td>2017.0</td>\n",
       "      <td>10.0</td>\n",
       "      <td>752</td>\n",
       "      <td>3.0</td>\n",
       "      <td>1</td>\n",
       "      <td></td>\n",
       "      <td>28.0</td>\n",
       "      <td>1</td>\n",
       "      <td>1</td>\n",
       "      <td>1</td>\n",
       "      <td>...</td>\n",
       "      <td>30.0</td>\n",
       "      <td>1.0</td>\n",
       "      <td>1.0</td>\n",
       "      <td>1.0</td>\n",
       "      <td>1.0</td>\n",
       "      <td>1.0</td>\n",
       "      <td>1.0</td>\n",
       "      <td>1.0</td>\n",
       "      <td>False</td>\n",
       "      <td>20-29</td>\n",
       "    </tr>\n",
       "    <tr>\n",
       "      <td>999996</td>\n",
       "      <td>2017.0</td>\n",
       "      <td>6.0</td>\n",
       "      <td>652</td>\n",
       "      <td>6.0</td>\n",
       "      <td>1</td>\n",
       "      <td></td>\n",
       "      <td>20.0</td>\n",
       "      <td>1</td>\n",
       "      <td>1</td>\n",
       "      <td>1</td>\n",
       "      <td>...</td>\n",
       "      <td>20.0</td>\n",
       "      <td>1.0</td>\n",
       "      <td>1.0</td>\n",
       "      <td>1.0</td>\n",
       "      <td>1.0</td>\n",
       "      <td>1.0</td>\n",
       "      <td>1.0</td>\n",
       "      <td>1.0</td>\n",
       "      <td>False</td>\n",
       "      <td>12-19</td>\n",
       "    </tr>\n",
       "    <tr>\n",
       "      <td>999997</td>\n",
       "      <td>2017.0</td>\n",
       "      <td>1.0</td>\n",
       "      <td>1102</td>\n",
       "      <td>7.0</td>\n",
       "      <td>1</td>\n",
       "      <td></td>\n",
       "      <td>24.0</td>\n",
       "      <td>2</td>\n",
       "      <td>1</td>\n",
       "      <td>1</td>\n",
       "      <td>...</td>\n",
       "      <td>0.0</td>\n",
       "      <td>1.0</td>\n",
       "      <td>1.0</td>\n",
       "      <td>1.0</td>\n",
       "      <td>1.0</td>\n",
       "      <td>1.0</td>\n",
       "      <td>1.0</td>\n",
       "      <td>1.0</td>\n",
       "      <td>False</td>\n",
       "      <td>20-29</td>\n",
       "    </tr>\n",
       "    <tr>\n",
       "      <td>999998</td>\n",
       "      <td>2017.0</td>\n",
       "      <td>12.0</td>\n",
       "      <td>1332</td>\n",
       "      <td>3.0</td>\n",
       "      <td>1</td>\n",
       "      <td></td>\n",
       "      <td>33.0</td>\n",
       "      <td>1</td>\n",
       "      <td>2</td>\n",
       "      <td>2</td>\n",
       "      <td>...</td>\n",
       "      <td>12.0</td>\n",
       "      <td>1.0</td>\n",
       "      <td>1.0</td>\n",
       "      <td>1.0</td>\n",
       "      <td>1.0</td>\n",
       "      <td>1.0</td>\n",
       "      <td>1.0</td>\n",
       "      <td>1.0</td>\n",
       "      <td>False</td>\n",
       "      <td>30-39</td>\n",
       "    </tr>\n",
       "    <tr>\n",
       "      <td>999999</td>\n",
       "      <td>2017.0</td>\n",
       "      <td>11.0</td>\n",
       "      <td>1553</td>\n",
       "      <td>7.0</td>\n",
       "      <td>1</td>\n",
       "      <td></td>\n",
       "      <td>35.0</td>\n",
       "      <td>1</td>\n",
       "      <td>1</td>\n",
       "      <td>2</td>\n",
       "      <td>...</td>\n",
       "      <td>25.0</td>\n",
       "      <td>1.0</td>\n",
       "      <td>1.0</td>\n",
       "      <td>1.0</td>\n",
       "      <td>1.0</td>\n",
       "      <td>1.0</td>\n",
       "      <td>1.0</td>\n",
       "      <td>1.0</td>\n",
       "      <td>True</td>\n",
       "      <td>30-39</td>\n",
       "    </tr>\n",
       "  </tbody>\n",
       "</table>\n",
       "<p>800000 rows × 123 columns</p>\n",
       "</div>"
      ],
      "text/plain": [
       "        birth_year  birth_month birth_time  birth_day_of_wk birth_place  \\\n",
       "200000      2014.0          9.0       1101              2.0           1   \n",
       "200001      2014.0          9.0        940              2.0           1   \n",
       "200002      2014.0         11.0       1843              1.0           1   \n",
       "200003      2014.0          1.0        734              4.0           1   \n",
       "200004      2014.0          7.0       1752              4.0           1   \n",
       "...            ...          ...        ...              ...         ...   \n",
       "999995      2017.0         10.0        752              3.0           1   \n",
       "999996      2017.0          6.0        652              6.0           1   \n",
       "999997      2017.0          1.0       1102              7.0           1   \n",
       "999998      2017.0         12.0       1332              3.0           1   \n",
       "999999      2017.0         11.0       1553              7.0           1   \n",
       "\n",
       "       mothers_age_imputed  mothers_age mothers_nativity  \\\n",
       "200000                             34.0              1.0   \n",
       "200001                             22.0              1.0   \n",
       "200002                             38.0              2.0   \n",
       "200003                             29.0              1.0   \n",
       "200004                             28.0              1.0   \n",
       "...                    ...          ...              ...   \n",
       "999995                             28.0                1   \n",
       "999996                             20.0                1   \n",
       "999997                             24.0                2   \n",
       "999998                             33.0                1   \n",
       "999999                             35.0                1   \n",
       "\n",
       "       mothers_residence_status mothers_race  ... weight_gain  \\\n",
       "200000                      1.0            1  ...         NaN   \n",
       "200001                      1.0            2  ...         NaN   \n",
       "200002                      1.0            1  ...         NaN   \n",
       "200003                      2.0            1  ...         NaN   \n",
       "200004                      2.0            1  ...         NaN   \n",
       "...                         ...          ...  ...         ...   \n",
       "999995                        1            1  ...        30.0   \n",
       "999996                        1            1  ...        20.0   \n",
       "999997                        1            1  ...         0.0   \n",
       "999998                        2            2  ...        12.0   \n",
       "999999                        1            2  ...        25.0   \n",
       "\n",
       "       weight_gain_reporting pre_preg_diab_reporting gest_diab_reporting  \\\n",
       "200000                   NaN                     NaN                 NaN   \n",
       "200001                   NaN                     NaN                 NaN   \n",
       "200002                   NaN                     NaN                 NaN   \n",
       "200003                   NaN                     NaN                 NaN   \n",
       "200004                   NaN                     NaN                 NaN   \n",
       "...                      ...                     ...                 ...   \n",
       "999995                   1.0                     1.0                 1.0   \n",
       "999996                   1.0                     1.0                 1.0   \n",
       "999997                   1.0                     1.0                 1.0   \n",
       "999998                   1.0                     1.0                 1.0   \n",
       "999999                   1.0                     1.0                 1.0   \n",
       "\n",
       "       pre_preg_hypten_reporting gest_hypten_reporting hypten_ecl_reporting  \\\n",
       "200000                       NaN                   NaN                  NaN   \n",
       "200001                       NaN                   NaN                  NaN   \n",
       "200002                       NaN                   NaN                  NaN   \n",
       "200003                       NaN                   NaN                  NaN   \n",
       "200004                       NaN                   NaN                  NaN   \n",
       "...                          ...                   ...                  ...   \n",
       "999995                       1.0                   1.0                  1.0   \n",
       "999996                       1.0                   1.0                  1.0   \n",
       "999997                       1.0                   1.0                  1.0   \n",
       "999998                       1.0                   1.0                  1.0   \n",
       "999999                       1.0                   1.0                  1.0   \n",
       "\n",
       "       prev_preterm_birth_reporting is_first_child mothers_age_groups  \n",
       "200000                          NaN          False              30-39  \n",
       "200001                          NaN           True              20-29  \n",
       "200002                          NaN          False              30-39  \n",
       "200003                          NaN           True              20-29  \n",
       "200004                          NaN          False              20-29  \n",
       "...                             ...            ...                ...  \n",
       "999995                          1.0          False              20-29  \n",
       "999996                          1.0          False              12-19  \n",
       "999997                          1.0          False              20-29  \n",
       "999998                          1.0          False              30-39  \n",
       "999999                          1.0           True              30-39  \n",
       "\n",
       "[800000 rows x 123 columns]"
      ]
     },
     "execution_count": 279,
     "metadata": {},
     "output_type": "execute_result"
    }
   ],
   "source": [
    "dfNo13 = totDF.loc[totDF['birth_year'] != 2013.0]\n",
    "dfNo13 = dfNo13.drop(totDF.columns[0:2],axis=1)\n",
    "dfNo13.drop(4933,axis=0,inplace=True)\n",
    "dfNo13"
   ]
  },
  {
   "cell_type": "code",
   "execution_count": 14,
   "metadata": {},
   "outputs": [],
   "source": [
    "def plot_gpYR(df,col,xlab,ylab,title,kind='line'):\n",
    "    groupDF = df.groupby('birth_year')[col].value_counts().unstack()\n",
    "    plt.figure(figsize=(20,20))\n",
    "    groupDF.plot(kind=kind,logy=True, legend=True)\n",
    "    plt.xlabel(xlab)\n",
    "    plt.ylabel(ylab)\n",
    "    plt.title(title)\n",
    "    return"
   ]
  },
  {
   "cell_type": "code",
   "execution_count": 36,
   "metadata": {},
   "outputs": [],
   "source": [
    "def val_check(data_frame, column_name = str):\n",
    "    df = pd.DataFrame(data_frame)\n",
    "    col = column_name\n",
    "    print( \"Value counts of %s \\n\" %(col), df[col].value_counts())\n",
    "    print(\"Value counts of %s by year \\n\" %(col), df.groupby(['birth_year'])[col].value_counts())"
   ]
  },
  {
   "cell_type": "code",
   "execution_count": 282,
   "metadata": {},
   "outputs": [],
   "source": [
    "def clean_col (df,groups):\n",
    "    df = df.mask(df == ' ')\n",
    "\n",
    "    numerics = ['int16', 'int32', 'int64']\n",
    "    if df[groups].dtypes == numerics:\n",
    "        df[groups] = list(map(lambda g: df[g].astype(float),groups))        \n",
    "    return df"
   ]
  },
  {
   "cell_type": "code",
   "execution_count": 7,
   "metadata": {
    "collapsed": true
   },
   "outputs": [
    {
     "data": {
      "text/plain": [
       "29.0    62148\n",
       "30.0    62040\n",
       "31.0    60902\n",
       "28.0    60551\n",
       "27.0    58275\n",
       "32.0    57239\n",
       "26.0    55667\n",
       "25.0    52809\n",
       "33.0    52572\n",
       "24.0    49267\n",
       "34.0    47075\n",
       "23.0    45499\n",
       "22.0    41938\n",
       "35.0    41114\n",
       "21.0    36802\n",
       "36.0    34269\n",
       "20.0    32124\n",
       "37.0    27026\n",
       "19.0    24990\n",
       "38.0    20811\n",
       "39.0    15950\n",
       "18.0    14958\n",
       "40.0    11410\n",
       "17.0     8124\n",
       "41.0     7915\n",
       "42.0     5053\n",
       "16.0     4128\n",
       "43.0     3036\n",
       "44.0     1799\n",
       "15.0     1669\n",
       "45.0     1032\n",
       "46.0      489\n",
       "14.0      461\n",
       "47.0      282\n",
       "50.0      183\n",
       "48.0      173\n",
       "49.0      118\n",
       "13.0       85\n",
       "12.0       17\n",
       "Name: mothers_age, dtype: int64"
      ]
     },
     "execution_count": 7,
     "metadata": {},
     "output_type": "execute_result"
    }
   ],
   "source": [
    "totDF['mothers_age'].value_counts()\n",
    "totDF.plot()"
   ]
  },
  {
   "cell_type": "markdown",
   "metadata": {},
   "source": [
    "#### Create a new feature that for mothers first child"
   ]
  },
  {
   "cell_type": "code",
   "execution_count": 15,
   "metadata": {},
   "outputs": [],
   "source": [
    "totDF['is_first_child'] = (totDF['prior_living_births']+totDF['prior_dead_births']+totDF['prior_terminations']) <= 0"
   ]
  },
  {
   "cell_type": "markdown",
   "metadata": {},
   "source": [
    "#### Bool mask\n",
    "Only include rows where it is the mother's first child\n"
   ]
  },
  {
   "cell_type": "code",
   "execution_count": 16,
   "metadata": {},
   "outputs": [
    {
     "name": "stdout",
     "output_type": "stream",
     "text": [
      "Wall time: 34.3 s\n"
     ]
    }
   ],
   "source": [
    "%time first_child = totDF.mask(totDF['is_first_child'] == False)\n",
    "# print(first_child['mothers_age_groups'].value_counts())\n",
    "# print(totDF['mothers_age_groups'].value_counts())"
   ]
  },
  {
   "cell_type": "markdown",
   "metadata": {},
   "source": [
    "#### Create a new feature of mothers age in a range"
   ]
  },
  {
   "cell_type": "code",
   "execution_count": 8,
   "metadata": {},
   "outputs": [],
   "source": [
    "totDF['mothers_age_groups']= pd.cut(totDF['mothers_age'], 4, labels = ['12-19', '20-29', '30-39','40-50'])"
   ]
  },
  {
   "cell_type": "code",
   "execution_count": 23,
   "metadata": {
    "scrolled": true
   },
   "outputs": [
    {
     "data": {
      "text/plain": [
       "0         1.0\n",
       "1         1.0\n",
       "2         1.0\n",
       "3         1.0\n",
       "4         1.0\n",
       "         ... \n",
       "999995    1.0\n",
       "999996    1.0\n",
       "999997    1.0\n",
       "999998    1.0\n",
       "999999    1.0\n",
       "Name: plurality, Length: 1000000, dtype: float64"
      ]
     },
     "execution_count": 23,
     "metadata": {},
     "output_type": "execute_result"
    }
   ],
   "source": [
    "totDF['plurality']#.value_counts()"
   ]
  },
  {
   "cell_type": "code",
   "execution_count": 19,
   "metadata": {},
   "outputs": [
    {
     "data": {
      "text/plain": [
       "plurality  birth_year\n",
       "1.0        2018.0        193296\n",
       "           2015.0        193111\n",
       "           2014.0        193055\n",
       "           2016.0        193050\n",
       "           2017.0        193025\n",
       "2.0        2017.0          6774\n",
       "           2014.0          6736\n",
       "           2016.0          6724\n",
       "           2015.0          6677\n",
       "           2018.0          6541\n",
       "3.0        2016.0           214\n",
       "           2014.0           200\n",
       "           2015.0           197\n",
       "           2017.0           195\n",
       "           2018.0           158\n",
       "4.0        2015.0            14\n",
       "           2016.0            11\n",
       "           2014.0             7\n",
       "           2017.0             5\n",
       "           2018.0             5\n",
       "5.0        2014.0             2\n",
       "           2015.0             1\n",
       "           2016.0             1\n",
       "           2017.0             1\n",
       "Name: birth_year, dtype: int64"
      ]
     },
     "execution_count": 19,
     "metadata": {},
     "output_type": "execute_result"
    }
   ],
   "source": [
    "totDF.groupby('plurality')['birth_year'].value_counts()"
   ]
  },
  {
   "cell_type": "markdown",
   "metadata": {},
   "source": [
    "### Time Series Graphs"
   ]
  },
  {
   "cell_type": "code",
   "execution_count": 17,
   "metadata": {
    "scrolled": true
   },
   "outputs": [
    {
     "data": {
      "text/plain": [
       "<Figure size 1440x1440 with 0 Axes>"
      ]
     },
     "metadata": {},
     "output_type": "display_data"
    },
    {
     "data": {
      "image/png": "[encoded data removed]",
      "text/plain": [
       "<Figure size 432x288 with 1 Axes>"
      ]
     },
     "metadata": {
      "needs_background": "light"
     },
     "output_type": "display_data"
    }
   ],
   "source": [
    "plot_gpYR(first_child,'mothers_age_groups','Year of birth',\n",
    "          'Age of first Child','Mothers first child per year')"
   ]
  },
  {
   "cell_type": "code",
   "execution_count": 11,
   "metadata": {},
   "outputs": [
    {
     "data": {
      "text/plain": [
       "<Figure size 1440x1440 with 0 Axes>"
      ]
     },
     "metadata": {},
     "output_type": "display_data"
    },
    {
     "data": {
      "image/png": "[encoded data removed]",
      "text/plain": [
       "<Figure size 432x288 with 1 Axes>"
      ]
     },
     "metadata": {
      "needs_background": "light"
     },
     "output_type": "display_data"
    }
   ],
   "source": [
    "plot_gpYR(totDF,'mothers_age_groups','Year of birth',\n",
    "        'Mothers Age','Mothers age when she gave birth')"
   ]
  },
  {
   "cell_type": "code",
   "execution_count": 12,
   "metadata": {},
   "outputs": [
    {
     "data": {
      "text/plain": [
       "<Figure size 1440x1440 with 0 Axes>"
      ]
     },
     "metadata": {},
     "output_type": "display_data"
    },
    {
     "data": {
      "image/png": "[encoded data removed]",
      "text/plain": [
       "<Figure size 432x288 with 1 Axes>"
      ]
     },
     "metadata": {
      "needs_background": "light"
     },
     "output_type": "display_data"
    }
   ],
   "source": [
    "plot_gpYR(totDF,'plurality','Years of birth',\n",
    "          'Number of cases of Plurality', 'Plurality per year')"
   ]
  },
  {
   "cell_type": "code",
   "execution_count": 18,
   "metadata": {},
   "outputs": [
    {
     "data": {
      "text/plain": [
       "<Figure size 1440x1440 with 0 Axes>"
      ]
     },
     "metadata": {},
     "output_type": "display_data"
    },
    {
     "data": {
      "image/png": "[encoded data removed]",
      "text/plain": [
       "<Figure size 432x288 with 1 Axes>"
      ]
     },
     "metadata": {
      "needs_background": "light"
     },
     "output_type": "display_data"
    }
   ],
   "source": [
    "plot_gpYR(totDF,'plurality','Years of birth',\n",
    "          'Number of cases of Plurality','Plurality per year',kind='bar')"
   ]
  }
 ],
 "metadata": {
  "kernelspec": {
   "display_name": "Python 3",
   "language": "python",
   "name": "python3"
  },
  "language_info": {
   "codemirror_mode": {
    "name": "ipython",
    "version": 3
   },
   "file_extension": ".py",
   "mimetype": "text/x-python",
   "name": "python",
   "nbconvert_exporter": "python",
   "pygments_lexer": "ipython3",
   "version": "3.7.4"
  }
 },
 "nbformat": 4,
 "nbformat_minor": 2
}
