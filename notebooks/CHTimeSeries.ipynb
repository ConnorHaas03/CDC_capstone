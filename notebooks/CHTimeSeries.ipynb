{
 "cells": [
  {
   "cell_type": "code",
   "execution_count": 1,
   "metadata": {},
   "outputs": [],
   "source": [
    "import pandas as pd\n",
    "import numpy as np\n",
    "import matplotlib.pyplot as plt\n",
    "#import seaborn as sns"
   ]
  },
  {
   "cell_type": "code",
   "execution_count": 2,
   "metadata": {},
   "outputs": [],
   "source": [
    "totDF = pd.read_csv('../data/raw/Cleaned_data_set.csv')\n",
    "#totClean = totClean.drop(totClean.columns[0],axis=1)#.reset_index()"
   ]
  },
  {
   "cell_type": "code",
   "execution_count": null,
   "metadata": {},
   "outputs": [],
   "source": [
    "totClean['mothers_age'].value_counts()"
   ]
  },
  {
   "cell_type": "code",
   "execution_count": 5,
   "metadata": {},
   "outputs": [],
   "source": [
    "totDF['admit_NICU'] = totDF['admit_NICU'].replace(' ', 'U')"
   ]
  },
  {
   "cell_type": "code",
   "execution_count": 6,
   "metadata": {},
   "outputs": [],
   "source": [
    "totDF['mothers_bmi'] = pd.to_numeric(totDF['mothers_bmi'], errors = 'coerce')\n",
    "totDF['mother_bmirecode'] = pd.cut(totDF['mothers_bmi'],[19.0, 25.0,30.0,35.0,40.0,90.0], right = False)"
   ]
  },
  {
   "cell_type": "code",
   "execution_count": null,
   "metadata": {},
   "outputs": [],
   "source": [
    "val_check(totDF,'mothers_bmi_recode')"
   ]
  },
  {
   "cell_type": "code",
   "execution_count": null,
   "metadata": {},
   "outputs": [],
   "source": [
    "print(totDF['mothers_bmi_recode'].value_counts())\n",
    "print(totDF['mothers_bmi_recode'].count())\n",
    "print(totClean['mothers_bmi_recode'].value_counts())\n",
    "print(totClean['mothers_bmi_recode'].count())"
   ]
  },
  {
   "cell_type": "code",
   "execution_count": null,
   "metadata": {},
   "outputs": [],
   "source": [
    "print(totDF['mothers_bmi'].value_counts())\n",
    "print(totDF['mothers_bmi'].count())\n",
    "print(totClean['mothers_bmi'].value_counts())\n",
    "print(totClean['mothers_bmi'].count())"
   ]
  },
  {
   "cell_type": "markdown",
   "metadata": {},
   "source": [
    "### Values to do analysis on\n",
    "\n",
    " Mom age\n",
    " \n",
    " Mom’s age to first baby\n",
    " \n",
    " Multiple Births\n",
    " \n",
    " Plurality\n",
    " \n",
    " BMI / Mom’s weight / weight gain M&C\n",
    " \n",
    " previous children - if prior_living_births, prior_dead_births, prior_terminations\n",
    " \n",
    " mean of mothers age vs mean of first child birthed"
   ]
  },
  {
   "cell_type": "markdown",
   "metadata": {},
   "source": [
    "#### Only include 2014-2017"
   ]
  },
  {
   "cell_type": "code",
   "execution_count": 5,
   "metadata": {},
   "outputs": [
    {
     "ename": "NameError",
     "evalue": "name 'totDF' is not defined",
     "output_type": "error",
     "traceback": [
      "\u001b[0;31m---------------------------------------------------------------------------\u001b[0m",
      "\u001b[0;31mNameError\u001b[0m                                 Traceback (most recent call last)",
      "\u001b[0;32m<ipython-input-5-1cadb4c6ee83>\u001b[0m in \u001b[0;36m<module>\u001b[0;34m\u001b[0m\n\u001b[0;32m----> 1\u001b[0;31m \u001b[0mtotDF\u001b[0m\u001b[0;34m[\u001b[0m\u001b[0;34m'mothers_bmi_recode'\u001b[0m\u001b[0;34m]\u001b[0m\u001b[0;34m\u001b[0m\u001b[0;34m\u001b[0m\u001b[0m\n\u001b[0m",
      "\u001b[0;31mNameError\u001b[0m: name 'totDF' is not defined"
     ]
    }
   ],
   "source": [
    "totDF['mothers_bmi_recode']"
   ]
  },
  {
   "cell_type": "code",
   "execution_count": 6,
   "metadata": {},
   "outputs": [
    {
     "ename": "NameError",
     "evalue": "name 'totDF' is not defined",
     "output_type": "error",
     "traceback": [
      "\u001b[0;31m---------------------------------------------------------------------------\u001b[0m",
      "\u001b[0;31mNameError\u001b[0m                                 Traceback (most recent call last)",
      "\u001b[0;32m<ipython-input-6-11b14c2b62e7>\u001b[0m in \u001b[0;36m<module>\u001b[0;34m\u001b[0m\n\u001b[0;32m----> 1\u001b[0;31m \u001b[0mdfNo13\u001b[0m \u001b[0;34m=\u001b[0m \u001b[0mtotDF\u001b[0m\u001b[0;34m.\u001b[0m\u001b[0mloc\u001b[0m\u001b[0;34m[\u001b[0m\u001b[0mtotDF\u001b[0m\u001b[0;34m[\u001b[0m\u001b[0;34m'birth_year'\u001b[0m\u001b[0;34m]\u001b[0m \u001b[0;34m!=\u001b[0m \u001b[0;36m2013.0\u001b[0m\u001b[0;34m]\u001b[0m\u001b[0;34m\u001b[0m\u001b[0;34m\u001b[0m\u001b[0m\n\u001b[0m\u001b[1;32m      2\u001b[0m \u001b[0mdfNo13\u001b[0m \u001b[0;34m=\u001b[0m \u001b[0mdfNo13\u001b[0m\u001b[0;34m.\u001b[0m\u001b[0mdrop\u001b[0m\u001b[0;34m(\u001b[0m\u001b[0mtotDF\u001b[0m\u001b[0;34m.\u001b[0m\u001b[0mcolumns\u001b[0m\u001b[0;34m[\u001b[0m\u001b[0;36m0\u001b[0m\u001b[0;34m:\u001b[0m\u001b[0;36m2\u001b[0m\u001b[0;34m]\u001b[0m\u001b[0;34m,\u001b[0m\u001b[0maxis\u001b[0m\u001b[0;34m=\u001b[0m\u001b[0;36m1\u001b[0m\u001b[0;34m)\u001b[0m\u001b[0;34m\u001b[0m\u001b[0;34m\u001b[0m\u001b[0m\n\u001b[1;32m      3\u001b[0m \u001b[0mdfNo13\u001b[0m\u001b[0;34m.\u001b[0m\u001b[0mdrop\u001b[0m\u001b[0;34m(\u001b[0m\u001b[0;36m4933\u001b[0m\u001b[0;34m,\u001b[0m\u001b[0maxis\u001b[0m\u001b[0;34m=\u001b[0m\u001b[0;36m0\u001b[0m\u001b[0;34m,\u001b[0m\u001b[0minplace\u001b[0m\u001b[0;34m=\u001b[0m\u001b[0;32mTrue\u001b[0m\u001b[0;34m)\u001b[0m\u001b[0;34m\u001b[0m\u001b[0;34m\u001b[0m\u001b[0m\n\u001b[1;32m      4\u001b[0m \u001b[0mdfNo13\u001b[0m\u001b[0;34m\u001b[0m\u001b[0;34m\u001b[0m\u001b[0m\n",
      "\u001b[0;31mNameError\u001b[0m: name 'totDF' is not defined"
     ]
    }
   ],
   "source": [
    "dfNo13 = totDF.loc[totDF['birth_year'] != 2013.0]\n",
    "dfNo13 = dfNo13.drop(totDF.columns[0:2],axis=1)\n",
    "dfNo13.drop(4933,axis=0,inplace=True)\n",
    "dfNo13"
   ]
  },
  {
   "cell_type": "code",
   "execution_count": 7,
   "metadata": {},
   "outputs": [],
   "source": [
    "def plot_gpYR(df,col,xlab,ylab,title,kind='line'):\n",
    "    groupDF = df.groupby('birth_year')[col].value_counts().unstack()\n",
    "    plt.figure(figsize=(20,20))\n",
    "    groupDF.plot(kind=kind,logy=True, legend=True)\n",
    "    plt.xlabel(xlab)\n",
    "    plt.ylabel(ylab)\n",
    "    plt.title(title)\n",
    "    return"
   ]
  },
  {
   "cell_type": "code",
   "execution_count": 8,
   "metadata": {},
   "outputs": [],
   "source": [
    "def val_check(data_frame, column_name = str):\n",
    "    df = pd.DataFrame(data_frame)\n",
    "    col = column_name\n",
    "    print( \"Value counts of %s \\n\" %(col), df[col].value_counts())\n",
    "    print(\"Value counts of %s by year \\n\" %(col), df.groupby(['birth_year'])[col].value_counts())"
   ]
  },
  {
   "cell_type": "code",
   "execution_count": 9,
   "metadata": {},
   "outputs": [],
   "source": [
    "def clean_col (df,groups):\n",
    "    df = df.mask(df == ' ')\n",
    "\n",
    "    numerics = ['int16', 'int32', 'int64']\n",
    "    if df[groups].dtypes == numerics:\n",
    "        df[groups] = list(map(lambda g: df[g].astype(float),groups))        \n",
    "    return df"
   ]
  },
  {
   "cell_type": "code",
   "execution_count": 10,
   "metadata": {},
   "outputs": [
    {
     "ename": "NameError",
     "evalue": "name 'totDF' is not defined",
     "output_type": "error",
     "traceback": [
      "\u001b[0;31m---------------------------------------------------------------------------\u001b[0m",
      "\u001b[0;31mNameError\u001b[0m                                 Traceback (most recent call last)",
      "\u001b[0;32m<ipython-input-10-b8d05d9c3d1a>\u001b[0m in \u001b[0;36m<module>\u001b[0;34m\u001b[0m\n\u001b[0;32m----> 1\u001b[0;31m \u001b[0mtotDF\u001b[0m\u001b[0;34m[\u001b[0m\u001b[0;34m'mothers_age'\u001b[0m\u001b[0;34m]\u001b[0m\u001b[0;34m.\u001b[0m\u001b[0mvalue_counts\u001b[0m\u001b[0;34m(\u001b[0m\u001b[0;34m)\u001b[0m\u001b[0;34m\u001b[0m\u001b[0;34m\u001b[0m\u001b[0m\n\u001b[0m\u001b[1;32m      2\u001b[0m \u001b[0mtotDF\u001b[0m\u001b[0;34m.\u001b[0m\u001b[0mplot\u001b[0m\u001b[0;34m(\u001b[0m\u001b[0;34m)\u001b[0m\u001b[0;34m\u001b[0m\u001b[0;34m\u001b[0m\u001b[0m\n",
      "\u001b[0;31mNameError\u001b[0m: name 'totDF' is not defined"
     ]
    }
   ],
   "source": [
    "totDF['mothers_age'].value_counts()\n",
    "totDF.plot()"
   ]
  },
  {
   "cell_type": "markdown",
   "metadata": {},
   "source": [
    "#### Create a new feature that for mothers first child"
   ]
  },
  {
   "cell_type": "code",
   "execution_count": 8,
   "metadata": {},
   "outputs": [
    {
     "ename": "ModuleNotFoundError",
     "evalue": "No module named 'numpy.core._multiarray_umath'",
     "output_type": "error",
     "traceback": [
      "\u001b[1;31m---------------------------------------------------------------------------\u001b[0m",
      "\u001b[1;31mModuleNotFoundError\u001b[0m                       Traceback (most recent call last)",
      "\u001b[1;31mModuleNotFoundError\u001b[0m: No module named 'numpy.core._multiarray_umath'"
     ]
    }
   ],
   "source": [
    "totDF['is_first_child'] = (totDF['prior_living_births']+totDF['prior_dead_births']+totDF['prior_terminations']) <= 0"
   ]
  },
  {
   "cell_type": "markdown",
   "metadata": {},
   "source": [
    "#### Create a new feature of mothers age in a range"
   ]
  },
  {
   "cell_type": "code",
   "execution_count": 13,
   "metadata": {},
   "outputs": [],
   "source": [
    "totDF['mothers_age_groups']= pd.cut(totDF['mothers_age'], 4, labels = ['12-19', '20-29', '30-39','40-50'])"
   ]
  },
  {
   "cell_type": "code",
   "execution_count": null,
   "metadata": {
    "scrolled": true
   },
   "outputs": [],
   "source": [
    "totDF['plurality']#.value_counts()"
   ]
  },
  {
   "cell_type": "code",
   "execution_count": 22,
   "metadata": {},
   "outputs": [
    {
     "data": {
      "text/html": [
       "<div>\n",
       "<style scoped>\n",
       "    .dataframe tbody tr th:only-of-type {\n",
       "        vertical-align: middle;\n",
       "    }\n",
       "\n",
       "    .dataframe tbody tr th {\n",
       "        vertical-align: top;\n",
       "    }\n",
       "\n",
       "    .dataframe thead th {\n",
       "        text-align: right;\n",
       "    }\n",
       "</style>\n",
       "<table border=\"1\" class=\"dataframe\">\n",
       "  <thead>\n",
       "    <tr style=\"text-align: right;\">\n",
       "      <th></th>\n",
       "      <th>birth_year</th>\n",
       "      <th>birth_month</th>\n",
       "      <th>birth_time</th>\n",
       "      <th>birth_day_of_wk</th>\n",
       "      <th>birth_place</th>\n",
       "      <th>mothers_age</th>\n",
       "      <th>mothers_nativity</th>\n",
       "      <th>mothers_residence_status</th>\n",
       "      <th>mothers_race</th>\n",
       "      <th>mothers_hispanic_origin</th>\n",
       "      <th>...</th>\n",
       "      <th>weight_gain_reporting</th>\n",
       "      <th>pre_preg_diab_reporting</th>\n",
       "      <th>gest_diab_reporting</th>\n",
       "      <th>pre_preg_hypten_reporting</th>\n",
       "      <th>gest_hypten_reporting</th>\n",
       "      <th>hypten_ecl_reporting</th>\n",
       "      <th>prev_preterm_birth_reporting</th>\n",
       "      <th>mother_bmirecode</th>\n",
       "      <th>is_first_child</th>\n",
       "      <th>mothers_age_groups</th>\n",
       "    </tr>\n",
       "  </thead>\n",
       "  <tbody>\n",
       "    <tr>\n",
       "      <td>98942</td>\n",
       "      <td>2014</td>\n",
       "      <td>6</td>\n",
       "      <td>817</td>\n",
       "      <td>6</td>\n",
       "      <td>1</td>\n",
       "      <td>25</td>\n",
       "      <td>1</td>\n",
       "      <td>3</td>\n",
       "      <td>1</td>\n",
       "      <td>9</td>\n",
       "      <td>...</td>\n",
       "      <td>0</td>\n",
       "      <td>0</td>\n",
       "      <td>0.0</td>\n",
       "      <td>0</td>\n",
       "      <td>0.0</td>\n",
       "      <td>0</td>\n",
       "      <td>0</td>\n",
       "      <td>[30.0, 35.0)</td>\n",
       "      <td>False</td>\n",
       "      <td>20-29</td>\n",
       "    </tr>\n",
       "    <tr>\n",
       "      <td>106020</td>\n",
       "      <td>2014</td>\n",
       "      <td>9</td>\n",
       "      <td>1117</td>\n",
       "      <td>4</td>\n",
       "      <td>1</td>\n",
       "      <td>28</td>\n",
       "      <td>1</td>\n",
       "      <td>2</td>\n",
       "      <td>1</td>\n",
       "      <td>9</td>\n",
       "      <td>...</td>\n",
       "      <td>0</td>\n",
       "      <td>0</td>\n",
       "      <td>0.0</td>\n",
       "      <td>0</td>\n",
       "      <td>0.0</td>\n",
       "      <td>0</td>\n",
       "      <td>0</td>\n",
       "      <td>[19.0, 25.0)</td>\n",
       "      <td>False</td>\n",
       "      <td>20-29</td>\n",
       "    </tr>\n",
       "    <tr>\n",
       "      <td>217573</td>\n",
       "      <td>2015</td>\n",
       "      <td>10</td>\n",
       "      <td>1703</td>\n",
       "      <td>7</td>\n",
       "      <td>1</td>\n",
       "      <td>37</td>\n",
       "      <td>1</td>\n",
       "      <td>1</td>\n",
       "      <td>25</td>\n",
       "      <td>9</td>\n",
       "      <td>...</td>\n",
       "      <td>0</td>\n",
       "      <td>0</td>\n",
       "      <td>0.0</td>\n",
       "      <td>0</td>\n",
       "      <td>0.0</td>\n",
       "      <td>0</td>\n",
       "      <td>0</td>\n",
       "      <td>[35.0, 40.0)</td>\n",
       "      <td>False</td>\n",
       "      <td>30-39</td>\n",
       "    </tr>\n",
       "    <tr>\n",
       "      <td>502458</td>\n",
       "      <td>2016</td>\n",
       "      <td>11</td>\n",
       "      <td>2353</td>\n",
       "      <td>6</td>\n",
       "      <td>1</td>\n",
       "      <td>26</td>\n",
       "      <td>1</td>\n",
       "      <td>1</td>\n",
       "      <td>1</td>\n",
       "      <td>0</td>\n",
       "      <td>...</td>\n",
       "      <td>1</td>\n",
       "      <td>1</td>\n",
       "      <td>1.0</td>\n",
       "      <td>1</td>\n",
       "      <td>1.0</td>\n",
       "      <td>1</td>\n",
       "      <td>1</td>\n",
       "      <td>[19.0, 25.0)</td>\n",
       "      <td>True</td>\n",
       "      <td>20-29</td>\n",
       "    </tr>\n",
       "    <tr>\n",
       "      <td>644233</td>\n",
       "      <td>2017</td>\n",
       "      <td>5</td>\n",
       "      <td>1401</td>\n",
       "      <td>3</td>\n",
       "      <td>1</td>\n",
       "      <td>29</td>\n",
       "      <td>1</td>\n",
       "      <td>2</td>\n",
       "      <td>1</td>\n",
       "      <td>0</td>\n",
       "      <td>...</td>\n",
       "      <td>1</td>\n",
       "      <td>1</td>\n",
       "      <td>1.0</td>\n",
       "      <td>1</td>\n",
       "      <td>1.0</td>\n",
       "      <td>1</td>\n",
       "      <td>1</td>\n",
       "      <td>[30.0, 35.0)</td>\n",
       "      <td>True</td>\n",
       "      <td>20-29</td>\n",
       "    </tr>\n",
       "  </tbody>\n",
       "</table>\n",
       "<p>5 rows × 117 columns</p>\n",
       "</div>"
      ],
      "text/plain": [
       "        birth_year  birth_month  birth_time  birth_day_of_wk  birth_place  \\\n",
       "98942         2014            6         817                6            1   \n",
       "106020        2014            9        1117                4            1   \n",
       "217573        2015           10        1703                7            1   \n",
       "502458        2016           11        2353                6            1   \n",
       "644233        2017            5        1401                3            1   \n",
       "\n",
       "        mothers_age  mothers_nativity  mothers_residence_status  mothers_race  \\\n",
       "98942            25                 1                         3             1   \n",
       "106020           28                 1                         2             1   \n",
       "217573           37                 1                         1            25   \n",
       "502458           26                 1                         1             1   \n",
       "644233           29                 1                         2             1   \n",
       "\n",
       "        mothers_hispanic_origin  ...  weight_gain_reporting  \\\n",
       "98942                         9  ...                      0   \n",
       "106020                        9  ...                      0   \n",
       "217573                        9  ...                      0   \n",
       "502458                        0  ...                      1   \n",
       "644233                        0  ...                      1   \n",
       "\n",
       "       pre_preg_diab_reporting  gest_diab_reporting  \\\n",
       "98942                        0                  0.0   \n",
       "106020                       0                  0.0   \n",
       "217573                       0                  0.0   \n",
       "502458                       1                  1.0   \n",
       "644233                       1                  1.0   \n",
       "\n",
       "        pre_preg_hypten_reporting  gest_hypten_reporting  \\\n",
       "98942                           0                    0.0   \n",
       "106020                          0                    0.0   \n",
       "217573                          0                    0.0   \n",
       "502458                          1                    1.0   \n",
       "644233                          1                    1.0   \n",
       "\n",
       "        hypten_ecl_reporting  prev_preterm_birth_reporting  mother_bmirecode  \\\n",
       "98942                      0                             0      [30.0, 35.0)   \n",
       "106020                     0                             0      [19.0, 25.0)   \n",
       "217573                     0                             0      [35.0, 40.0)   \n",
       "502458                     1                             1      [19.0, 25.0)   \n",
       "644233                     1                             1      [30.0, 35.0)   \n",
       "\n",
       "        is_first_child  mothers_age_groups  \n",
       "98942            False               20-29  \n",
       "106020           False               20-29  \n",
       "217573           False               30-39  \n",
       "502458            True               20-29  \n",
       "644233            True               20-29  \n",
       "\n",
       "[5 rows x 117 columns]"
      ]
     },
     "execution_count": 22,
     "metadata": {},
     "output_type": "execute_result"
    }
   ],
   "source": [
    "totDF.loc[totDF['plurality'] == 5]"
   ]
  },
  {
   "cell_type": "code",
   "execution_count": 21,
   "metadata": {},
   "outputs": [
    {
     "data": {
      "text/plain": [
       "plurality  birth_year\n",
       "1          2018          193296\n",
       "           2015          193111\n",
       "           2014          193055\n",
       "           2016          193050\n",
       "           2017          193025\n",
       "2          2017            6774\n",
       "           2014            6736\n",
       "           2016            6724\n",
       "           2015            6677\n",
       "           2018            6541\n",
       "3          2016             214\n",
       "           2014             200\n",
       "           2015             197\n",
       "           2017             195\n",
       "           2018             158\n",
       "4          2015              14\n",
       "           2016              11\n",
       "           2014               7\n",
       "           2017               5\n",
       "           2018               5\n",
       "5          2014               2\n",
       "           2015               1\n",
       "           2016               1\n",
       "           2017               1\n",
       "Name: birth_year, dtype: int64"
      ]
     },
     "execution_count": 21,
     "metadata": {},
     "output_type": "execute_result"
    }
   ],
   "source": [
    "totDF.groupby('plurality')['birth_year'].value_counts()"
   ]
  },
  {
   "cell_type": "markdown",
   "metadata": {},
   "source": [
    "#### Bool mask\n",
    "Only include rows where it is the mother's first child\n"
   ]
  },
  {
   "cell_type": "code",
   "execution_count": 15,
   "metadata": {},
   "outputs": [
    {
     "name": "stdout",
     "output_type": "stream",
     "text": [
      "Wall time: 14.6 s\n"
     ]
    }
   ],
   "source": [
    "%time first_child = totDF.mask(totDF['is_first_child'] == False)\n",
    "# print(first_child['mothers_age_groups'].value_counts())\n",
    "# print(totDF['mothers_age_groups'].value_counts())"
   ]
  },
  {
   "cell_type": "markdown",
   "metadata": {},
   "source": [
    "### Time Series Graphs"
   ]
  },
  {
   "cell_type": "code",
   "execution_count": 16,
   "metadata": {
    "scrolled": true
   },
   "outputs": [
    {
     "data": {
      "text/plain": [
       "<Figure size 1440x1440 with 0 Axes>"
      ]
     },
     "metadata": {},
     "output_type": "display_data"
    },
    {
     "data": {
      "image/png": "[encoded data removed]",
      "text/plain": [
       "<Figure size 432x288 with 1 Axes>"
      ]
     },
     "metadata": {
      "needs_background": "light"
     },
     "output_type": "display_data"
    }
   ],
   "source": [
    "plot_gpYR(first_child,'mothers_age_groups','Year of birth',\n",
    "          \"Mother's Age Group\",'Number of First Time Mothers, in Each Age Group ')\n",
    "plt.savefig('./Saved_Visualizations/mother_1stchild_ts.pdf')\n",
    "plt.savefig('./Saved_Visualizations/mother_1stchild_ts.png')"
   ]
  },
  {
   "cell_type": "code",
   "execution_count": 20,
   "metadata": {},
   "outputs": [
    {
     "data": {
      "text/plain": [
       "<Figure size 1440x1440 with 0 Axes>"
      ]
     },
     "metadata": {},
     "output_type": "display_data"
    },
    {
     "data": {
      "image/png": "[encoded data removed]",
      "text/plain": [
       "<Figure size 432x288 with 1 Axes>"
      ]
     },
     "metadata": {
      "needs_background": "light"
     },
     "output_type": "display_data"
    }
   ],
   "source": [
    "plot_gpYR(totDF,'mothers_age_groups','Year of birth',\n",
    "        'Mothers Age Groups','Ages of Mothers Having Children')\n",
    "\n",
    "plt.savefig('./Saved_Visualizations/mother_agegroup_ts.pdf')\n",
    "plt.savefig('./Saved_Visualizations/mother_agegroup_ts.png')"
   ]
  },
  {
   "cell_type": "code",
   "execution_count": 23,
   "metadata": {},
   "outputs": [
    {
     "data": {
      "text/plain": [
       "<Figure size 1440x1440 with 0 Axes>"
      ]
     },
     "metadata": {},
     "output_type": "display_data"
    },
    {
     "data": {
      "image/png": "[encoded data removed]",
      "text/plain": [
       "<Figure size 432x288 with 1 Axes>"
      ]
     },
     "metadata": {
      "needs_background": "light"
     },
     "output_type": "display_data"
    }
   ],
   "source": [
    "plot_gpYR(totDF,'plurality','Years of birth',\n",
    "          'Number of cases of Plurality', 'Plurality per year')\n",
    "plt.savefig('./Saved_Visualizations/plurality_ts.pdf')\n",
    "plt.savefig('./Saved_Visualizations/plurality_ts.png')"
   ]
  },
  {
   "cell_type": "code",
   "execution_count": 19,
   "metadata": {},
   "outputs": [
    {
     "data": {
      "text/plain": [
       "<Figure size 1440x1440 with 0 Axes>"
      ]
     },
     "metadata": {},
     "output_type": "display_data"
    },
    {
     "data": {
      "image/png": "[encoded data removed]",
      "text/plain": [
       "<Figure size 432x288 with 1 Axes>"
      ]
     },
     "metadata": {
      "needs_background": "light"
     },
     "output_type": "display_data"
    }
   ],
   "source": [
    "plot_gpYR(totDF,'plurality','Years of birth',\n",
    "          'Number of cases of Plurality','Plurality per year')#,kind='bar')"
   ]
  }
 ],
 "metadata": {
  "kernelspec": {
   "display_name": "Python 3",
   "language": "python",
   "name": "python3"
  },
  "language_info": {
   "codemirror_mode": {
    "name": "ipython",
    "version": 3
   },
   "file_extension": ".py",
   "mimetype": "text/x-python",
   "name": "python",
   "nbconvert_exporter": "python",
   "pygments_lexer": "ipython3",
   "version": "3.7.4"
  }
 },
 "nbformat": 4,
 "nbformat_minor": 2
}
