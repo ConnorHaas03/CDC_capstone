{
 "cells": [
  {
   "cell_type": "code",
   "execution_count": 1,
   "metadata": {},
   "outputs": [],
   "source": [
    "import pandas as pd\n",
    "import random as rn\n",
    "import numpy as np\n",
    "import re\n",
    "from sklearn.model_selection import GridSearchCV,cross_val_score\n",
    "from sklearn.metrics import r2_score, mean_squared_error, mean_absolute_error,accuracy_score\n",
    "from sklearn.ensemble import RandomForestClassifier\n",
    "from sklearn.preprocessing import LabelEncoder\n",
    "from sklearn import ensemble"
   ]
  },
  {
   "cell_type": "code",
   "execution_count": 2,
   "metadata": {},
   "outputs": [],
   "source": [
    "totDF = pd.read_csv('../data/raw/Cleaned_data_set.csv')"
   ]
  },
  {
   "cell_type": "code",
   "execution_count": 27,
   "metadata": {},
   "outputs": [],
   "source": [
    "#downsample\n",
    "sample_per_year = 100000\n",
    "dwnSmplDF = totDF.groupby('birth_year',group_keys = False).apply(lambda x: x.sample(sample_per_year))"
   ]
  },
  {
   "cell_type": "code",
   "execution_count": 28,
   "metadata": {},
   "outputs": [],
   "source": [
    "r1 = re.compile('.*reporting')\n",
    "r2 = re.compile('.*imputed')\n",
    "\n",
    "#to drop reporting, imputed and target column\n",
    "cols_to_drop1 = list(filter((r1.match), totDF.columns))\n",
    "cols_to_drop2 = list(filter((r2.match), totDF.columns))\n",
    "cols_to_drop3 = ['admit_NICU']\n",
    "cols_to_drop = cols_to_drop1 + cols_to_drop2 + cols_to_drop3\n",
    "\n",
    "#columns to keep\n",
    "cols_to_keep = [col for col in totDF.columns if col not in cols_to_drop]\n",
    "\n",
    "#create df w/ columns to keep and target admit_nicu\n",
    "X = dwnSmplDF[cols_to_keep].copy()\n",
    "target = dwnSmplDF[['admit_NICU']].copy()\n",
    "\n",
    "#select numeric and cat columns\n",
    "numerics = ['int16', 'int32', 'int64', 'float16', 'float32', 'float64']\n",
    "catDF = X.select_dtypes(include=object).copy()\n",
    "numDF = X.select_dtypes(include=numerics).copy()\n",
    "\n",
    "#Encode cat columns\n",
    "le = LabelEncoder()\n",
    "catDF = catDF.apply(le.fit_transform)\n",
    "encoded_target = target.apply(le.fit_transform)\n",
    "\n",
    "#concat numeric and encoded df\n",
    "cl_df = pd.concat([numDF,catDF],axis=1)"
   ]
  },
  {
   "cell_type": "code",
   "execution_count": null,
   "metadata": {},
   "outputs": [],
   "source": [
    "randomForest = ensemble.RandomForestClassifier()\n",
    "grid_para_forest = [{\n",
    "    'n_estimators': np.linspace(50,int(np.sqrt(len(cl_df))),10,dtype=int),\n",
    "   # 'n_estimators': range(1000,10000,1000),\n",
    "    #'min_samples_split' : [100,10,2],\n",
    "    'min_samples_leaf' : range(100,1000,100)\n",
    "}]\n",
    "randomForest.set_params(random_state=108)\n",
    "grid_search_forest = GridSearchCV(randomForest, grid_para_forest, scoring='accuracy', cv=5, n_jobs=-1)\n",
    "%time grid_search_forest.fit(cl_df, encoded_target)"
   ]
  },
  {
   "cell_type": "code",
   "execution_count": 13,
   "metadata": {},
   "outputs": [
    {
     "name": "stdout",
     "output_type": "stream",
     "text": [
      "Random Forest\n",
      "sample size: 10000\n",
      "best param : {'min_samples_leaf': 10, 'n_estimators': 50}\n",
      "best score : 0.9471\n",
      "r2         : 0.43563605469124156\n"
     ]
    }
   ],
   "source": [
    "print(\n",
    "    '''Random Forest\n",
    "sample size: {0}\n",
    "best param : {1}\n",
    "best score : {2}\n",
    "r2         : {3}'''\\\n",
    "      .format(len(encoded_target), \\\n",
    "              grid_search_forest.best_params_,\\\n",
    "              grid_search_forest.best_score_, \\\n",
    "              r2_score(encoded_target, grid_search_forest.predict(cl_df)))\n",
    "     )"
   ]
  },
  {
   "cell_type": "code",
   "execution_count": 20,
   "metadata": {},
   "outputs": [
    {
     "name": "stderr",
     "output_type": "stream",
     "text": [
      "C:\\Users\\conma\\Anaconda3\\lib\\site-packages\\ipykernel_launcher.py:4: DataConversionWarning: A column-vector y was passed when a 1d array was expected. Please change the shape of y to (n_samples,), for example using ravel().\n",
      "  after removing the cwd from sys.path.\n"
     ]
    },
    {
     "data": {
      "text/plain": [
       "RandomForestClassifier(bootstrap=True, class_weight=None, criterion='gini',\n",
       "                       max_depth=None, max_features='auto', max_leaf_nodes=None,\n",
       "                       min_impurity_decrease=0.0, min_impurity_split=None,\n",
       "                       min_samples_leaf=10, min_samples_split=2,\n",
       "                       min_weight_fraction_leaf=0.0, n_estimators=50, n_jobs=-1,\n",
       "                       oob_score=True, random_state=108, verbose=0,\n",
       "                       warm_start=False)"
      ]
     },
     "execution_count": 20,
     "metadata": {},
     "output_type": "execute_result"
    }
   ],
   "source": [
    "bestRF = ensemble.RandomForestClassifier()\n",
    "best_params = grid_search_forest.best_params_\n",
    "bestRF.set_params(best_params)\n",
    "bestRF.set_params(random_state=108,n_jobs= -1,oob_score = True)\n",
    "bestRF.fit(cl_df,encoded_target)"
   ]
  },
  {
   "cell_type": "code",
   "execution_count": 26,
   "metadata": {},
   "outputs": [
    {
     "name": "stdout",
     "output_type": "stream",
     "text": [
      "Random Forest\n",
      "OOB score: 0.9453\n",
      "Feature Importances: [2.67334658e-03 5.05518498e-03 8.95358333e-03 3.61323098e-03\n",
      " 8.41193731e-03 5.80861044e-03 1.07334275e-03 1.43582187e-03\n",
      " 1.71387008e-03 2.84158722e-03 2.35183189e-03 1.31102740e-03\n",
      " 3.33484680e-03 6.52643499e-03 2.48524092e-03 2.46499074e-03\n",
      " 2.55026924e-03 3.90223752e-03 2.81073006e-03 8.07718846e-05\n",
      " 1.05262174e-03 7.17873409e-03 2.05568965e-03 5.01173961e-03\n",
      " 8.61493657e-03 3.40719712e-04 3.15997645e-03 1.23689644e-03\n",
      " 4.19281551e-03 9.01583613e-03 7.79754067e-03 1.35611861e-02\n",
      " 7.65778470e-04 2.60899990e-03 2.19605989e-04 3.66373893e-03\n",
      " 1.73394293e-02 7.33542448e-04 1.72250624e-03 2.86597353e-02\n",
      " 5.80495928e-03 1.05017417e-02 5.48686756e-03 2.89297015e-03\n",
      " 7.93460317e-02 1.92508127e-01 1.09594346e-01 2.33364790e-02\n",
      " 1.56689313e-03 1.97351630e-03 3.51087445e-03 1.44193939e-03\n",
      " 7.03524291e-04 1.09668529e-03 6.97370984e-04 4.00837748e-04\n",
      " 8.45738045e-04 1.19191972e-03 9.05914347e-05 4.86356164e-04\n",
      " 2.06495575e-04 3.61283915e-03 1.37342814e-05 0.00000000e+00\n",
      " 1.98353087e-04 1.51344592e-03 3.24817807e-03 0.00000000e+00\n",
      " 6.96179509e-06 9.04048296e-04 7.88570540e-04 2.45341989e-02\n",
      " 2.14950153e-03 3.68413198e-03 1.58124866e-03 5.90420479e-03\n",
      " 1.63702160e-04 2.72230280e-03 0.00000000e+00 0.00000000e+00\n",
      " 4.49969501e-05 9.91385835e-04 1.81138791e-03 6.03864085e-02\n",
      " 3.93707945e-02 1.80236062e-02 8.70540437e-02 2.60773551e-03\n",
      " 1.83260388e-02 0.00000000e+00 6.03966515e-03 5.93459483e-03\n",
      " 1.80729440e-02 8.65637757e-03 3.30006581e-03 3.48709085e-03\n",
      " 1.01086357e-02 4.30111217e-03 6.45431111e-03 0.00000000e+00\n",
      " 1.86421784e-02 1.38215604e-03 1.96385687e-03]\n",
      "Score: <bound method ClassifierMixin.score of RandomForestClassifier(bootstrap=True, class_weight=None, criterion='gini',\n",
      "                       max_depth=None, max_features='auto', max_leaf_nodes=None,\n",
      "                       min_impurity_decrease=0.0, min_impurity_split=None,\n",
      "                       min_samples_leaf=10, min_samples_split=2,\n",
      "                       min_weight_fraction_leaf=0.0, n_estimators=50, n_jobs=-1,\n",
      "                       oob_score=True, random_state=108, verbose=0,\n",
      "                       warm_start=False)>\n"
     ]
    }
   ],
   "source": [
    "print(\n",
    "'''Random Forest\n",
    "OOB score: {0}\n",
    "Feature Importances: {1}\n",
    "Score: {2}'''\\\n",
    "        .format(bestRF.oob_score_,\n",
    "                bestRF.feature_importances_,\n",
    "                bestRF.score))"
   ]
  }
 ],
 "metadata": {
  "kernelspec": {
   "display_name": "Python 3",
   "language": "python",
   "name": "python3"
  },
  "language_info": {
   "codemirror_mode": {
    "name": "ipython",
    "version": 3
   },
   "file_extension": ".py",
   "mimetype": "text/x-python",
   "name": "python",
   "nbconvert_exporter": "python",
   "pygments_lexer": "ipython3",
   "version": "3.7.4"
  }
 },
 "nbformat": 4,
 "nbformat_minor": 2
}
