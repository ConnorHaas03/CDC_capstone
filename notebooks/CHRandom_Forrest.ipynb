{
 "cells": [
  {
   "cell_type": "code",
   "execution_count": 1,
   "metadata": {},
   "outputs": [],
   "source": [
    "import pandas as pd\n",
    "import random as rn\n",
    "import numpy as np\n",
    "import re\n",
    "import pickle\n",
    "from sklearn.model_selection import GridSearchCV,cross_val_score\n",
    "from sklearn.metrics import r2_score, mean_squared_error, mean_absolute_error,accuracy_score\n",
    "from sklearn.ensemble import RandomForestClassifier\n",
    "from sklearn.preprocessing import LabelEncoder\n",
    "from sklearn import ensemble"
   ]
  },
  {
   "cell_type": "code",
   "execution_count": 2,
   "metadata": {},
   "outputs": [],
   "source": [
    "totDF = pd.read_csv('../data/raw/Cleaned_data_set.csv')"
   ]
  },
  {
   "cell_type": "markdown",
   "metadata": {},
   "source": [
    "### Clean the df and encode numeric values"
   ]
  },
  {
   "cell_type": "code",
   "execution_count": 60,
   "metadata": {},
   "outputs": [],
   "source": [
    "def cleanDF (df):\n",
    "    r1 = re.compile('.*reporting')\n",
    "    r2 = re.compile('.*imputed')\n",
    "\n",
    "    cols_to_drop1 = list(filter((r1.match), df.columns))\n",
    "    cols_to_drop2 = list(filter((r2.match), df.columns))\n",
    "    cols_to_drop3 = ['admit_NICU']\n",
    "    cols_to_drop = cols_to_drop1 + cols_to_drop2 + cols_to_drop3\n",
    "\n",
    "    cols_to_keep = [col for col in df.columns if col not in cols_to_drop]\n",
    "\n",
    "    X_and_target = df[cols_to_keep + ['admit_NICU']].copy()\n",
    "\n",
    "    numerics = ['int16', 'int32', 'int64', 'float16', 'float32', 'float64']\n",
    "    catDF = X_and_target.select_dtypes(include=object).copy()\n",
    "    numDF = X_and_target.select_dtypes(include=numerics).copy() #only numeric columns\n",
    "\n",
    "    le = LabelEncoder()\n",
    "    catDF = catDF.apply(le.fit_transform)\n",
    "\n",
    "    concat_df = pd.concat([numDF,catDF],axis=1)\n",
    "    return concat_df\n",
    "\n",
    "def pred_results(fullDF, gsf, rf):\n",
    "    X_bal = fullDF.drop('admit_NICU',axis=1)\n",
    "    y_pred = rf.predict(X_bal)\n",
    "\n",
    "    #Use sklearn's confusion_matrix on real and predicted y\n",
    "    from sklearn.metrics import confusion_matrix\n",
    "    print(confusion_matrix(fullDF.admit_NICU, y_pred))\n",
    "\n",
    "    print(\n",
    "        '''Random Forest\n",
    "    best param : {0}\n",
    "    best score : {1}\n",
    "    r2         : {2}'''\\\n",
    "          .format(gsf.best_params_,\\\n",
    "                  gsf.best_score_, \\\n",
    "                  r2_score(fullDF.admit_NICU, y_pred))\n",
    "         )\n",
    "    return"
   ]
  },
  {
   "cell_type": "markdown",
   "metadata": {},
   "source": [
    "### Create a col of Y and N"
   ]
  },
  {
   "cell_type": "code",
   "execution_count": 100,
   "metadata": {},
   "outputs": [],
   "source": [
    "cl_df = cleanDF(totDF)\n",
    "nicu_allY = cl_df.loc[cl_df['admit_NICU']==2]\n",
    "nicu_allN = cl_df.loc[cl_df['admit_NICU']==0]\n",
    "nicu_YN = pd.concat([nicu_allY,nicu_allN],axis=0)"
   ]
  },
  {
   "cell_type": "markdown",
   "metadata": {},
   "source": [
    "### RF on Balanced Sample per year"
   ]
  },
  {
   "cell_type": "code",
   "execution_count": 123,
   "metadata": {},
   "outputs": [
    {
     "data": {
      "text/plain": [
       "100000"
      ]
     },
     "execution_count": 123,
     "metadata": {},
     "output_type": "execute_result"
    }
   ],
   "source": [
    "sample_per_year = 10000\n",
    "bal_dwnSmplY = nicu_allY.groupby('birth_year',group_keys = False).apply(lambda x: x.sample(sample_per_year))\n",
    "bal_dwnSmplN = nicu_allN.groupby('birth_year',group_keys = False).apply(lambda x: x.sample(sample_per_year))\n",
    "bal_dwnSmpl = pd.concat([bal_dwnSmplY,bal_dwnSmplN],axis=0)\n",
    "bal_dwnSmpl.admit_NICU.count()"
   ]
  },
  {
   "cell_type": "code",
   "execution_count": 124,
   "metadata": {},
   "outputs": [],
   "source": [
    "bal_target = bal_dwnSmpl.admit_NICU\n",
    "bal_X = bal_dwnSmpl.drop('admit_NICU',axis=1)"
   ]
  },
  {
   "cell_type": "code",
   "execution_count": 136,
   "metadata": {},
   "outputs": [],
   "source": [
    "def gsForest(X,Y):\n",
    "    randomForest = ensemble.RandomForestClassifier()\n",
    "    grid_para_forest = [{\n",
    "        'n_estimators': np.linspace(50,int(np.sqrt(len(cl_df))),10,dtype=int),\n",
    "        'min_samples_leaf' : range(100,1000,100)\n",
    "    }]\n",
    "    randomForest.set_params(random_state=108)\n",
    "    balGS_forest = GridSearchCV(randomForest, grid_para_forest, scoring='accuracy', \n",
    "                                      cv=5, n_jobs=-1)\n",
    "    %time balGS_forest.fit(X, Y)\n",
    "    return balGS_forest"
   ]
  },
  {
   "cell_type": "code",
   "execution_count": 125,
   "metadata": {},
   "outputs": [
    {
     "name": "stdout",
     "output_type": "stream",
     "text": [
      "Wall time: 1h 33min 37s\n",
      "{'min_samples_leaf': 100, 'n_estimators': 894}\n"
     ]
    }
   ],
   "source": [
    "randomForest = ensemble.RandomForestClassifier()\n",
    "grid_para_forest = [{\n",
    "    'n_estimators': np.linspace(50,int(np.sqrt(len(cl_df))),10,dtype=int),\n",
    "    'min_samples_leaf' : range(100,1000,100)\n",
    "}]\n",
    "randomForest.set_params(random_state=108)\n",
    "balGS_forest = GridSearchCV(randomForest, grid_para_forest, scoring='accuracy', \n",
    "                                  cv=5, n_jobs=-1)\n",
    "%time balGS_forest.fit(bal_X, bal_target)\n",
    "print(balGS_forest.best_params_)"
   ]
  },
  {
   "cell_type": "markdown",
   "metadata": {},
   "source": [
    "#### Train RF with best params"
   ]
  },
  {
   "cell_type": "code",
   "execution_count": 126,
   "metadata": {},
   "outputs": [
    {
     "data": {
      "text/plain": [
       "RandomForestClassifier(bootstrap=True, class_weight=None, criterion='gini',\n",
       "                       max_depth=None, max_features='auto', max_leaf_nodes=None,\n",
       "                       min_impurity_decrease=0.0, min_impurity_split=None,\n",
       "                       min_samples_leaf=100, min_samples_split=2,\n",
       "                       min_weight_fraction_leaf=0.0, n_estimators=894,\n",
       "                       n_jobs=-1, oob_score=True, random_state=108, verbose=0,\n",
       "                       warm_start=False)"
      ]
     },
     "execution_count": 126,
     "metadata": {},
     "output_type": "execute_result"
    }
   ],
   "source": [
    "balRF = ensemble.RandomForestClassifier()\n",
    "best_params = balGS_forest.best_params_\n",
    "balRF.set_params(random_state=108,n_jobs= -1,oob_score = True,**best_params)\n",
    "balRF.fit(bal_X,bal_target)"
   ]
  },
  {
   "cell_type": "code",
   "execution_count": 134,
   "metadata": {},
   "outputs": [
    {
     "name": "stdout",
     "output_type": "stream",
     "text": [
      "[[806777  94698]\n",
      " [ 17066  69375]]\n",
      "Random Forest\n",
      "    best param : {'min_samples_leaf': 100, 'n_estimators': 894}\n",
      "    best score : 0.84814\n",
      "    r2         : -0.4169302959144665\n"
     ]
    }
   ],
   "source": [
    "pred_results(nicu_YN,balGS_forest,balRF)"
   ]
  },
  {
   "cell_type": "code",
   "execution_count": 127,
   "metadata": {
    "collapsed": true
   },
   "outputs": [
    {
     "name": "stdout",
     "output_type": "stream",
     "text": [
      "[[806777  94698]\n",
      " [ 17066  69375]]\n",
      "Random Forest\n",
      "sample size: 100000\n",
      "best param : {'min_samples_leaf': 100, 'n_estimators': 50}\n",
      "best score : 0.8276\n",
      "r2         : -0.4169302959144665\n"
     ]
    }
   ],
   "source": [
    "# X_bal = nicu_YN.drop('admit_NICU',axis=1)\n",
    "# y_pred = balRF.predict(X_bal)\n",
    "\n",
    "# #Use sklearn's confusion_matrix on real and predicted y\n",
    "# from sklearn.metrics import confusion_matrix\n",
    "# print(confusion_matrix(nicu_YN.admit_NICU, y_pred))\n",
    "\n",
    "# print(\n",
    "#     '''Random Forest\n",
    "# sample size: {0}\n",
    "# best param : {1}\n",
    "# best score : {2}\n",
    "# r2         : {3}'''\\\n",
    "#       .format(len(bal_target), \\\n",
    "#               grid_search_forest.best_params_,\\\n",
    "#               grid_search_forest.best_score_, \\\n",
    "#               r2_score(nicu_YN.admit_NICU, y_pred))\n",
    "#      )"
   ]
  },
  {
   "cell_type": "markdown",
   "metadata": {},
   "source": [
    "#### Print top 10 most imp features from bal"
   ]
  },
  {
   "cell_type": "code",
   "execution_count": 120,
   "metadata": {},
   "outputs": [
    {
     "data": {
      "text/html": [
       "<div>\n",
       "<style scoped>\n",
       "    .dataframe tbody tr th:only-of-type {\n",
       "        vertical-align: middle;\n",
       "    }\n",
       "\n",
       "    .dataframe tbody tr th {\n",
       "        vertical-align: top;\n",
       "    }\n",
       "\n",
       "    .dataframe thead th {\n",
       "        text-align: right;\n",
       "    }\n",
       "</style>\n",
       "<table border=\"1\" class=\"dataframe\">\n",
       "  <thead>\n",
       "    <tr style=\"text-align: right;\">\n",
       "      <th></th>\n",
       "      <th>col</th>\n",
       "      <th>features</th>\n",
       "    </tr>\n",
       "  </thead>\n",
       "  <tbody>\n",
       "    <tr>\n",
       "      <td>45</td>\n",
       "      <td>obst_est_edit_wk</td>\n",
       "      <td>0.282480</td>\n",
       "    </tr>\n",
       "    <tr>\n",
       "      <td>46</td>\n",
       "      <td>birth_weight_gm</td>\n",
       "      <td>0.139571</td>\n",
       "    </tr>\n",
       "    <tr>\n",
       "      <td>44</td>\n",
       "      <td>combined_gestation_wk</td>\n",
       "      <td>0.109026</td>\n",
       "    </tr>\n",
       "    <tr>\n",
       "      <td>83</td>\n",
       "      <td>assist_vent_immed</td>\n",
       "      <td>0.083637</td>\n",
       "    </tr>\n",
       "    <tr>\n",
       "      <td>86</td>\n",
       "      <td>antibiotics_for_newborn</td>\n",
       "      <td>0.079510</td>\n",
       "    </tr>\n",
       "    <tr>\n",
       "      <td>39</td>\n",
       "      <td>APGAR_score_5min</td>\n",
       "      <td>0.074666</td>\n",
       "    </tr>\n",
       "    <tr>\n",
       "      <td>36</td>\n",
       "      <td>final_delivery_method</td>\n",
       "      <td>0.037392</td>\n",
       "    </tr>\n",
       "    <tr>\n",
       "      <td>71</td>\n",
       "      <td>steriods</td>\n",
       "      <td>0.025590</td>\n",
       "    </tr>\n",
       "    <tr>\n",
       "      <td>84</td>\n",
       "      <td>assist_vent_after6</td>\n",
       "      <td>0.024213</td>\n",
       "    </tr>\n",
       "    <tr>\n",
       "      <td>41</td>\n",
       "      <td>plurality</td>\n",
       "      <td>0.016635</td>\n",
       "    </tr>\n",
       "  </tbody>\n",
       "</table>\n",
       "</div>"
      ],
      "text/plain": [
       "                        col  features\n",
       "45         obst_est_edit_wk  0.282480\n",
       "46          birth_weight_gm  0.139571\n",
       "44    combined_gestation_wk  0.109026\n",
       "83        assist_vent_immed  0.083637\n",
       "86  antibiotics_for_newborn  0.079510\n",
       "39         APGAR_score_5min  0.074666\n",
       "36    final_delivery_method  0.037392\n",
       "71                 steriods  0.025590\n",
       "84       assist_vent_after6  0.024213\n",
       "41                plurality  0.016635"
      ]
     },
     "execution_count": 120,
     "metadata": {},
     "output_type": "execute_result"
    }
   ],
   "source": [
    "balRF_coefs = pd.DataFrame({'col' :list(X_bal.columns), \n",
    "                           'features': bestRF.feature_importances_})\n",
    "balRF_coefs.nlargest(10,'features')"
   ]
  },
  {
   "cell_type": "markdown",
   "metadata": {},
   "source": [
    "### RF on Samp"
   ]
  },
  {
   "cell_type": "code",
   "execution_count": 102,
   "metadata": {},
   "outputs": [],
   "source": [
    "sample = 5000\n",
    "sampN = nicu_allN.sample(sample)\n",
    "sampY = nicu_allY.sample(sample)\n",
    "samp = pd.concat([sampN,sampY],axis=0)"
   ]
  },
  {
   "cell_type": "code",
   "execution_count": 103,
   "metadata": {},
   "outputs": [],
   "source": [
    "samp_target = samp.admit_NICU\n",
    "samp_X = samp.drop('admit_NICU',axis=1)"
   ]
  },
  {
   "cell_type": "code",
   "execution_count": 137,
   "metadata": {
    "collapsed": true
   },
   "outputs": [
    {
     "name": "stdout",
     "output_type": "stream",
     "text": [
      "Wall time: 2min 53s\n"
     ]
    },
    {
     "data": {
      "text/plain": [
       "GridSearchCV(cv=5, error_score='raise-deprecating',\n",
       "             estimator=RandomForestClassifier(bootstrap=True, class_weight=None,\n",
       "                                              criterion='gini', max_depth=None,\n",
       "                                              max_features='auto',\n",
       "                                              max_leaf_nodes=None,\n",
       "                                              min_impurity_decrease=0.0,\n",
       "                                              min_impurity_split=None,\n",
       "                                              min_samples_leaf=1,\n",
       "                                              min_samples_split=2,\n",
       "                                              min_weight_fraction_leaf=0.0,\n",
       "                                              n_estimators='warn', n_jobs=None,\n",
       "                                              oob_score=False, random_state=108,\n",
       "                                              verbose=0, warm_start=False),\n",
       "             iid='warn', n_jobs=-1,\n",
       "             param_grid=[{'min_samples_leaf': range(100, 1000, 100),\n",
       "                          'n_estimators': array([  50,  155,  261,  366,  472,  577,  683,  788,  894, 1000])}],\n",
       "             pre_dispatch='2*n_jobs', refit=True, return_train_score=False,\n",
       "             scoring='accuracy', verbose=0)"
      ]
     },
     "execution_count": 137,
     "metadata": {},
     "output_type": "execute_result"
    }
   ],
   "source": [
    "samp_gs = gsForest(samp_X,samp_target)\n",
    "samp_gs"
   ]
  },
  {
   "cell_type": "code",
   "execution_count": null,
   "metadata": {},
   "outputs": [],
   "source": [
    "bestRF2 = ensemble.RandomForestClassifier()\n",
    "best_params = samp_gs.best_params_\n",
    "bestRF2.set_params(random_state=108,n_jobs= -1,oob_score = True,**best_params)\n",
    "bestRF2.fit(samp_X,samp_target)"
   ]
  },
  {
   "cell_type": "code",
   "execution_count": 138,
   "metadata": {},
   "outputs": [
    {
     "data": {
      "text/plain": [
       "RandomForestClassifier(bootstrap=True, class_weight=None, criterion='gini',\n",
       "                       max_depth=None, max_features='auto', max_leaf_nodes=None,\n",
       "                       min_impurity_decrease=0.0, min_impurity_split=None,\n",
       "                       min_samples_leaf=100, min_samples_split=2,\n",
       "                       min_weight_fraction_leaf=0.0, n_estimators=50, n_jobs=-1,\n",
       "                       oob_score=True, random_state=108, verbose=0,\n",
       "                       warm_start=False)"
      ]
     },
     "execution_count": 138,
     "metadata": {},
     "output_type": "execute_result"
    }
   ],
   "source": [
    "bestRF2 = ensemble.RandomForestClassifier()\n",
    "best_params = samp_gs.best_params_\n",
    "bestRF2.set_params(random_state=108,n_jobs= -1,oob_score = True,**best_params)\n",
    "bestRF2.fit(samp_X,samp_target)"
   ]
  },
  {
   "cell_type": "code",
   "execution_count": 139,
   "metadata": {},
   "outputs": [
    {
     "name": "stdout",
     "output_type": "stream",
     "text": [
      "[[813144  88331]\n",
      " [ 20222  66219]]\n",
      "Random Forest\n",
      "    best param : {'min_samples_leaf': 100, 'n_estimators': 50}\n",
      "    best score : 0.8236\n",
      "    r2         : -0.37622163140548914\n"
     ]
    }
   ],
   "source": [
    "pred_results(nicu_YN,samp_gs,bestRF2)"
   ]
  },
  {
   "cell_type": "code",
   "execution_count": 110,
   "metadata": {
    "collapsed": true
   },
   "outputs": [
    {
     "name": "stdout",
     "output_type": "stream",
     "text": [
      "Wall time: 3min 11s\n"
     ]
    },
    {
     "data": {
      "text/plain": [
       "GridSearchCV(cv=5, error_score='raise-deprecating',\n",
       "             estimator=RandomForestClassifier(bootstrap=True, class_weight=None,\n",
       "                                              criterion='gini', max_depth=None,\n",
       "                                              max_features='auto',\n",
       "                                              max_leaf_nodes=None,\n",
       "                                              min_impurity_decrease=0.0,\n",
       "                                              min_impurity_split=None,\n",
       "                                              min_samples_leaf=1,\n",
       "                                              min_samples_split=2,\n",
       "                                              min_weight_fraction_leaf=0.0,\n",
       "                                              n_estimators='warn', n_jobs=None,\n",
       "                                              oob_score=False, random_state=108,\n",
       "                                              verbose=0, warm_start=False),\n",
       "             iid='warn', n_jobs=-1,\n",
       "             param_grid=[{'min_samples_leaf': range(100, 1000, 100),\n",
       "                          'n_estimators': array([  50,  155,  261,  366,  472,  577,  683,  788,  894, 1000])}],\n",
       "             pre_dispatch='2*n_jobs', refit=True, return_train_score=False,\n",
       "             scoring='accuracy', verbose=0)"
      ]
     },
     "execution_count": 110,
     "metadata": {},
     "output_type": "execute_result"
    }
   ],
   "source": [
    "randomForest = ensemble.RandomForestClassifier()\n",
    "grid_para_forest = [{\n",
    "    'n_estimators': np.linspace(50,int(np.sqrt(len(cl_df))),10,dtype=int),\n",
    "   # 'n_estimators': range(1000,10000,1000),\n",
    "    #'min_samples_split' : [100,10,2],\n",
    "    'min_samples_leaf' : range(100,1000,100)\n",
    "}]\n",
    "randomForest.set_params(random_state=108)\n",
    "sampGS_forest = GridSearchCV(randomForest, grid_para_forest, scoring='accuracy', \n",
    "                                  cv=5, n_jobs=-1)\n",
    "%time sampGS_forest.fit(samp_X, samp_target)\n",
    "print(grid_search_forest2.best_params_)"
   ]
  },
  {
   "cell_type": "code",
   "execution_count": 111,
   "metadata": {},
   "outputs": [
    {
     "data": {
      "text/plain": [
       "RandomForestClassifier(bootstrap=True, class_weight=None, criterion='gini',\n",
       "                       max_depth=None, max_features='auto', max_leaf_nodes=None,\n",
       "                       min_impurity_decrease=0.0, min_impurity_split=None,\n",
       "                       min_samples_leaf=100, min_samples_split=2,\n",
       "                       min_weight_fraction_leaf=0.0, n_estimators=50, n_jobs=-1,\n",
       "                       oob_score=True, random_state=108, verbose=0,\n",
       "                       warm_start=False)"
      ]
     },
     "execution_count": 111,
     "metadata": {},
     "output_type": "execute_result"
    }
   ],
   "source": [
    "bestRF2 = ensemble.RandomForestClassifier()\n",
    "best_params = grid_search_forest2.best_params_\n",
    "bestRF2.set_params(random_state=108,n_jobs= -1,oob_score = True,**best_params)\n",
    "bestRF2.fit(samp_X,samp_target)"
   ]
  },
  {
   "cell_type": "code",
   "execution_count": 119,
   "metadata": {},
   "outputs": [
    {
     "name": "stdout",
     "output_type": "stream",
     "text": [
      "[[813144  88331]\n",
      " [ 20222  66219]]\n",
      "Random Forest\n",
      "sample size: 5000\n",
      "best param : {'min_samples_leaf': 100, 'n_estimators': 50}\n",
      "best score : 0.8276\n",
      "r2         : 0.30400000000000005\n"
     ]
    }
   ],
   "source": [
    "pred_results(nicu_YN,balGS_forest,balRF)"
   ]
  },
  {
   "cell_type": "code",
   "execution_count": 122,
   "metadata": {},
   "outputs": [
    {
     "data": {
      "text/html": [
       "<div>\n",
       "<style scoped>\n",
       "    .dataframe tbody tr th:only-of-type {\n",
       "        vertical-align: middle;\n",
       "    }\n",
       "\n",
       "    .dataframe tbody tr th {\n",
       "        vertical-align: top;\n",
       "    }\n",
       "\n",
       "    .dataframe thead th {\n",
       "        text-align: right;\n",
       "    }\n",
       "</style>\n",
       "<table border=\"1\" class=\"dataframe\">\n",
       "  <thead>\n",
       "    <tr style=\"text-align: right;\">\n",
       "      <th></th>\n",
       "      <th>col</th>\n",
       "      <th>features</th>\n",
       "    </tr>\n",
       "  </thead>\n",
       "  <tbody>\n",
       "    <tr>\n",
       "      <td>45</td>\n",
       "      <td>obst_est_edit_wk</td>\n",
       "      <td>0.262012</td>\n",
       "    </tr>\n",
       "    <tr>\n",
       "      <td>46</td>\n",
       "      <td>birth_weight_gm</td>\n",
       "      <td>0.156990</td>\n",
       "    </tr>\n",
       "    <tr>\n",
       "      <td>44</td>\n",
       "      <td>combined_gestation_wk</td>\n",
       "      <td>0.110713</td>\n",
       "    </tr>\n",
       "    <tr>\n",
       "      <td>39</td>\n",
       "      <td>APGAR_score_5min</td>\n",
       "      <td>0.093226</td>\n",
       "    </tr>\n",
       "    <tr>\n",
       "      <td>86</td>\n",
       "      <td>antibiotics_for_newborn</td>\n",
       "      <td>0.087154</td>\n",
       "    </tr>\n",
       "    <tr>\n",
       "      <td>83</td>\n",
       "      <td>assist_vent_immed</td>\n",
       "      <td>0.076469</td>\n",
       "    </tr>\n",
       "    <tr>\n",
       "      <td>84</td>\n",
       "      <td>assist_vent_after6</td>\n",
       "      <td>0.027749</td>\n",
       "    </tr>\n",
       "    <tr>\n",
       "      <td>71</td>\n",
       "      <td>steriods</td>\n",
       "      <td>0.025802</td>\n",
       "    </tr>\n",
       "    <tr>\n",
       "      <td>36</td>\n",
       "      <td>final_delivery_method</td>\n",
       "      <td>0.024791</td>\n",
       "    </tr>\n",
       "    <tr>\n",
       "      <td>100</td>\n",
       "      <td>infant_transferred</td>\n",
       "      <td>0.019210</td>\n",
       "    </tr>\n",
       "  </tbody>\n",
       "</table>\n",
       "</div>"
      ],
      "text/plain": [
       "                         col  features\n",
       "45          obst_est_edit_wk  0.262012\n",
       "46           birth_weight_gm  0.156990\n",
       "44     combined_gestation_wk  0.110713\n",
       "39          APGAR_score_5min  0.093226\n",
       "86   antibiotics_for_newborn  0.087154\n",
       "83         assist_vent_immed  0.076469\n",
       "84        assist_vent_after6  0.027749\n",
       "71                  steriods  0.025802\n",
       "36     final_delivery_method  0.024791\n",
       "100       infant_transferred  0.019210"
      ]
     },
     "execution_count": 122,
     "metadata": {},
     "output_type": "execute_result"
    }
   ],
   "source": [
    "sampRF_coefs = pd.DataFrame({'col' :list(X_samp.columns), \n",
    "                           'features': bestRF2.feature_importances_})\n",
    "sampRF_coefs.nlargest(10,'features')"
   ]
  },
  {
   "cell_type": "markdown",
   "metadata": {},
   "source": [
    "### Largest RF run, non balanced DF"
   ]
  },
  {
   "cell_type": "code",
   "execution_count": 6,
   "metadata": {
    "scrolled": true
   },
   "outputs": [
    {
     "name": "stdout",
     "output_type": "stream",
     "text": [
      "Random Forest\n",
      "sample size: 100000\n",
      "best param : {'min_samples_leaf': 100, 'n_estimators': 109}\n",
      "best score : 0.94302\n",
      "r2         : 0.33316310727927356\n"
     ]
    }
   ],
   "source": [
    "print(\n",
    "    '''Random Forest\n",
    "sample size: {0}\n",
    "best param : {1}\n",
    "best score : {2}\n",
    "r2         : {3}'''\\\n",
    "      .format(len(encoded_target), \\\n",
    "              grid_search_forest.best_params_,\\\n",
    "              grid_search_forest.best_score_, \\\n",
    "              r2_score(encoded_target, grid_search_forest.predict(cl_df)))\n",
    "     )"
   ]
  },
  {
   "cell_type": "code",
   "execution_count": 17,
   "metadata": {},
   "outputs": [
    {
     "name": "stdout",
     "output_type": "stream",
     "text": [
      "[[4510    0    2]\n",
      " [  60    0    0]\n",
      " [ 408    0   20]]\n"
     ]
    }
   ],
   "source": [
    "y_pred = bestRF.predict(cl_df)\n",
    "#Finally, use sklearn's confusion_matrix on real and predicted y\n",
    "\n",
    "from sklearn.metrics import confusion_matrix\n",
    "print(confusion_matrix(encoded_target, y_pred))"
   ]
  }
 ],
 "metadata": {
  "kernelspec": {
   "display_name": "Python 3",
   "language": "python",
   "name": "python3"
  },
  "language_info": {
   "codemirror_mode": {
    "name": "ipython",
    "version": 3
   },
   "file_extension": ".py",
   "mimetype": "text/x-python",
   "name": "python",
   "nbconvert_exporter": "python",
   "pygments_lexer": "ipython3",
   "version": "3.7.4"
  }
 },
 "nbformat": 4,
 "nbformat_minor": 2
}
