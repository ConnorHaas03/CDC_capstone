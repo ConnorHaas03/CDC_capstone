{
 "cells": [
  {
   "cell_type": "code",
   "execution_count": 1,
   "metadata": {},
   "outputs": [],
   "source": [
    "import pandas as pd\n",
    "import numpy as np\n",
    "import math\n",
    "import random\n",
    "import matplotlib.pyplot as plt\n",
    "\n",
    "import re"
   ]
  },
  {
   "cell_type": "code",
   "execution_count": 2,
   "metadata": {},
   "outputs": [
    {
     "name": "stderr",
     "output_type": "stream",
     "text": [
      "/opt/anaconda3/lib/python3.7/site-packages/IPython/core/interactiveshell.py:3058: DtypeWarning: Columns (3,5,10,12,13,15,17,18,19,20,21,22,26,27,28,29,30,31,32,33,34,35,36,37,47,48,54,63,64,73,75,105) have mixed types. Specify dtype option on import or set low_memory=False.\n",
      "  interactivity=interactivity, compiler=compiler, result=result)\n"
     ]
    }
   ],
   "source": [
    "births = pd.read_csv('../data/raw/totSampDF18.csv')"
   ]
  },
  {
   "cell_type": "markdown",
   "metadata": {},
   "source": [
    "#### Columns of interest  \n",
    "Mom age C  \n",
    "Mom’s age to first baby C  \n",
    "Weeks born early starting at 35-40 M  \n",
    "Avg BirthWeights M  \n",
    "Multiple Births C  \n",
    "Plurality C  \n",
    "Method of Birth M  \n",
    "Birth Place M  \n",
    "BMI / Mom’s weight / weight gain M&C \n"
   ]
  },
  {
   "cell_type": "code",
   "execution_count": null,
   "metadata": {
    "scrolled": false
   },
   "outputs": [],
   "source": [
    "colnames = np.array(births.columns)\n",
    "colnames"
   ]
  },
  {
   "cell_type": "markdown",
   "metadata": {},
   "source": [
    "## Baby weight time series"
   ]
  },
  {
   "cell_type": "code",
   "execution_count": null,
   "metadata": {},
   "outputs": [],
   "source": [
    "babywt = births[['birth_year', 'birth_month','birth_time','birth_weight_gm']]\n"
   ]
  },
  {
   "cell_type": "code",
   "execution_count": null,
   "metadata": {},
   "outputs": [],
   "source": [
    "meanwt_ts = babywt.groupby(['birth_year','birth_month'])['birth_weight_gm'].mean()"
   ]
  },
  {
   "cell_type": "markdown",
   "metadata": {},
   "source": [
    "### Monthly Mean and Median birth weight by year"
   ]
  },
  {
   "cell_type": "code",
   "execution_count": null,
   "metadata": {},
   "outputs": [],
   "source": [
    "plt.figure(figsize=(16,16))\n",
    "\n",
    "meanwt_ts.plot()\n",
    "# plt.xlabel('Number of cases of Plurality')\n",
    "# plt.ylabel('Years based on amount of Twins')"
   ]
  },
  {
   "cell_type": "code",
   "execution_count": null,
   "metadata": {},
   "outputs": [],
   "source": [
    "medwt_ts = babywt.groupby(['birth_year','birth_month'])['birth_weight_gm'].median()"
   ]
  },
  {
   "cell_type": "code",
   "execution_count": null,
   "metadata": {},
   "outputs": [],
   "source": [
    "plt.figure(figsize=(16,16))\n",
    "medwt_ts.plot()"
   ]
  },
  {
   "cell_type": "markdown",
   "metadata": {},
   "source": [
    "### Yearly Mean and Median Birth weight "
   ]
  },
  {
   "cell_type": "code",
   "execution_count": null,
   "metadata": {},
   "outputs": [],
   "source": [
    "meanwt_ts2 = babywt.groupby(['birth_year'])['birth_weight_gm'].mean()\n",
    "\n",
    "plt.figure(figsize=(16,16))\n",
    "meanwt_ts2.plot()"
   ]
  },
  {
   "cell_type": "code",
   "execution_count": null,
   "metadata": {},
   "outputs": [],
   "source": [
    "medwt_ts2 = babywt.groupby(['birth_year'])['birth_weight_gm'].median()\n",
    "\n",
    "plt.figure(figsize=(16,16))\n",
    "medwt_ts2.plot()"
   ]
  },
  {
   "cell_type": "markdown",
   "metadata": {},
   "source": [
    "### Monthly variation in baby birth weight"
   ]
  },
  {
   "cell_type": "code",
   "execution_count": null,
   "metadata": {},
   "outputs": [],
   "source": [
    "meanwt_ts3 = babywt.groupby(['birth_month'])['birth_weight_gm'].mean()\n",
    "\n",
    "plt.figure(figsize=(16,16))\n",
    "meanwt_ts3.plot()"
   ]
  },
  {
   "cell_type": "code",
   "execution_count": null,
   "metadata": {},
   "outputs": [],
   "source": [
    "medwt_ts3 = babywt.groupby(['birth_month'])['birth_weight_gm'].median()\n",
    "\n",
    "plt.figure(figsize=(16,16))\n",
    "medwt_ts3.plot()"
   ]
  },
  {
   "cell_type": "markdown",
   "metadata": {},
   "source": [
    "## Birth method "
   ]
  },
  {
   "cell_type": "code",
   "execution_count": null,
   "metadata": {},
   "outputs": [],
   "source": [
    "method  = (births[['birth_year', 'birth_month','final_delivery_method']])\n",
    "# method.groupby('birth_year')\n",
    "\n",
    "#Missingness\n",
    "print(method['final_delivery_method'].value_counts())  #total missing \n",
    "print(method.groupby(['birth_year'])['final_delivery_method'].value_counts()) #missing per year\n"
   ]
  },
  {
   "cell_type": "markdown",
   "metadata": {},
   "source": [
    "## Column cleaning  \n",
    "Add to general cleaning file"
   ]
  },
  {
   "cell_type": "code",
   "execution_count": null,
   "metadata": {},
   "outputs": [],
   "source": [
    "method2 = method.mask(method['final_delivery_method'] == ' ')\n",
    "# method\n",
    "# print('Masked method \\n',method2['final_delivery_method'].value_counts())\n",
    "# print('Unmasked method \\n', method['final_delivery_method'].value_counts())\n",
    "# births['final_delivery_method'] = pd.to_numeric(births['final_delivery_method'])\n",
    "method2['final_delivery_method'] = method2['final_delivery_method'].astype(float)\n",
    "method2.dtypes\n",
    "method2.groupby(['birth_year'])['final_delivery_method'].value_counts()"
   ]
  },
  {
   "cell_type": "code",
   "execution_count": null,
   "metadata": {},
   "outputs": [],
   "source": [
    "methodplt = method2.groupby(['birth_year'])['final_delivery_method'].value_counts()\n",
    "methodplt.unstack().plot(logy = True, legend = False)"
   ]
  },
  {
   "cell_type": "code",
   "execution_count": null,
   "metadata": {},
   "outputs": [],
   "source": [
    "methodplt = method2.groupby(['birth_month'])['final_delivery_method'].value_counts()\n",
    "methodplt.unstack().plot(logy = True, legend = False)"
   ]
  },
  {
   "cell_type": "code",
   "execution_count": null,
   "metadata": {},
   "outputs": [],
   "source": [
    "methodplt = method2.groupby(['birth_year','birth_month'])['final_delivery_method'].value_counts()\n",
    "methodplt.unstack().plot(logy = True, legend = False)"
   ]
  },
  {
   "cell_type": "markdown",
   "metadata": {},
   "source": [
    "## Place of birth trend"
   ]
  },
  {
   "cell_type": "code",
   "execution_count": null,
   "metadata": {},
   "outputs": [],
   "source": [
    "place = (births[['birth_year', 'birth_month','birth_place']])"
   ]
  },
  {
   "cell_type": "code",
   "execution_count": null,
   "metadata": {},
   "outputs": [],
   "source": [
    "print(place['birth_place'].value_counts()) #289573 missing\n",
    "print(place.groupby(['birth_year'])['birth_place'].value_counts()) #missing per year"
   ]
  },
  {
   "cell_type": "code",
   "execution_count": null,
   "metadata": {},
   "outputs": [],
   "source": [
    "place2 = place.mask(place['birth_place'] == ' ')\n",
    "# place2\n",
    "# print('Masked place \\n', place2['birth_place'].value_counts())\n",
    "place2['birth_place'] = place2['birth_place'].astype(float)\n",
    "# method2.dtypes\n",
    "place2.groupby(['birth_year'])['birth_place'].value_counts()"
   ]
  },
  {
   "cell_type": "code",
   "execution_count": null,
   "metadata": {},
   "outputs": [],
   "source": [
    "placeplt = place2.groupby(['birth_year'])['birth_place'].value_counts()\n",
    "placeplt.unstack().plot(logy = True, legend = False)"
   ]
  },
  {
   "cell_type": "markdown",
   "metadata": {},
   "source": [
    "## NICU admissions\n"
   ]
  },
  {
   "cell_type": "code",
   "execution_count": null,
   "metadata": {},
   "outputs": [],
   "source": [
    "val_check(births, 'admit_NICU')"
   ]
  },
  {
   "cell_type": "code",
   "execution_count": 5,
   "metadata": {},
   "outputs": [],
   "source": [
    "births['mothers_age_groups']= pd.cut(births['mothers_age'], 4, labels = ['12-19', '20-29', '30-39','40-50'])"
   ]
  },
  {
   "cell_type": "code",
   "execution_count": null,
   "metadata": {},
   "outputs": [],
   "source": [
    "births['admit_NICU'] = births['admit_NICU'].replace(' ', 'U')"
   ]
  },
  {
   "cell_type": "code",
   "execution_count": null,
   "metadata": {},
   "outputs": [],
   "source": [
    "births.groupby('birth_year')['admit_NICU'].value_counts().plot(kind='bar')"
   ]
  },
  {
   "cell_type": "code",
   "execution_count": null,
   "metadata": {},
   "outputs": [],
   "source": [
    "plot_gpYR(births,'admit_NICU',\"Year\",\"Count of NICU admission\", \"Yearly NICU admittance\",kind='line')"
   ]
  },
  {
   "cell_type": "code",
   "execution_count": null,
   "metadata": {},
   "outputs": [],
   "source": [
    "births['admit_NICU' != 'U'].admit_NICU.value_counts().plot(kind = 'pie', autopct='%1.1f%%', pctdistance = 1.4)\n",
    "title = ' '\n",
    "#dfNo13 = totDF.loc[totDF['birth_year'] != 2013.0]\n"
   ]
  },
  {
   "cell_type": "code",
   "execution_count": null,
   "metadata": {
    "scrolled": true
   },
   "outputs": [],
   "source": [
    "births['admit_NICU'].value_counts().plot(kind = 'pie', autopct='%1.1f%%', pctdistance = 1.4)\n"
   ]
  },
  {
   "cell_type": "code",
   "execution_count": null,
   "metadata": {},
   "outputs": [],
   "source": [
    "test = births.loc[births['birth_year']==2018]\n",
    "test['admit_NICU'].value_counts().plot(kind = 'pie', autopct='%1.2f%%', pctdistance = 1.4)\n"
   ]
  },
  {
   "cell_type": "markdown",
   "metadata": {},
   "source": [
    "### Mother health factors\n",
    "##### BMI and AGE"
   ]
  },
  {
   "cell_type": "code",
   "execution_count": null,
   "metadata": {},
   "outputs": [],
   "source": [
    "#births['mothers_bmi'] = births['mothers_bmi'].replace('      ',0.0)\n",
    "births['mothers_bmi'] = pd.to_numeric(births['mothers_bmi'], errors = 'coerce')\n",
    "#births['mothers_bmi'] = births['mothers_bmi'].astype(float)\n"
   ]
  },
  {
   "cell_type": "code",
   "execution_count": null,
   "metadata": {},
   "outputs": [],
   "source": [
    "births['mother_bmi_recode'] = pd.cut(births['mothers_bmi'],[19.0, 25.0,30.0,35.0,40.0,90.0], right = False)"
   ]
  },
  {
   "cell_type": "code",
   "execution_count": null,
   "metadata": {},
   "outputs": [],
   "source": [
    "val_check(births,'mother_bmi_recode')"
   ]
  },
  {
   "cell_type": "code",
   "execution_count": null,
   "metadata": {},
   "outputs": [],
   "source": [
    "bmi_plt = births.groupby(['mothers_bmi_recode'])['admit_NICU'].value_counts().unstack()\n",
    "bmi_plt.plot(kind = 'bar', stacked = True, rot = 1)"
   ]
  },
  {
   "cell_type": "code",
   "execution_count": null,
   "metadata": {},
   "outputs": [],
   "source": [
    "testvar = births.groupby(['mothers_bmi_recode'])[['admit_NICU']].count()\n",
    "\n",
    "var2 =  births.groupby(['mothers_bmi_recode'])['admit_NICU'].value_counts().unstack()\n",
    "var2 = var2.reindex(columns=columns_titles)\n",
    "print(var2)\n",
    "# print(type(testvar))\n",
    "# print(testvar)\n",
    "test_df3 = pd.merge(testvar,var2, left_index = True, right_index = True)\n",
    "test_df3"
   ]
  },
  {
   "cell_type": "code",
   "execution_count": null,
   "metadata": {},
   "outputs": [],
   "source": []
  },
  {
   "cell_type": "code",
   "execution_count": null,
   "metadata": {},
   "outputs": [],
   "source": []
  },
  {
   "cell_type": "code",
   "execution_count": null,
   "metadata": {},
   "outputs": [],
   "source": [
    "\n",
    "test_df2 = pd.DataFrame(list(map(lambda x: test_df3[x]/test_df3['admit_NICU'] * 100, test_df3.columns[1:4])))\n",
    "test_df2 = test_df2.T\n",
    "columns_titles = [\"Y\",\"N\"]\n",
    "\n",
    "test_df2\n",
    "test_df2.plot(kind = 'bar', stacked = True, color = )"
   ]
  },
  {
   "cell_type": "code",
   "execution_count": 13,
   "metadata": {},
   "outputs": [],
   "source": [
    "def pct_bplot(dataframe, group = str, target = 'admit_NICU', column_title = ['Y','N'] ):\n",
    "    df1 = dataframe.groupby([group])[[target]].count()\n",
    "    df2 =  dataframe.groupby([group])[target].value_counts().unstack()\n",
    "    df2 = df2.reindex(columns=column_title)\n",
    "    df3 = pd.merge(df1,df2, left_index = True, right_index = True)\n",
    "    pct_df = pd.DataFrame(list(map(lambda x: df3[x]/df3[target] * 100, df3.columns[1:])))\n",
    "    pct_df = pct_df.T\n",
    "    pct_df.plot(kind = 'bar', stacked = True)"
   ]
  },
  {
   "cell_type": "code",
   "execution_count": 14,
   "metadata": {},
   "outputs": [
    {
     "data": {
      "text/plain": [
       "Index(['Unnamed: 0', 'birth_year', 'birth_month', 'birth_time',\n",
       "       'birth_day_of_wk', 'birth_place', 'mothers_age_imputed', 'mothers_age',\n",
       "       'mothers_nativity', 'mothers_residence_status',\n",
       "       ...\n",
       "       'delivery_lbs_reporting', 'weight_gain', 'weight_gain_reporting',\n",
       "       'pre_preg_diab_reporting', 'gest_diab_reporting',\n",
       "       'pre_preg_hypten_reporting', 'gest_hypten_reporting',\n",
       "       'hypten_ecl_reporting', 'prev_preterm_birth_reporting',\n",
       "       'mothers_age_groups'],\n",
       "      dtype='object', length=123)"
      ]
     },
     "execution_count": 14,
     "metadata": {},
     "output_type": "execute_result"
    }
   ],
   "source": [
    "births.columns"
   ]
  },
  {
   "cell_type": "code",
   "execution_count": 16,
   "metadata": {},
   "outputs": [
    {
     "data": {
      "image/png": "[encoded data removed]",
      "text/plain": [
       "<Figure size 432x288 with 1 Axes>"
      ]
     },
     "metadata": {
      "needs_background": "light"
     },
     "output_type": "display_data"
    }
   ],
   "source": [
    "pct_bplot(births,'pre_preg_diab')\n"
   ]
  },
  {
   "cell_type": "code",
   "execution_count": null,
   "metadata": {},
   "outputs": [],
   "source": [
    "#Example code\n",
    "\n",
    "df2 = df.groupby(['Name', 'Abuse/NFF'])['Name'].count().unstack('Abuse/NFF').fillna(0)\n",
    "df2[['abuse','nff']].plot(kind='bar', stacked=True,autopct='%1.2f%%')\n",
    "\n",
    "#percetnage barplot\n",
    "sns.barplot(x='group', y='Values', data=df, estimator=lambda x: sum(x==0)*100.0/len(x))\n",
    "\n",
    "totals = [i+j+k for i,j,k in zip(df['pre_score'], df['mid_score'], df['post_score'])]\n",
    "\n",
    "# Create the percentage of the total score the pre_score value for each participant was\n",
    "pre_rel = [i / j * 100 for  i,j in zip(df['pre_score'], totals)]"
   ]
  },
  {
   "cell_type": "code",
   "execution_count": null,
   "metadata": {},
   "outputs": [],
   "source": [
    "plot_gpYR(births,'mothers_bmi_recode','year','BMI', 'BMI trend')"
   ]
  },
  {
   "cell_type": "markdown",
   "metadata": {},
   "source": [
    "## Testing helper functions"
   ]
  },
  {
   "cell_type": "code",
   "execution_count": null,
   "metadata": {},
   "outputs": [],
   "source": [
    "def val_check(data_frame, column_name = str):\n",
    "    df = pd.DataFrame(data_frame)\n",
    "    col = column_name\n",
    "    print( \"Value counts of %s \\n\" %(col), df[col].value_counts())\n",
    "    print(\"Value counts of %s by year \\n\" %(col), df.groupby(['birth_year'])[col].value_counts())"
   ]
  },
  {
   "cell_type": "code",
   "execution_count": null,
   "metadata": {},
   "outputs": [],
   "source": [
    "\n",
    "def plotter(col):\n",
    "    df[col].groupby(df['year'])[col].value.counts()\n",
    "    col.plot(logy=True, legend = False\n",
    "    xlabel\n",
    "    ylabel\n",
    "             "
   ]
  },
  {
   "cell_type": "code",
   "execution_count": null,
   "metadata": {},
   "outputs": [],
   "source": [
    "def map_plot(df):\n",
    "    map(lamba col: plotter(col), col in df)"
   ]
  },
  {
   "cell_type": "code",
   "execution_count": null,
   "metadata": {},
   "outputs": [],
   "source": [
    "def plot_gpYR(df,col,xlab,ylab,title,kind='line'):\n",
    "    groupDF = df.groupby('birth_year')[col].value_counts().unstack()\n",
    "    plt.figure(figsize=(20,20))\n",
    "    groupDF.plot(kind=kind,logy=True, legend=True)\n",
    "    plt.xlabel(xlab)\n",
    "    plt.ylabel(ylab)\n",
    "    plt.title(title)\n",
    "    return"
   ]
  },
  {
   "cell_type": "code",
   "execution_count": 3,
   "metadata": {},
   "outputs": [],
   "source": [
    "def pct_bplot(dataframe, group = str, target = 'admit_NICU', column_title = ['Y','N'] ):\n",
    "    df1 = dataframe.groupby([group])[[target]].count()\n",
    "    df2 =  dataframe.groupby([group])[target].value_counts().unstack()\n",
    "    df2 = df2.reindex(columns=columns_titles)\n",
    "    df3 = pd.merge(df1,df2, left_index = True, right_index = True)\n",
    "    pct_df = pd.DataFrame(list(map(lambda x: df3[x]/df3[target] * 100, df3.columns[1:])))\n",
    "    pct_df = pct_df.T\n",
    "    test_df2.plot(kind = 'bar', stacked = True)"
   ]
  },
  {
   "cell_type": "code",
   "execution_count": null,
   "metadata": {},
   "outputs": [],
   "source": []
  }
 ],
 "metadata": {
  "kernelspec": {
   "display_name": "Python 3",
   "language": "python",
   "name": "python3"
  },
  "language_info": {
   "codemirror_mode": {
    "name": "ipython",
    "version": 3
   },
   "file_extension": ".py",
   "mimetype": "text/x-python",
   "name": "python",
   "nbconvert_exporter": "python",
   "pygments_lexer": "ipython3",
   "version": "3.7.4"
  }
 },
 "nbformat": 4,
 "nbformat_minor": 2
}
