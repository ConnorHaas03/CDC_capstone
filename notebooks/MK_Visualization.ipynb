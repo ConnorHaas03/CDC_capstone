{
 "cells": [
  {
   "cell_type": "markdown",
   "metadata": {},
   "source": [
    "# Libraries and datasets"
   ]
  },
  {
   "cell_type": "code",
   "execution_count": 37,
   "metadata": {},
   "outputs": [],
   "source": [
    "import pandas as pd\n",
    "import numpy as np\n",
    "import math\n",
    "import matplotlib.pyplot as plt"
   ]
  },
  {
   "cell_type": "code",
   "execution_count": 38,
   "metadata": {},
   "outputs": [],
   "source": [
    "births = pd.read_csv('../data/processed/totDF_dwnsmpl_clean.csv')\n",
    "\n",
    "births_nou = births.loc[births['admit_NICU'] != 'U']  \n"
   ]
  },
  {
   "cell_type": "code",
   "execution_count": 10,
   "metadata": {},
   "outputs": [
    {
     "data": {
      "text/plain": [
       "array(['birth_year', 'birth_month', 'birth_time', 'birth_day_of_wk',\n",
       "       'birth_place', 'mothers_age', 'mothers_nativity',\n",
       "       'mothers_residence_status', 'mothers_race',\n",
       "       'mothers_hispanic_origin', 'mothers_hispanic_origin2',\n",
       "       'paternity_acknow', 'mothers_marital_status', 'mothers_education',\n",
       "       'fathers_age', 'fathers_race', 'fathers_hispanic_origin',\n",
       "       'fathers_hispanic_origin2', 'fathers_education',\n",
       "       'prior_living_births', 'prior_dead_births', 'prior_terminations',\n",
       "       'mo_since_last_live_birth', 'mo_since_last_other_birth',\n",
       "       'mo_prenatal_care_began', 'n_prenatal_visits', 'wic', 'cigs_tri1',\n",
       "       'cigs_tri2', 'cigs_tri3', 'mothers_height', 'mothers_bmi',\n",
       "       'pre_preg_lbs', 'delivery_lbs', 'pre_preg_diab', 'gest_diab',\n",
       "       'pre_preg_hypten', 'gest_hypten', 'hypten_ecl',\n",
       "       'prev_preterm_birth', 'infertility_treatment', 'fertil_enhance',\n",
       "       'asst_repro_tech', 'n_prev_cesar', 'no_risk_reported', 'gonorrhea',\n",
       "       'syphilis', 'chlamydia', 'hepB', 'hepC', 'no_infection_reported',\n",
       "       'success_ext_cep', 'fail_ext_cep', 'induced_labor', 'aug_labor',\n",
       "       'steriods', 'antibiotics', 'chorioamnionitis', 'anesthesia',\n",
       "       'fetal_present_at_birth', 'final_delivery_method',\n",
       "       'trial_of_labor_attempt', 'maternal_transfusion',\n",
       "       'perineal_laceration', 'rupt_uterus', 'unplanned_hyster',\n",
       "       'admit_to_IC', 'attendant_at_birth', 'mother_transferred',\n",
       "       'delivery_payment_source', 'APGAR_score_5min', 'APGAR_score_10min',\n",
       "       'plurality', 'sex_of_infant', 'last_norm_menses_mo',\n",
       "       'last_norm_menses_yr', 'combined_gestation_wk', 'obst_est_edit_wk',\n",
       "       'birth_weight_gm', 'assist_vent_immed', 'assist_vent_after6',\n",
       "       'admit_NICU', 'surfactant', 'antibiotics_for_newborn', 'seizures',\n",
       "       'anencephaly', 'meningo_spina_bif', 'cyn_cong_heart_disease',\n",
       "       'cong_diaph_hernia', 'omphalocele', 'gastroschisis',\n",
       "       'limb_reduc_defect', 'cleft_lip_or_palate', 'cleft_palate_only',\n",
       "       'down_syndr', 'suspect_chromo_disorder', 'hypospadias',\n",
       "       'no_cong_anamolies_checked', 'infant_transferred',\n",
       "       'infant_living_at_report', 'infant_breastfed_at_discharge',\n",
       "       'cigs_before', 'mothers_height_reporting', 'mothers_bmi_recode',\n",
       "       'pre_preg_lbs_reporting', 'delivery_lbs_reporting', 'weight_gain',\n",
       "       'weight_gain_reporting', 'pre_preg_diab_reporting',\n",
       "       'gest_diab_reporting', 'pre_preg_hypten_reporting',\n",
       "       'gest_hypten_reporting', 'hypten_ecl_reporting',\n",
       "       'prev_preterm_birth_reporting'], dtype=object)"
      ]
     },
     "execution_count": 10,
     "metadata": {},
     "output_type": "execute_result"
    }
   ],
   "source": [
    "colnames = np.array(births.columns) #useful to reference column names\n"
   ]
  },
  {
   "cell_type": "markdown",
   "metadata": {},
   "source": [
    "## Functions"
   ]
  },
  {
   "cell_type": "code",
   "execution_count": 34,
   "metadata": {},
   "outputs": [],
   "source": [
    "# Mask a category in a feature \n",
    "#Example remove all 'U' for target feature\n",
    "def remove_category(dataframe, column = str, category = str):\n",
    "    df = dataframe.loc[dataframe[column] != category]\n",
    "    return df\n",
    "\n",
    "# Make a dataframe suitable for plotting a stacked bar graph with percentage of total as values for each sub category\n",
    "def make_pctdf(dataframe , group = str, target = 'admit_NICU',  columns_titles = ['Y','N']):\n",
    "    df1 = births_nou.loc[(births[group] == 'Y')].groupby([group])[[target]].count()\n",
    "    df2 = births_nou.loc[(births[group] == 'Y')].groupby([group])[target].value_counts().unstack()\n",
    "    df2 = df2.reindex(columns=columns_titles)\n",
    "    df3 = pd.merge(df1,df2, left_index = True, right_index = True)\n",
    "    pct_df = pd.DataFrame(list(map(lambda x: df3[x]/df3[target] * 100, df3.columns[1:])))\n",
    "    return pct_df.T\n",
    "\n",
    "#Make a dataframe suitable for plotting a bar graph with counts of one subcategory of feature\n",
    "#For example inlcude only observations marked 'Y', exclude other values\n",
    "def make_cntdf(dataframe , group = str, filter_output = str, target = 'admit_NICU',  columns_titles = ['Y','N']):\n",
    "    df1 = births_nou.loc[(births[group] == filter_output)].groupby([group])[[target]].count()\n",
    "    return df1\n",
    "\n",
    "#simple stacked bar graph with percentage of total as values for each sub category, for ease of examination\n",
    "def pct_bplot(dataframe, group = str, target = 'admit_NICU', columns_titles = ['Y','N'] ):\n",
    "    df1 = dataframe.groupby([group])[[target]].count()\n",
    "    df2 =  dataframe.groupby([group])[target].value_counts().unstack()\n",
    "    df2 = df2.reindex(columns=columns_titles)\n",
    "    df3 = pd.merge(df1,df2, left_index = True, right_index = True)\n",
    "    pct_df = pd.DataFrame(list(map(lambda x: df3[x]/df3[target] * 100, df3.columns[1:])))\n",
    "    pct_df = pct_df.T\n",
    "    pct_df.plot(kind = 'bar', stacked = True, legend = False)\n",
    "\n",
    "#plot time series for target column\n",
    "def plot_gpYR(df,col,xlab,ylab,title,kind='line'):\n",
    "    groupDF = df.groupby('birth_year')[col].value_counts().unstack()\n",
    "    plt.figure(figsize=(20,20))\n",
    "    groupDF.plot(kind=kind,logy=True, legend=True)\n",
    "    plt.xlabel(xlab)\n",
    "    plt.ylabel(ylab)\n",
    "    plt.title(title)\n",
    "    return\n",
    "#Value counts for target column, and value counts for target column when group be year\n",
    "def val_check(data_frame, column_name = str):\n",
    "    df = pd.DataFrame(data_frame)\n",
    "    col = column_name\n",
    "    print( \"Value counts of %s \\n\" %(col), df[col].value_counts())\n",
    "    print(\"Value counts of %s by year \\n\" %(col), df.groupby(['birth_year'])[col].value_counts())\n",
    "    \n",
    "#save plots, run within plotting cells\n",
    "def saveplt(filename):\n",
    "    path = './Saved_Visualizations/'\n",
    "    file1 = path + filename + '.pdf'\n",
    "    file2 = path + filename + '.png'\n",
    "    plt.savefig(file1) #as pdf\n",
    "    plt.savefig(file2) #as png"
   ]
  },
  {
   "cell_type": "markdown",
   "metadata": {},
   "source": [
    "# Visualizations\n"
   ]
  },
  {
   "cell_type": "markdown",
   "metadata": {},
   "source": [
    "## NICU admittance"
   ]
  },
  {
   "cell_type": "code",
   "execution_count": 28,
   "metadata": {},
   "outputs": [
    {
     "data": {
      "text/plain": [
       "<Figure size 1440x1440 with 0 Axes>"
      ]
     },
     "metadata": {},
     "output_type": "display_data"
    },
    {
     "data": {
      "image/png": "[encoded data removed]",
      "text/plain": [
       "<Figure size 432x288 with 1 Axes>"
      ]
     },
     "metadata": {
      "needs_background": "light"
     },
     "output_type": "display_data"
    }
   ],
   "source": [
    "#NICU admittance time series, 2014-2018\n",
    "births['admit_NICU'] = births['admit_NICU'].replace(' ', 'U')\n",
    "plot_gpYR(births,'admit_NICU',\"Year\",\"Count of NICU admission\", \"Yearly NICU admittance\",kind='line')\n",
    "\n",
    "saveplt('NICUadmit_ts')"
   ]
  },
  {
   "cell_type": "code",
   "execution_count": 30,
   "metadata": {},
   "outputs": [
    {
     "data": {
      "image/png": "[encoded data removed]",
      "text/plain": [
       "<Figure size 432x288 with 1 Axes>"
      ]
     },
     "metadata": {},
     "output_type": "display_data"
    }
   ],
   "source": [
    "#NICU admit pie chart, all years (2014-2018)\n",
    "births_nou['admit_NICU'].value_counts().plot(kind = 'pie', autopct='%1.1f%%', pctdistance = 1.4)\n",
    "\n",
    "saveplt('NICUadmit_allyears_pie')"
   ]
  },
  {
   "cell_type": "code",
   "execution_count": null,
   "metadata": {},
   "outputs": [],
   "source": [
    "#NICU admit pie chart, year (2018) only, for reference\n",
    "births.loc[births['birth_year']==2018]['admit_NICU'].value_counts().plot(kind = 'pie', autopct='%1.2f%%', pctdistance = 1.4)"
   ]
  },
  {
   "cell_type": "code",
   "execution_count": 76,
   "metadata": {},
   "outputs": [
    {
     "name": "stdout",
     "output_type": "stream",
     "text": [
      "8.75\n"
     ]
    },
    {
     "ename": "ValueError",
     "evalue": "func must be a callable if args or kwargs are supplied",
     "output_type": "error",
     "traceback": [
      "\u001b[0;31m---------------------------------------------------------------------------\u001b[0m",
      "\u001b[0;31mValueError\u001b[0m                                Traceback (most recent call last)",
      "\u001b[0;32m<ipython-input-76-63e2715ac6f4>\u001b[0m in \u001b[0;36m<module>\u001b[0;34m\u001b[0m\n\u001b[0;32m----> 1\u001b[0;31m \u001b[0mbirths_nou\u001b[0m\u001b[0;34m.\u001b[0m\u001b[0mgroupby\u001b[0m\u001b[0;34m(\u001b[0m\u001b[0;34m'birth_year'\u001b[0m\u001b[0;34m)\u001b[0m\u001b[0;34m.\u001b[0m\u001b[0mapply\u001b[0m\u001b[0;34m(\u001b[0m\u001b[0mget_pct\u001b[0m\u001b[0;34m(\u001b[0m\u001b[0;34m'admit_NICU'\u001b[0m\u001b[0;34m,\u001b[0m\u001b[0;34m'Y'\u001b[0m\u001b[0;34m)\u001b[0m\u001b[0;34m,\u001b[0m \u001b[0maxis\u001b[0m \u001b[0;34m=\u001b[0m \u001b[0;36m1\u001b[0m\u001b[0;34m)\u001b[0m\u001b[0;34m\u001b[0m\u001b[0;34m\u001b[0m\u001b[0m\n\u001b[0m\u001b[1;32m      2\u001b[0m \u001b[0;34m\u001b[0m\u001b[0m\n\u001b[1;32m      3\u001b[0m \u001b[0;34m\u001b[0m\u001b[0m\n",
      "\u001b[0;32m/opt/anaconda3/lib/python3.7/site-packages/pandas/core/groupby/groupby.py\u001b[0m in \u001b[0;36mapply\u001b[0;34m(self, func, *args, **kwargs)\u001b[0m\n\u001b[1;32m    715\u001b[0m             \u001b[0;32melse\u001b[0m\u001b[0;34m:\u001b[0m\u001b[0;34m\u001b[0m\u001b[0;34m\u001b[0m\u001b[0m\n\u001b[1;32m    716\u001b[0m                 raise ValueError(\n\u001b[0;32m--> 717\u001b[0;31m                     \u001b[0;34m\"func must be a callable if args or \"\u001b[0m \u001b[0;34m\"kwargs are supplied\"\u001b[0m\u001b[0;34m\u001b[0m\u001b[0;34m\u001b[0m\u001b[0m\n\u001b[0m\u001b[1;32m    718\u001b[0m                 )\n\u001b[1;32m    719\u001b[0m         \u001b[0;32melse\u001b[0m\u001b[0;34m:\u001b[0m\u001b[0;34m\u001b[0m\u001b[0;34m\u001b[0m\u001b[0m\n",
      "\u001b[0;31mValueError\u001b[0m: func must be a callable if args or kwargs are supplied"
     ]
    }
   ],
   "source": [
    "births_nou.groupby('birth_year').apply(get_pct('admit_NICU','Y'), axis = 1)\n",
    "\n",
    "\n"
   ]
  },
  {
   "cell_type": "code",
   "execution_count": 71,
   "metadata": {},
   "outputs": [],
   "source": [
    "def get_cnt(target = str, dataframe = births_nou):\n",
    "    return dataframe['admit_NICU'].count()\n",
    "\n",
    "def get_pct(target= str, subcat = str, dataframe = births_nou):\n",
    "    pct = 100* (dataframe.loc[dataframe[target] == subcat][target].count())/ get_cnt(target = target, dataframe = dataframe)\n",
    "    pct  = print(\"%.2f\" %(pct))\n",
    "    return pct"
   ]
  },
  {
   "cell_type": "code",
   "execution_count": 89,
   "metadata": {},
   "outputs": [
    {
     "data": {
      "text/plain": [
       "array([2014, 2015, 2016, 2017, 2018])"
      ]
     },
     "execution_count": 89,
     "metadata": {},
     "output_type": "execute_result"
    }
   ],
   "source": [
    "testdf = births_nou[['birth_year', 'admit_NICU']]\n",
    "years = births['birth_year'].unique()\n",
    "\n",
    "# list[map(lambda x : get_pct(x, 'Y'), testdf.groupby('birth_year')['admit_NICU'])]"
   ]
  },
  {
   "cell_type": "code",
   "execution_count": 99,
   "metadata": {},
   "outputs": [
    {
     "data": {
      "text/html": [
       "<div>\n",
       "<style scoped>\n",
       "    .dataframe tbody tr th:only-of-type {\n",
       "        vertical-align: middle;\n",
       "    }\n",
       "\n",
       "    .dataframe tbody tr th {\n",
       "        vertical-align: top;\n",
       "    }\n",
       "\n",
       "    .dataframe thead th {\n",
       "        text-align: right;\n",
       "    }\n",
       "</style>\n",
       "<table border=\"1\" class=\"dataframe\">\n",
       "  <thead>\n",
       "    <tr style=\"text-align: right;\">\n",
       "      <th></th>\n",
       "      <th>0</th>\n",
       "      <th>1</th>\n",
       "      <th>2</th>\n",
       "      <th>3</th>\n",
       "      <th>4</th>\n",
       "    </tr>\n",
       "  </thead>\n",
       "  <tbody>\n",
       "    <tr>\n",
       "      <td>0</td>\n",
       "      <td>2014</td>\n",
       "      <td>2015</td>\n",
       "      <td>2016</td>\n",
       "      <td>2017</td>\n",
       "      <td>2018</td>\n",
       "    </tr>\n",
       "    <tr>\n",
       "      <td>1</td>\n",
       "      <td>birth_year admit_NICU\n",
       "0             20...</td>\n",
       "      <td>birth_year admit_NICU\n",
       "200000        20...</td>\n",
       "      <td>birth_year admit_NICU\n",
       "400000        20...</td>\n",
       "      <td>birth_year admit_NICU\n",
       "600000        20...</td>\n",
       "      <td>birth_year admit_NICU\n",
       "800000        20...</td>\n",
       "    </tr>\n",
       "  </tbody>\n",
       "</table>\n",
       "</div>"
      ],
      "text/plain": [
       "                                                   0  \\\n",
       "0                                               2014   \n",
       "1          birth_year admit_NICU\n",
       "0             20...   \n",
       "\n",
       "                                                   1  \\\n",
       "0                                               2015   \n",
       "1          birth_year admit_NICU\n",
       "200000        20...   \n",
       "\n",
       "                                                   2  \\\n",
       "0                                               2016   \n",
       "1          birth_year admit_NICU\n",
       "400000        20...   \n",
       "\n",
       "                                                   3  \\\n",
       "0                                               2017   \n",
       "1          birth_year admit_NICU\n",
       "600000        20...   \n",
       "\n",
       "                                                   4  \n",
       "0                                               2018  \n",
       "1          birth_year admit_NICU\n",
       "800000        20...  "
      ]
     },
     "execution_count": 99,
     "metadata": {},
     "output_type": "execute_result"
    }
   ],
   "source": [
    "gp_yr = pd.DataFrame(testdf.groupby('birth_year'))\n",
    "gp_yr.T\n",
    "#get_pct('admit_NICU','Y',gp_yr)"
   ]
  },
  {
   "cell_type": "code",
   "execution_count": 73,
   "metadata": {},
   "outputs": [
    {
     "name": "stdout",
     "output_type": "stream",
     "text": [
      "8.75\n"
     ]
    }
   ],
   "source": [
    "get_pct('admit_NICU', 'Y')\n",
    "\n"
   ]
  },
  {
   "cell_type": "code",
   "execution_count": 50,
   "metadata": {},
   "outputs": [
    {
     "ename": "KeyboardInterrupt",
     "evalue": "",
     "output_type": "error",
     "traceback": [
      "\u001b[0;31m---------------------------------------------------------------------------\u001b[0m",
      "\u001b[0;31mKeyboardInterrupt\u001b[0m                         Traceback (most recent call last)",
      "\u001b[0;32m<ipython-input-50-2c2e5e2b2993>\u001b[0m in \u001b[0;36m<module>\u001b[0;34m\u001b[0m\n\u001b[1;32m      6\u001b[0m \u001b[0;31m# tot_admitNICU\u001b[0m\u001b[0;34m\u001b[0m\u001b[0;34m\u001b[0m\u001b[0;34m\u001b[0m\u001b[0m\n\u001b[1;32m      7\u001b[0m \u001b[0;34m\u001b[0m\u001b[0m\n\u001b[0;32m----> 8\u001b[0;31m \u001b[0mbirths_nou\u001b[0m\u001b[0;34m[\u001b[0m\u001b[0;34m'admit_NICU'\u001b[0m\u001b[0;34m]\u001b[0m\u001b[0;34m.\u001b[0m\u001b[0msum\u001b[0m\u001b[0;34m(\u001b[0m\u001b[0;34m)\u001b[0m\u001b[0;34m\u001b[0m\u001b[0;34m\u001b[0m\u001b[0m\n\u001b[0m\u001b[1;32m      9\u001b[0m \u001b[0;34m\u001b[0m\u001b[0m\n\u001b[1;32m     10\u001b[0m \u001b[0;31m# state_office = df.groupby(['state', 'office_id']).agg({'sales': 'sum'})\u001b[0m\u001b[0;34m\u001b[0m\u001b[0;34m\u001b[0m\u001b[0;34m\u001b[0m\u001b[0m\n",
      "\u001b[0;32m/opt/anaconda3/lib/python3.7/site-packages/pandas/core/generic.py\u001b[0m in \u001b[0;36mstat_func\u001b[0;34m(self, axis, skipna, level, numeric_only, min_count, **kwargs)\u001b[0m\n\u001b[1;32m  11583\u001b[0m             \u001b[0mskipna\u001b[0m\u001b[0;34m=\u001b[0m\u001b[0mskipna\u001b[0m\u001b[0;34m,\u001b[0m\u001b[0;34m\u001b[0m\u001b[0;34m\u001b[0m\u001b[0m\n\u001b[1;32m  11584\u001b[0m             \u001b[0mnumeric_only\u001b[0m\u001b[0;34m=\u001b[0m\u001b[0mnumeric_only\u001b[0m\u001b[0;34m,\u001b[0m\u001b[0;34m\u001b[0m\u001b[0;34m\u001b[0m\u001b[0m\n\u001b[0;32m> 11585\u001b[0;31m             \u001b[0mmin_count\u001b[0m\u001b[0;34m=\u001b[0m\u001b[0mmin_count\u001b[0m\u001b[0;34m,\u001b[0m\u001b[0;34m\u001b[0m\u001b[0;34m\u001b[0m\u001b[0m\n\u001b[0m\u001b[1;32m  11586\u001b[0m         )\n\u001b[1;32m  11587\u001b[0m \u001b[0;34m\u001b[0m\u001b[0m\n",
      "\u001b[0;32m/opt/anaconda3/lib/python3.7/site-packages/pandas/core/series.py\u001b[0m in \u001b[0;36m_reduce\u001b[0;34m(self, op, name, axis, skipna, numeric_only, filter_type, **kwds)\u001b[0m\n\u001b[1;32m   4085\u001b[0m                 )\n\u001b[1;32m   4086\u001b[0m             \u001b[0;32mwith\u001b[0m \u001b[0mnp\u001b[0m\u001b[0;34m.\u001b[0m\u001b[0merrstate\u001b[0m\u001b[0;34m(\u001b[0m\u001b[0mall\u001b[0m\u001b[0;34m=\u001b[0m\u001b[0;34m\"ignore\"\u001b[0m\u001b[0;34m)\u001b[0m\u001b[0;34m:\u001b[0m\u001b[0;34m\u001b[0m\u001b[0;34m\u001b[0m\u001b[0m\n\u001b[0;32m-> 4087\u001b[0;31m                 \u001b[0;32mreturn\u001b[0m \u001b[0mop\u001b[0m\u001b[0;34m(\u001b[0m\u001b[0mdelegate\u001b[0m\u001b[0;34m,\u001b[0m \u001b[0mskipna\u001b[0m\u001b[0;34m=\u001b[0m\u001b[0mskipna\u001b[0m\u001b[0;34m,\u001b[0m \u001b[0;34m**\u001b[0m\u001b[0mkwds\u001b[0m\u001b[0;34m)\u001b[0m\u001b[0;34m\u001b[0m\u001b[0;34m\u001b[0m\u001b[0m\n\u001b[0m\u001b[1;32m   4088\u001b[0m \u001b[0;34m\u001b[0m\u001b[0m\n\u001b[1;32m   4089\u001b[0m         \u001b[0;31m# TODO(EA) dispatch to Index\u001b[0m\u001b[0;34m\u001b[0m\u001b[0;34m\u001b[0m\u001b[0;34m\u001b[0m\u001b[0m\n",
      "\u001b[0;32m/opt/anaconda3/lib/python3.7/site-packages/pandas/core/nanops.py\u001b[0m in \u001b[0;36m_f\u001b[0;34m(*args, **kwargs)\u001b[0m\n\u001b[1;32m     68\u001b[0m             \u001b[0;32mtry\u001b[0m\u001b[0;34m:\u001b[0m\u001b[0;34m\u001b[0m\u001b[0;34m\u001b[0m\u001b[0m\n\u001b[1;32m     69\u001b[0m                 \u001b[0;32mwith\u001b[0m \u001b[0mnp\u001b[0m\u001b[0;34m.\u001b[0m\u001b[0merrstate\u001b[0m\u001b[0;34m(\u001b[0m\u001b[0minvalid\u001b[0m\u001b[0;34m=\u001b[0m\u001b[0;34m\"ignore\"\u001b[0m\u001b[0;34m)\u001b[0m\u001b[0;34m:\u001b[0m\u001b[0;34m\u001b[0m\u001b[0;34m\u001b[0m\u001b[0m\n\u001b[0;32m---> 70\u001b[0;31m                     \u001b[0;32mreturn\u001b[0m \u001b[0mf\u001b[0m\u001b[0;34m(\u001b[0m\u001b[0;34m*\u001b[0m\u001b[0margs\u001b[0m\u001b[0;34m,\u001b[0m \u001b[0;34m**\u001b[0m\u001b[0mkwargs\u001b[0m\u001b[0;34m)\u001b[0m\u001b[0;34m\u001b[0m\u001b[0;34m\u001b[0m\u001b[0m\n\u001b[0m\u001b[1;32m     71\u001b[0m             \u001b[0;32mexcept\u001b[0m \u001b[0mValueError\u001b[0m \u001b[0;32mas\u001b[0m \u001b[0me\u001b[0m\u001b[0;34m:\u001b[0m\u001b[0;34m\u001b[0m\u001b[0;34m\u001b[0m\u001b[0m\n\u001b[1;32m     72\u001b[0m                 \u001b[0;31m# we want to transform an object array\u001b[0m\u001b[0;34m\u001b[0m\u001b[0;34m\u001b[0m\u001b[0;34m\u001b[0m\u001b[0m\n",
      "\u001b[0;32m/opt/anaconda3/lib/python3.7/site-packages/pandas/core/nanops.py\u001b[0m in \u001b[0;36mnansum\u001b[0;34m(values, axis, skipna, min_count, mask)\u001b[0m\n\u001b[1;32m    500\u001b[0m     \u001b[0;32melif\u001b[0m \u001b[0mis_timedelta64_dtype\u001b[0m\u001b[0;34m(\u001b[0m\u001b[0mdtype\u001b[0m\u001b[0;34m)\u001b[0m\u001b[0;34m:\u001b[0m\u001b[0;34m\u001b[0m\u001b[0;34m\u001b[0m\u001b[0m\n\u001b[1;32m    501\u001b[0m         \u001b[0mdtype_sum\u001b[0m \u001b[0;34m=\u001b[0m \u001b[0mnp\u001b[0m\u001b[0;34m.\u001b[0m\u001b[0mfloat64\u001b[0m\u001b[0;34m\u001b[0m\u001b[0;34m\u001b[0m\u001b[0m\n\u001b[0;32m--> 502\u001b[0;31m     \u001b[0mthe_sum\u001b[0m \u001b[0;34m=\u001b[0m \u001b[0mvalues\u001b[0m\u001b[0;34m.\u001b[0m\u001b[0msum\u001b[0m\u001b[0;34m(\u001b[0m\u001b[0maxis\u001b[0m\u001b[0;34m,\u001b[0m \u001b[0mdtype\u001b[0m\u001b[0;34m=\u001b[0m\u001b[0mdtype_sum\u001b[0m\u001b[0;34m)\u001b[0m\u001b[0;34m\u001b[0m\u001b[0;34m\u001b[0m\u001b[0m\n\u001b[0m\u001b[1;32m    503\u001b[0m     \u001b[0mthe_sum\u001b[0m \u001b[0;34m=\u001b[0m \u001b[0m_maybe_null_out\u001b[0m\u001b[0;34m(\u001b[0m\u001b[0mthe_sum\u001b[0m\u001b[0;34m,\u001b[0m \u001b[0maxis\u001b[0m\u001b[0;34m,\u001b[0m \u001b[0mmask\u001b[0m\u001b[0;34m,\u001b[0m \u001b[0mvalues\u001b[0m\u001b[0;34m.\u001b[0m\u001b[0mshape\u001b[0m\u001b[0;34m,\u001b[0m \u001b[0mmin_count\u001b[0m\u001b[0;34m=\u001b[0m\u001b[0mmin_count\u001b[0m\u001b[0;34m)\u001b[0m\u001b[0;34m\u001b[0m\u001b[0;34m\u001b[0m\u001b[0m\n\u001b[1;32m    504\u001b[0m \u001b[0;34m\u001b[0m\u001b[0m\n",
      "\u001b[0;32m/opt/anaconda3/lib/python3.7/site-packages/numpy/core/_methods.py\u001b[0m in \u001b[0;36m_sum\u001b[0;34m(a, axis, dtype, out, keepdims, initial)\u001b[0m\n\u001b[1;32m     34\u001b[0m def _sum(a, axis=None, dtype=None, out=None, keepdims=False,\n\u001b[1;32m     35\u001b[0m          initial=_NoValue):\n\u001b[0;32m---> 36\u001b[0;31m     \u001b[0;32mreturn\u001b[0m \u001b[0mumr_sum\u001b[0m\u001b[0;34m(\u001b[0m\u001b[0ma\u001b[0m\u001b[0;34m,\u001b[0m \u001b[0maxis\u001b[0m\u001b[0;34m,\u001b[0m \u001b[0mdtype\u001b[0m\u001b[0;34m,\u001b[0m \u001b[0mout\u001b[0m\u001b[0;34m,\u001b[0m \u001b[0mkeepdims\u001b[0m\u001b[0;34m,\u001b[0m \u001b[0minitial\u001b[0m\u001b[0;34m)\u001b[0m\u001b[0;34m\u001b[0m\u001b[0;34m\u001b[0m\u001b[0m\n\u001b[0m\u001b[1;32m     37\u001b[0m \u001b[0;34m\u001b[0m\u001b[0m\n\u001b[1;32m     38\u001b[0m def _prod(a, axis=None, dtype=None, out=None, keepdims=False,\n",
      "\u001b[0;31mKeyboardInterrupt\u001b[0m: "
     ]
    }
   ],
   "source": [
    "#Admit_NICU time series\n",
    "# tempdf = remove_category(births_nou, 'admit_NICU', 'N')\n",
    "\n",
    "\n",
    "# tot_admitNICU = births_nou.groupby(['admit_NICU'] == 'Y')['admit_NICU'].count()\n",
    "# tot_admitNICU\n",
    "\n",
    "births_nou['admit_NICU'].sum()\n",
    "\n",
    "# state_office = df.groupby(['state', 'office_id']).agg({'sales': 'sum'})\n",
    "# # Change: groupby state_office and divide by sum\n",
    "# state_pcts = state_office.groupby(level=0).apply(lambda x:\n",
    "#                                                  100 * x / float(x.sum()))"
   ]
  },
  {
   "cell_type": "markdown",
   "metadata": {},
   "source": [
    "## Mother health files"
   ]
  },
  {
   "cell_type": "markdown",
   "metadata": {},
   "source": [
    "### Mother's BMI"
   ]
  },
  {
   "cell_type": "code",
   "execution_count": 101,
   "metadata": {},
   "outputs": [],
   "source": [
    "births['mother_bmi_recode'] = pd.cut(births['mothers_bmi'],[10.0,19.0, 25.0,30.0,35.0,40.0,90.0], labels = ['u','h','o','ob1','ob2','ob3'])"
   ]
  },
  {
   "cell_type": "code",
   "execution_count": 102,
   "metadata": {},
   "outputs": [
    {
     "ename": "ModuleNotFoundError",
     "evalue": "No module named 'numpy.core._multiarray_umath'",
     "output_type": "error",
     "traceback": [
      "\u001b[0;31m---------------------------------------------------------------------------\u001b[0m",
      "\u001b[0;31mModuleNotFoundError\u001b[0m                       Traceback (most recent call last)",
      "\u001b[0;31mModuleNotFoundError\u001b[0m: No module named 'numpy.core._multiarray_umath'"
     ]
    },
    {
     "data": {
      "image/png": "[encoded data removed]",
      "text/plain": [
       "<Figure size 432x288 with 1 Axes>"
      ]
     },
     "metadata": {
      "needs_background": "light"
     },
     "output_type": "display_data"
    },
    {
     "data": {
      "image/png": "[encoded data removed]",
      "text/plain": [
       "<Figure size 432x288 with 1 Axes>"
      ]
     },
     "metadata": {
      "needs_background": "light"
     },
     "output_type": "display_data"
    }
   ],
   "source": [
    "bmi_plt = births.loc[births['admit_NICU'] != 'U'].groupby(['mother_bmi_recode'])['admit_NICU'].value_counts().unstack()\n",
    "bmi_plt.plot(kind = 'bar', stacked = True, color = ['#ff7f00','#1f77b4'])\n",
    "pct_bplot(births,'mother_bmi_recode')"
   ]
  },
  {
   "cell_type": "code",
   "execution_count": 103,
   "metadata": {},
   "outputs": [
    {
     "data": {
      "image/png": "[encoded data removed]",
      "text/plain": [
       "<Figure size 432x288 with 1 Axes>"
      ]
     },
     "metadata": {
      "needs_background": "light"
     },
     "output_type": "display_data"
    }
   ],
   "source": [
    "pct_bplot(births,'mother_bmi_recode')"
   ]
  },
  {
   "cell_type": "markdown",
   "metadata": {},
   "source": [
    "## Mother's Age"
   ]
  },
  {
   "cell_type": "code",
   "execution_count": 105,
   "metadata": {},
   "outputs": [
    {
     "data": {
      "image/png": "[encoded data removed]",
      "text/plain": [
       "<Figure size 432x288 with 1 Axes>"
      ]
     },
     "metadata": {
      "needs_background": "light"
     },
     "output_type": "display_data"
    },
    {
     "data": {
      "image/png": "[encoded data removed]",
      "text/plain": [
       "<Figure size 432x288 with 1 Axes>"
      ]
     },
     "metadata": {
      "needs_background": "light"
     },
     "output_type": "display_data"
    }
   ],
   "source": [
    "births['mothers_age_groups']= pd.cut(births['mothers_age'], 4, labels = ['12-19', '20-29', '30-39','40-50'])\n",
    "bmi_plt = births.loc[births['admit_NICU'] != 'U'].groupby(['mothers_age_groups'])['admit_NICU'].value_counts().unstack()\n",
    "bmi_plt.plot(kind = 'bar', stacked = True, color = ['#ff7f00','#1f77b4'])\n",
    "pct_bplot(births,'mothers_age_groups')"
   ]
  },
  {
   "cell_type": "code",
   "execution_count": null,
   "metadata": {},
   "outputs": [],
   "source": [
    "births['mothers_age'].max()"
   ]
  },
  {
   "cell_type": "code",
   "execution_count": 106,
   "metadata": {},
   "outputs": [
    {
     "data": {
      "image/png": "[encoded data removed]",
      "text/plain": [
       "<Figure size 432x288 with 1 Axes>"
      ]
     },
     "metadata": {
      "needs_background": "light"
     },
     "output_type": "display_data"
    },
    {
     "data": {
      "image/png": "[encoded data removed]",
      "text/plain": [
       "<Figure size 432x288 with 1 Axes>"
      ]
     },
     "metadata": {
      "needs_background": "light"
     },
     "output_type": "display_data"
    }
   ],
   "source": [
    "births['mothers_age_groups2']= pd.cut(births['mothers_age'], [0,14,19,24,29,34,39,44,49,100],\n",
    "                                     labels = ['<15', '15-19', '20-24','25-29','30-34','35-39','40-44','45-49','50-100'])\n",
    "bmi_plt = births.loc[births['admit_NICU'] != 'U'].groupby(['mothers_age_groups2'])['admit_NICU'].value_counts().unstack()\n",
    "bmi_plt.plot(kind = 'bar', logy = True, stacked = True, color = ['#ff7f00','#1f77b4'])\n",
    "pct_bplot(births,'mothers_age_groups2')\n",
    "\n",
    "#Resize plot area to fit within Figure Size\n",
    "plt.tight_layout(rect = (0,0,.8,1))\n",
    "\n",
    "#Save Figure\n",
    "plt.savefig('./Saved_Visualizations/mother_agegrps.pdf')\n",
    "plt.savefig('./Saved_Visualizations/mother_agegrps.png')"
   ]
  },
  {
   "cell_type": "markdown",
   "metadata": {},
   "source": [
    "## Prior-termination births"
   ]
  },
  {
   "cell_type": "code",
   "execution_count": null,
   "metadata": {},
   "outputs": [],
   "source": [
    "pter_plt = births_nou.groupby(['prior_terminations'])['admit_NICU'].value_counts().unstack()\n",
    "pter_plt.plot(kind = 'bar', logy = True, stacked = True, color = ['#ff7f00','#1f77b4'])\n",
    "pct_bplot(births_nou,'prior_terminations')"
   ]
  },
  {
   "cell_type": "markdown",
   "metadata": {},
   "source": [
    "# Prior living births"
   ]
  },
  {
   "cell_type": "code",
   "execution_count": null,
   "metadata": {},
   "outputs": [],
   "source": [
    "plive_plt = births_nou.groupby(['prior_living_births'])['admit_NICU'].value_counts().unstack()\n",
    "plive_plt.plot(kind = 'bar', logy = True, stacked = True, color = ['#ff7f00','#1f77b4'])\n",
    "pct_bplot(births_nou,'prior_living_births')"
   ]
  },
  {
   "cell_type": "markdown",
   "metadata": {},
   "source": [
    "## Prior Dead births"
   ]
  },
  {
   "cell_type": "code",
   "execution_count": null,
   "metadata": {},
   "outputs": [],
   "source": [
    "pdead_plt = births_nou.groupby(['prior_dead_births'])['admit_NICU'].value_counts().unstack()\n",
    "pdead_plt.plot(kind = 'bar', logy = True, stacked = True, color = ['#ff7f00','#1f77b4'])\n",
    "pct_bplot(births_nou,'prior_dead_births')"
   ]
  },
  {
   "cell_type": "markdown",
   "metadata": {},
   "source": [
    "## time from last pregnancy\n"
   ]
  },
  {
   "cell_type": "code",
   "execution_count": null,
   "metadata": {},
   "outputs": [],
   "source": [
    "#Since last other birth\n",
    "val_check(births,'mo_since_last_live_birth')\n",
    "plt.hist(births['mo_since_last_live_birth'])"
   ]
  },
  {
   "cell_type": "code",
   "execution_count": null,
   "metadata": {},
   "outputs": [],
   "source": [
    "#Need to regroup somehows\n",
    "mo_live_plt = births_nou.groupby(['mo_since_last_live_birth'])['admit_NICU'].value_counts().unstack()\n",
    "mo_live_plt.plot(kind = 'bar', logy = True, stacked = True, color = ['#ff7f00','#1f77b4'])\n",
    "pct_bplot(births_nou,'mo_since_last_live_birth')"
   ]
  },
  {
   "cell_type": "code",
   "execution_count": null,
   "metadata": {},
   "outputs": [],
   "source": [
    "#Since last other birth\n",
    "val_check(births,'mo_since_last_other_birth')\n",
    "plt.hist(births['mo_since_last_other_birth'])"
   ]
  },
  {
   "cell_type": "code",
   "execution_count": null,
   "metadata": {},
   "outputs": [],
   "source": []
  },
  {
   "cell_type": "markdown",
   "metadata": {},
   "source": [
    "# Diabetes"
   ]
  },
  {
   "cell_type": "code",
   "execution_count": null,
   "metadata": {},
   "outputs": [],
   "source": [
    "gestdiab_plt = births_nou.groupby(['gest_diab'])['admit_NICU'].value_counts().unstack()\n",
    "gestdiab_plt.plot(kind = 'bar', logy = True, stacked = True, color = ['#ff7f00','#1f77b4'])\n",
    "pct_bplot(births,'gest_diab')"
   ]
  },
  {
   "cell_type": "code",
   "execution_count": null,
   "metadata": {},
   "outputs": [],
   "source": [
    "prepregdiab_plt = births_nou.groupby(['pre_preg_diab'])['admit_NICU'].value_counts().unstack()\n",
    "prepregdiab_plt.plot(kind = 'bar', logy = True, stacked = True, color = ['#ff7f00','#1f77b4'])\n",
    "pct_bplot(births,'pre_preg_diab')"
   ]
  },
  {
   "cell_type": "markdown",
   "metadata": {},
   "source": [
    "## Prenatal visits"
   ]
  },
  {
   "cell_type": "code",
   "execution_count": null,
   "metadata": {},
   "outputs": [],
   "source": [
    "val_check(births,'n_prenatal_visits')\n",
    "plt.hist(births['n_prenatal_visits'])"
   ]
  },
  {
   "cell_type": "code",
   "execution_count": null,
   "metadata": {},
   "outputs": [],
   "source": [
    "births['mothers_age_groups2']= pd.cut(births['mothers_age'], [0,14,19,24,29,34,39,44,49,100],\n",
    "                                     labels = ['<15', '15-19', '20-24','25-29','30-34','35-39','40-44','45-49','50-100'])\n",
    "bmi_plt = births.loc[births['admit_NICU'] != 'U'].groupby(['mothers_age_groups2'])['admit_NICU'].value_counts().unstack()\n",
    "bmi_plt.plot(kind = 'bar', logy = True, stacked = True, color = ['#ff7f00','#1f77b4'])\n",
    "pct_bplot(births,'mothers_age_groups2')"
   ]
  },
  {
   "cell_type": "markdown",
   "metadata": {},
   "source": [
    "## Mother's Health Risk Factors "
   ]
  },
  {
   "cell_type": "code",
   "execution_count": null,
   "metadata": {},
   "outputs": [],
   "source": [
    "cnames_list = ['gest_diab','pre_preg_diab', 'gest_hypten', 'pre_preg_hypten', 'hypten_ecl', 'prev_preterm_birth']\n",
    "fullnames_list =['Gestational Diabetes', \"Pre-pregancy Diabetes\",'Gestational Hypertension', 'Pre-pregnancy Hypertension', 'Hypertension Eclampsia', 'Previous Pre-term Birth']\n",
    "test = pd.concat(map( lambda cname: make_pctdf( births_nou, cname ), cnames_list ))\n",
    "# print(test)\n",
    "test_plt = (test.div(test.sum(1), axis=0)).plot(kind = 'barh', width = 0.8, stacked = True, figsize = (10,9))\n",
    "test_plt.set_yticklabels(fullnames_list, fontsize = 12)"
   ]
  },
  {
   "cell_type": "code",
   "execution_count": null,
   "metadata": {},
   "outputs": [],
   "source": [
    "test_plt = (test.div(test.sum(1), axis=0)).plot(kind = 'barh', width = 0.8, stacked = True, figsize = (10,9))\n",
    "# test_plt = (test.div(test.sum(1), axis=0)).sort_values(by = 1 ,ascending=False).plot(kind = 'barh', width = 0.8, stacked = True, figsize = (10,9))\n",
    "#Need to figure out how to adjust axis labels to follow sorted data automatically\n",
    "\n",
    "#Formatting  \n",
    "plt.axvline(x=(9.14/100), color='r', linestyle='-', label = '8.7%')\n",
    "test_plt.set_yticklabels(fullnames_list, fontsize = 12)\n",
    "test_plt.set_xticklabels(('0','20','40','60','80', '100'))\n",
    "test_plt.set_title(\"Mother's Health Risk Factors Resulting in NICU Admittance \", fontsize = 16)\n",
    "leg = test_plt.legend(labels=[' Average Rate of Admittance, 8.7%', 'Admitted to NICU', 'Normal Birth'],fontsize= 10, loc = 'lower center')\n",
    "#Add annotation \n",
    "for p in test_plt.patches:\n",
    "    width, height = p.get_width(), p.get_height()\n",
    "    x, y = p.get_xy()\n",
    "    test_plt.annotate('{:.0%}'.format(width), (p.get_x()+.9*width, p.get_y() + height - .5),\n",
    "                      ha = 'center', color = 'white', fontsize = 14)\n",
    "\n",
    "# Get the bounding box of the original legend\n",
    "bb = leg.get_bbox_to_anchor().inverse_transformed(test_plt.transAxes)\n",
    "\n",
    "# Change to location of the legend. \n",
    "xOffset = -.2\n",
    "bb.y0 += xOffset\n",
    "bb.y1 += xOffset\n",
    "leg.set_bbox_to_anchor(bb, transform = test_plt.transAxes)\n",
    "\n",
    "#Resize plot area to fit within Figure Size\n",
    "plt.tight_layout(rect = (0,0,.8,1))\n",
    "\n",
    "#Save Figure\n",
    "plt.savefig('./Saved_Visualizations/mother_health_risks_barpct.pdf')\n",
    "plt.savefig('./Saved_Visualizations/mother_health_risks_barpct.png')"
   ]
  },
  {
   "cell_type": "markdown",
   "metadata": {},
   "source": [
    "Vertical version template"
   ]
  },
  {
   "cell_type": "code",
   "execution_count": null,
   "metadata": {},
   "outputs": [],
   "source": [
    "test_plt = (test.div(test.sum(1), axis=0)).plot(kind = 'bar', width = 0.8, stacked = True, figsize = (10,9))\n",
    "# test_plt = (test.div(test.sum(1), axis=0)).sort_values(by = 1 ,ascending=False).plot(kind = 'bar', width = 0.8, stacked = True, figsize = (10,7))\n",
    "#Formatting \n",
    "plt.axhline(y=(9.14/100), color='r', linestyle='-', label = '9%')\n",
    "test_plt.set_xticklabels(fullnames_list)\n",
    "test_plt.set_title(\"Mother's Health Risk Factors Resulting in NICU Admittance \", fontsize = 16)\n",
    "leg = test_plt.legend(labels=[' Average Rate of Admittance, 8.7%', 'Admitted to NICU', 'Normal Birth'],fontsize= 10, loc = 'upper right')\n",
    "\n",
    "#Adding annotation for percentages\n",
    "for p in test_plt.patches:\n",
    "    width, height = p.get_width(), p.get_height()\n",
    "    x, y = p.get_xy()\n",
    "    test_plt.annotate('{:.0%}'.format(height), (p.get_x()+.5*width, p.get_y() + height - 0.1), ha = 'center', color = 'w')\n",
    "\n",
    "# Get the bounding box of the original legend\n",
    "bb = leg.get_bbox_to_anchor().inverse_transformed(test_plt.transAxes)\n",
    "\n",
    "# Change to location of the legend. \n",
    "xOffset = .3\n",
    "bb.x0 += xOffset\n",
    "bb.x1 += xOffset\n",
    "leg.set_bbox_to_anchor(bb, transform = test_plt.transAxes)\n",
    "\n",
    "#Resize plot area to fit within Figure Size\n",
    "plt.tight_layout(pad = -12, rect = (0,0,.8,.9))\n",
    "\n"
   ]
  },
  {
   "cell_type": "markdown",
   "metadata": {},
   "source": [
    "####  Mother's Health Risk Factors Counts  "
   ]
  },
  {
   "cell_type": "code",
   "execution_count": null,
   "metadata": {},
   "outputs": [],
   "source": [
    "cnames_list = ['gest_diab','pre_preg_diab', 'gest_hypten', 'pre_preg_hypten', 'hypten_ecl', 'prev_preterm_birth']\n",
    "fullnames_list =['Gestational Diabetes', \"Pre-pregancy Diabetes\",'Gestational Hypertension', 'Pre-pregnancy Hypertension', 'Hypertension Eclampsia', 'Previous Pre-term Birth']\n",
    "test2 = pd.concat(map( lambda cname: make_cntdf( births_nou, cname ), cnames_list ))"
   ]
  },
  {
   "cell_type": "code",
   "execution_count": null,
   "metadata": {},
   "outputs": [],
   "source": [
    "test2_plt = test2['admit_NICU'].plot(kind = 'barh', width = 0.8, stacked = True, figsize = (10,9))\n",
    "\n",
    "#Setting tick labels empty becasue meant to align with Percentage plot\n",
    "#must figure out how to make this a subplot of the above\n",
    "test2_plt.set_yticklabels('', fontsize = 12)\n",
    "test2_plt.set_title(\"Mother's Health Risk Factors Counts \", fontsize = 16)\n",
    "plt.grid(axis = 'x')\n",
    "\n",
    "#Resize plot area to fit within Figure Size\n",
    "plt.tight_layout(rect = (0,0,.8,1))\n",
    "\n",
    "\n",
    "plt.savefig('./Saved_Visualizations/mother_health_risks_barcnt.pdf')\n",
    "plt.savefig('./Saved_Visualizations/mother_health_risks_barcnt.png')"
   ]
  },
  {
   "cell_type": "markdown",
   "metadata": {},
   "source": [
    "## Mother's Health Risks Infections"
   ]
  },
  {
   "cell_type": "code",
   "execution_count": null,
   "metadata": {},
   "outputs": [],
   "source": [
    "cnames_list = ['gonorrhea','syphilis', 'chlamydia', 'hepB', 'hepC']\n",
    "fullnames_list =['Gonorrhea', \"Syphilis\",'Chlamydia', 'Hepatis B', 'Hepatitis C']\n",
    "test = pd.concat(map( lambda cname: make_pctdf( births_nou, cname ), cnames_list ))\n",
    "test2 = pd.concat(map( lambda cname: make_cntdf( births_nou, cname ), cnames_list ))"
   ]
  },
  {
   "cell_type": "code",
   "execution_count": null,
   "metadata": {},
   "outputs": [],
   "source": [
    "test_plt = (test.div(test.sum(1), axis=0)).plot(kind = 'barh', width = 0.8, stacked = True, figsize = (10,9))\n",
    "# test_plt = (test.div(test.sum(1), axis=0)).sort_values(by = 1 ,ascending=False).plot(kind = 'barh', width = 0.8, stacked = True, figsize = (10,9))\n",
    "#Need to figure out how to adjust axis labels to follow sorted data automatically\n",
    "\n",
    "#Formatting  \n",
    "plt.axvline(x=(9.14/100), color='r', linestyle='-', label = '8.7%')\n",
    "test_plt.set_yticklabels(fullnames_list, fontsize = 12)\n",
    "test_plt.set_xticklabels(('0','20','40','60','80', '100'))\n",
    "test_plt.set_title(\"Mother's Health Risk Factors Resulting in NICU Admittance \", fontsize = 16)\n",
    "leg = test_plt.legend(labels=[' Average Rate of Admittance, 8.7%', 'Admitted to NICU', 'Normal Birth'],fontsize= 10, loc = 'lower center')\n",
    "#Add annotation \n",
    "for p in test_plt.patches:\n",
    "    width, height = p.get_width(), p.get_height()\n",
    "    x, y = p.get_xy()\n",
    "    test_plt.annotate('{:.0%}'.format(width), (p.get_x()+.9*width, p.get_y() + height - .5),\n",
    "                      ha = 'center', color = 'white', fontsize = 14)\n",
    "\n",
    "# Get the bounding box of the original legend\n",
    "bb = leg.get_bbox_to_anchor().inverse_transformed(test_plt.transAxes)\n",
    "\n",
    "# Change to location of the legend. \n",
    "xOffset = -.2\n",
    "bb.y0 += xOffset\n",
    "bb.y1 += xOffset\n",
    "leg.set_bbox_to_anchor(bb, transform = test_plt.transAxes)\n",
    "\n",
    "#Resize plot area to fit within Figure Size\n",
    "plt.tight_layout(rect = (0,0,.8,1))\n",
    "\n",
    "#Save Figure\n",
    "plt.savefig('./Saved_Visualizations/mother_health_infections_barpct.pdf')\n",
    "plt.savefig('./Saved_Visualizations/mother_health_infections_barpct.png')"
   ]
  },
  {
   "cell_type": "code",
   "execution_count": null,
   "metadata": {},
   "outputs": [],
   "source": [
    "test2_plt = test2['admit_NICU'].plot(kind = 'barh', width = 0.8, stacked = True, figsize = (10,9))\n",
    "\n",
    "#Setting tick labels empty becasue meant to align with Percentage plot\n",
    "#must figure out how to make this a subplot of the above\n",
    "test2_plt.set_yticklabels('', fontsize = 12)\n",
    "test2_plt.set_title(\"Mother's Health Risk Factors Counts \", fontsize = 16)\n",
    "plt.grid(axis = 'x')\n",
    "\n",
    "#Resize plot area to fit within Figure Size\n",
    "plt.tight_layout(rect = (0,0,.8,1))\n",
    "\n",
    "\n",
    "plt.savefig('./Saved_Visualizations/mother_health_infections_barcnt.pdf')\n",
    "plt.savefig('./Saved_Visualizations/mother_health_infections_barcnt.png')"
   ]
  },
  {
   "cell_type": "markdown",
   "metadata": {},
   "source": [
    "### Delivery type"
   ]
  },
  {
   "cell_type": "code",
   "execution_count": null,
   "metadata": {},
   "outputs": [],
   "source": [
    "cnames_list = ['infertility_treatment','fertil_enhance', 'asst_repro_tech']\n",
    "fullnames_list =['Infertility Treatment', \"Fertility Enhancement\",'Assistant Reproductive Technology']\n",
    "test = pd.concat(map( lambda cname: make_pctdf( births_nou, cname ), cnames_list ))\n",
    "test2 = pd.concat(map( lambda cname: make_cntdf( births_nou, cname ), cnames_list ))"
   ]
  },
  {
   "cell_type": "code",
   "execution_count": null,
   "metadata": {},
   "outputs": [],
   "source": [
    "test_plt = (test.div(test.sum(1), axis=0)).plot(kind = 'barh', width = 0.8, stacked = True, figsize = (10,9))\n",
    "# test_plt = (test.div(test.sum(1), axis=0)).sort_values(by = 1 ,ascending=False).plot(kind = 'barh', width = 0.8, stacked = True, figsize = (10,9))\n",
    "#Need to figure out how to adjust axis labels to follow sorted data automatically\n",
    "\n",
    "#Formatting  \n",
    "plt.axvline(x=(9.14/100), color='r', linestyle='-', label = '8.7%')\n",
    "test_plt.set_yticklabels(fullnames_list, fontsize = 12)\n",
    "test_plt.set_xticklabels(('0','20','40','60','80', '100'))\n",
    "test_plt.set_title(\"Mother's Health Risk Factors Resulting in NICU Admittance \", fontsize = 16)\n",
    "leg = test_plt.legend(labels=[' Average Rate of Admittance, 8.7%', 'Admitted to NICU', 'Normal Birth'],fontsize= 10, loc = 'lower center')\n",
    "#Add annotation \n",
    "for p in test_plt.patches:\n",
    "    width, height = p.get_width(), p.get_height()\n",
    "    x, y = p.get_xy()\n",
    "    test_plt.annotate('{:.0%}'.format(width), (p.get_x()+.9*width, p.get_y() + height - .5),\n",
    "                      ha = 'center', color = 'white', fontsize = 14)\n",
    "\n",
    "# Get the bounding box of the original legend\n",
    "bb = leg.get_bbox_to_anchor().inverse_transformed(test_plt.transAxes)\n",
    "\n",
    "# Change to location of the legend. \n",
    "xOffset = -.2\n",
    "bb.y0 += xOffset\n",
    "bb.y1 += xOffset\n",
    "leg.set_bbox_to_anchor(bb, transform = test_plt.transAxes)\n",
    "\n",
    "#Resize plot area to fit within Figure Size\n",
    "plt.tight_layout(rect = (0,0,.8,1))\n",
    "\n",
    "#Save Figure\n",
    "plt.savefig('./Saved_Visualizations/mother_health_fertility_barpct.pdf')\n",
    "plt.savefig('./Saved_Visualizations/mother_health_fertility_barpct.png')"
   ]
  },
  {
   "cell_type": "code",
   "execution_count": null,
   "metadata": {},
   "outputs": [],
   "source": [
    "test2_plt = test2['admit_NICU'].plot(kind = 'barh', width = 0.8, stacked = True, figsize = (10,9))\n",
    "\n",
    "#Setting tick labels empty becasue meant to align with Percentage plot\n",
    "#must figure out how to make this a subplot of the above\n",
    "test2_plt.set_yticklabels('', fontsize = 12)\n",
    "test2_plt.set_title(\"Mother's Health Risk Factors Counts \", fontsize = 16)\n",
    "plt.grid(axis = 'x')\n",
    "\n",
    "#Resize plot area to fit within Figure Size\n",
    "plt.tight_layout(rect = (0,0,.8,1))\n",
    "\n",
    "\n",
    "plt.savefig('./Saved_Visualizations/mother_health_fertility_barcnt.pdf')\n",
    "plt.savefig('./Saved_Visualizations/mother_health_rfertility_barcnt.png')"
   ]
  },
  {
   "cell_type": "markdown",
   "metadata": {},
   "source": [
    "## Infant congenital factors"
   ]
  },
  {
   "cell_type": "code",
   "execution_count": null,
   "metadata": {},
   "outputs": [],
   "source": [
    "cnames_list = ['seizures',\n",
    "       'anencephaly', 'meningo_spina_bif', 'cyn_cong_heart_disease',\n",
    "       'cong_diaph_hernia', 'omphalocele', 'gastroschisis',\n",
    "       'limb_reduc_defect', 'cleft_lip_or_palate', 'cleft_palate_only',\n",
    "        'hypospadias']\n",
    "fullnames_list =['seizures',\n",
    "       'anencephaly', 'meningo_spina_bif', 'cyn_cong_heart_disease',\n",
    "       'cong_diaph_hernia', 'omphalocele', 'gastroschisis',\n",
    "       'limb_reduc_defect', 'cleft_lip_or_palate', 'cleft_palate_only',\n",
    "         'hypospadias']\n",
    "test = pd.concat(map( lambda cname: make_pctdf( births_nou, cname ), cnames_list ))\n",
    "test2 = pd.concat(map( lambda cname: make_cntdf( births_nou, cname ), cnames_list ))\n",
    "\n",
    "## Need to do a separate graph form down syndrome and suspected chromosomal disorder(Each\n",
    "# has a third option for pending results)"
   ]
  },
  {
   "cell_type": "code",
   "execution_count": null,
   "metadata": {},
   "outputs": [],
   "source": [
    "colnames\n"
   ]
  },
  {
   "cell_type": "code",
   "execution_count": null,
   "metadata": {},
   "outputs": [],
   "source": [
    "test_plt = (test.div(test.sum(1), axis=0)).plot(kind = 'barh', width = 0.8, stacked = True, figsize = (10,9))\n",
    "# test_plt = (test.div(test.sum(1), axis=0)).sort_values(by = 1 ,ascending=False).plot(kind = 'barh', width = 0.8, stacked = True, figsize = (10,9))\n",
    "#Need to figure out how to adjust axis labels to follow sorted data automatically\n",
    "\n",
    "#Formatting  \n",
    "plt.axvline(x=(9.14/100), color='r', linestyle='-', label = '8.7%')\n",
    "test_plt.set_yticklabels(fullnames_list, fontsize = 12)\n",
    "test_plt.set_xticklabels(('0','20','40','60','80', '100'))\n",
    "test_plt.set_title(\"Infant's Congenital Factors Resulting in NICU Admittance \", fontsize = 16)\n",
    "leg = test_plt.legend(labels=[' Average Rate of Admittance, 8.7%', 'Admitted to NICU', 'Normal Birth'],fontsize= 10, loc = 'lower center')\n",
    "#Add annotation \n",
    "for p in test_plt.patches:\n",
    "    width, height = p.get_width(), p.get_height()\n",
    "    x, y = p.get_xy()\n",
    "    test_plt.annotate('{:.0%}'.format(width), (p.get_x()+.9*width, p.get_y() + height - .5),\n",
    "                      ha = 'center', color = 'white', fontsize = 14)\n",
    "\n",
    "# Get the bounding box of the original legend\n",
    "bb = leg.get_bbox_to_anchor().inverse_transformed(test_plt.transAxes)\n",
    "\n",
    "# Change to location of the legend. \n",
    "xOffset = -.2\n",
    "bb.y0 += xOffset\n",
    "bb.y1 += xOffset\n",
    "leg.set_bbox_to_anchor(bb, transform = test_plt.transAxes)\n",
    "\n",
    "#Resize plot area to fit within Figure Size\n",
    "plt.tight_layout(rect = (0,0,.8,1))\n",
    "\n",
    "#Save Figure\n",
    "plt.savefig('./Saved_Visualizations/infant_congenital_barpct.pdf')\n",
    "plt.savefig('./Saved_Visualizations/infant_congenital_barpct.png')"
   ]
  },
  {
   "cell_type": "code",
   "execution_count": null,
   "metadata": {},
   "outputs": [],
   "source": [
    "test2_plt = test2['admit_NICU'].plot(kind = 'barh', width = 0.8, stacked = True, figsize = (10,9))\n",
    "\n",
    "#Setting tick labels empty becasue meant to align with Percentage plot\n",
    "#must figure out how to make this a subplot of the above\n",
    "test2_plt.set_yticklabels(fullnames_list, fontsize = 12)\n",
    "test2_plt.set_title(\"Infant's Congenital Factors Counts \", fontsize = 16)\n",
    "plt.grid(axis = 'x')\n",
    "\n",
    "#Resize plot area to fit within Figure Size\n",
    "plt.tight_layout(rect = (0,0,.8,1))\n",
    "\n",
    "\n",
    "plt.savefig('./Saved_Visualizations/infant_congenital_barcnt.pdf')\n",
    "plt.savefig('./Saved_Visualizations/infant_congenital_barcnt.png')"
   ]
  },
  {
   "cell_type": "markdown",
   "metadata": {},
   "source": [
    "## Delivery Complications\n"
   ]
  },
  {
   "cell_type": "code",
   "execution_count": 8,
   "metadata": {},
   "outputs": [
    {
     "ename": "NameError",
     "evalue": "name 'births_nou' is not defined",
     "output_type": "error",
     "traceback": [
      "\u001b[0;31m---------------------------------------------------------------------------\u001b[0m",
      "\u001b[0;31mNameError\u001b[0m                                 Traceback (most recent call last)",
      "\u001b[0;32m<ipython-input-8-803300a1ba73>\u001b[0m in \u001b[0;36m<module>\u001b[0;34m\u001b[0m\n\u001b[1;32m      3\u001b[0m fullnames_list =['Perineal Laceration', 'Rupture Uterus',\n\u001b[1;32m      4\u001b[0m        'Unplanned Hysterectomy', 'Mother Admitted to IC', 'Induced Labor', 'AugLabor', 'Steroids', 'Antibiotics']\n\u001b[0;32m----> 5\u001b[0;31m \u001b[0mtest\u001b[0m \u001b[0;34m=\u001b[0m \u001b[0mpd\u001b[0m\u001b[0;34m.\u001b[0m\u001b[0mconcat\u001b[0m\u001b[0;34m(\u001b[0m\u001b[0mmap\u001b[0m\u001b[0;34m(\u001b[0m \u001b[0;32mlambda\u001b[0m \u001b[0mcname\u001b[0m\u001b[0;34m:\u001b[0m \u001b[0mmake_pctdf\u001b[0m\u001b[0;34m(\u001b[0m \u001b[0mbirths_nou\u001b[0m\u001b[0;34m,\u001b[0m \u001b[0mcname\u001b[0m \u001b[0;34m)\u001b[0m\u001b[0;34m,\u001b[0m \u001b[0mcnames_list\u001b[0m \u001b[0;34m)\u001b[0m\u001b[0;34m)\u001b[0m\u001b[0;34m\u001b[0m\u001b[0;34m\u001b[0m\u001b[0m\n\u001b[0m\u001b[1;32m      6\u001b[0m \u001b[0mtest2\u001b[0m \u001b[0;34m=\u001b[0m \u001b[0mpd\u001b[0m\u001b[0;34m.\u001b[0m\u001b[0mconcat\u001b[0m\u001b[0;34m(\u001b[0m\u001b[0mmap\u001b[0m\u001b[0;34m(\u001b[0m \u001b[0;32mlambda\u001b[0m \u001b[0mcname\u001b[0m\u001b[0;34m:\u001b[0m \u001b[0mmake_cntdf\u001b[0m\u001b[0;34m(\u001b[0m \u001b[0mbirths_nou\u001b[0m\u001b[0;34m,\u001b[0m \u001b[0mcname\u001b[0m \u001b[0;34m)\u001b[0m\u001b[0;34m,\u001b[0m \u001b[0mcnames_list\u001b[0m \u001b[0;34m)\u001b[0m\u001b[0;34m)\u001b[0m\u001b[0;34m\u001b[0m\u001b[0;34m\u001b[0m\u001b[0m\n",
      "\u001b[0;32m/opt/anaconda3/lib/python3.7/site-packages/pandas/core/reshape/concat.py\u001b[0m in \u001b[0;36mconcat\u001b[0;34m(objs, axis, join, join_axes, ignore_index, keys, levels, names, verify_integrity, sort, copy)\u001b[0m\n\u001b[1;32m    253\u001b[0m         \u001b[0mverify_integrity\u001b[0m\u001b[0;34m=\u001b[0m\u001b[0mverify_integrity\u001b[0m\u001b[0;34m,\u001b[0m\u001b[0;34m\u001b[0m\u001b[0;34m\u001b[0m\u001b[0m\n\u001b[1;32m    254\u001b[0m         \u001b[0mcopy\u001b[0m\u001b[0;34m=\u001b[0m\u001b[0mcopy\u001b[0m\u001b[0;34m,\u001b[0m\u001b[0;34m\u001b[0m\u001b[0;34m\u001b[0m\u001b[0m\n\u001b[0;32m--> 255\u001b[0;31m         \u001b[0msort\u001b[0m\u001b[0;34m=\u001b[0m\u001b[0msort\u001b[0m\u001b[0;34m,\u001b[0m\u001b[0;34m\u001b[0m\u001b[0;34m\u001b[0m\u001b[0m\n\u001b[0m\u001b[1;32m    256\u001b[0m     )\n\u001b[1;32m    257\u001b[0m \u001b[0;34m\u001b[0m\u001b[0m\n",
      "\u001b[0;32m/opt/anaconda3/lib/python3.7/site-packages/pandas/core/reshape/concat.py\u001b[0m in \u001b[0;36m__init__\u001b[0;34m(self, objs, axis, join, join_axes, keys, levels, names, ignore_index, verify_integrity, copy, sort)\u001b[0m\n\u001b[1;32m    299\u001b[0m             \u001b[0mobjs\u001b[0m \u001b[0;34m=\u001b[0m \u001b[0;34m[\u001b[0m\u001b[0mobjs\u001b[0m\u001b[0;34m[\u001b[0m\u001b[0mk\u001b[0m\u001b[0;34m]\u001b[0m \u001b[0;32mfor\u001b[0m \u001b[0mk\u001b[0m \u001b[0;32min\u001b[0m \u001b[0mkeys\u001b[0m\u001b[0;34m]\u001b[0m\u001b[0;34m\u001b[0m\u001b[0;34m\u001b[0m\u001b[0m\n\u001b[1;32m    300\u001b[0m         \u001b[0;32melse\u001b[0m\u001b[0;34m:\u001b[0m\u001b[0;34m\u001b[0m\u001b[0;34m\u001b[0m\u001b[0m\n\u001b[0;32m--> 301\u001b[0;31m             \u001b[0mobjs\u001b[0m \u001b[0;34m=\u001b[0m \u001b[0mlist\u001b[0m\u001b[0;34m(\u001b[0m\u001b[0mobjs\u001b[0m\u001b[0;34m)\u001b[0m\u001b[0;34m\u001b[0m\u001b[0;34m\u001b[0m\u001b[0m\n\u001b[0m\u001b[1;32m    302\u001b[0m \u001b[0;34m\u001b[0m\u001b[0m\n\u001b[1;32m    303\u001b[0m         \u001b[0;32mif\u001b[0m \u001b[0mlen\u001b[0m\u001b[0;34m(\u001b[0m\u001b[0mobjs\u001b[0m\u001b[0;34m)\u001b[0m \u001b[0;34m==\u001b[0m \u001b[0;36m0\u001b[0m\u001b[0;34m:\u001b[0m\u001b[0;34m\u001b[0m\u001b[0;34m\u001b[0m\u001b[0m\n",
      "\u001b[0;32m<ipython-input-8-803300a1ba73>\u001b[0m in \u001b[0;36m<lambda>\u001b[0;34m(cname)\u001b[0m\n\u001b[1;32m      3\u001b[0m fullnames_list =['Perineal Laceration', 'Rupture Uterus',\n\u001b[1;32m      4\u001b[0m        'Unplanned Hysterectomy', 'Mother Admitted to IC', 'Induced Labor', 'AugLabor', 'Steroids', 'Antibiotics']\n\u001b[0;32m----> 5\u001b[0;31m \u001b[0mtest\u001b[0m \u001b[0;34m=\u001b[0m \u001b[0mpd\u001b[0m\u001b[0;34m.\u001b[0m\u001b[0mconcat\u001b[0m\u001b[0;34m(\u001b[0m\u001b[0mmap\u001b[0m\u001b[0;34m(\u001b[0m \u001b[0;32mlambda\u001b[0m \u001b[0mcname\u001b[0m\u001b[0;34m:\u001b[0m \u001b[0mmake_pctdf\u001b[0m\u001b[0;34m(\u001b[0m \u001b[0mbirths_nou\u001b[0m\u001b[0;34m,\u001b[0m \u001b[0mcname\u001b[0m \u001b[0;34m)\u001b[0m\u001b[0;34m,\u001b[0m \u001b[0mcnames_list\u001b[0m \u001b[0;34m)\u001b[0m\u001b[0;34m)\u001b[0m\u001b[0;34m\u001b[0m\u001b[0;34m\u001b[0m\u001b[0m\n\u001b[0m\u001b[1;32m      6\u001b[0m \u001b[0mtest2\u001b[0m \u001b[0;34m=\u001b[0m \u001b[0mpd\u001b[0m\u001b[0;34m.\u001b[0m\u001b[0mconcat\u001b[0m\u001b[0;34m(\u001b[0m\u001b[0mmap\u001b[0m\u001b[0;34m(\u001b[0m \u001b[0;32mlambda\u001b[0m \u001b[0mcname\u001b[0m\u001b[0;34m:\u001b[0m \u001b[0mmake_cntdf\u001b[0m\u001b[0;34m(\u001b[0m \u001b[0mbirths_nou\u001b[0m\u001b[0;34m,\u001b[0m \u001b[0mcname\u001b[0m \u001b[0;34m)\u001b[0m\u001b[0;34m,\u001b[0m \u001b[0mcnames_list\u001b[0m \u001b[0;34m)\u001b[0m\u001b[0;34m)\u001b[0m\u001b[0;34m\u001b[0m\u001b[0;34m\u001b[0m\u001b[0m\n",
      "\u001b[0;31mNameError\u001b[0m: name 'births_nou' is not defined"
     ]
    }
   ],
   "source": [
    "cnames_list = ['perineal_laceration', 'rupt_uterus',\n",
    "       'unplanned_hyster', 'admit_to_IC', 'induced_labor', 'aug_labor', 'steriods', 'antibiotics',]\n",
    "fullnames_list =['Perineal Laceration', 'Rupture Uterus',\n",
    "       'Unplanned Hysterectomy', 'Mother Admitted to IC', 'Induced Labor', 'AugLabor', 'Steroids', 'Antibiotics']\n",
    "test = pd.concat(map( lambda cname: make_pctdf( births_nou, cname ), cnames_list ))\n",
    "test2 = pd.concat(map( lambda cname: make_cntdf( births_nou, cname ), cnames_list ))"
   ]
  },
  {
   "cell_type": "code",
   "execution_count": null,
   "metadata": {},
   "outputs": [],
   "source": [
    "test_plt = (test.div(test.sum(1), axis=0)).plot(kind = 'barh', width = 0.8, stacked = True, figsize = (10,9))\n",
    "# test_plt = (test.div(test.sum(1), axis=0)).sort_values(by = 1 ,ascending=False).plot(kind = 'barh', width = 0.8, stacked = True, figsize = (10,9))\n",
    "#Need to figure out how to adjust axis labels to follow sorted data automatically\n",
    "\n",
    "#Formatting  \n",
    "plt.axvline(x=(9.14/100), color='r', linestyle='-', label = '8.7%')\n",
    "test_plt.set_yticklabels(fullnames_list, fontsize = 12)\n",
    "test_plt.set_xticklabels(('0','20','40','60','80', '100'))\n",
    "test_plt.set_title(\"Infant's Congenital Factors Resulting in NICU Admittance \", fontsize = 16)\n",
    "leg = test_plt.legend(labels=[' Average Rate of Admittance, 8.7%', 'Admitted to NICU', 'Normal Birth'],fontsize= 10, loc = 'lower center')\n",
    "#Add annotation \n",
    "for p in test_plt.patches:\n",
    "    width, height = p.get_width(), p.get_height()\n",
    "    x, y = p.get_xy()\n",
    "    test_plt.annotate('{:.0%}'.format(width), (p.get_x()+.9*width, p.get_y() + height - .5),\n",
    "                      ha = 'center', color = 'white', fontsize = 14)\n",
    "\n",
    "# Get the bounding box of the original legend\n",
    "bb = leg.get_bbox_to_anchor().inverse_transformed(test_plt.transAxes)\n",
    "\n",
    "# Change to location of the legend. \n",
    "xOffset = -.2\n",
    "bb.y0 += xOffset\n",
    "bb.y1 += xOffset\n",
    "leg.set_bbox_to_anchor(bb, transform = test_plt.transAxes)\n",
    "\n",
    "#Resize plot area to fit within Figure Size\n",
    "plt.tight_layout(rect = (0,0,.8,1))\n",
    "\n",
    "#Save Figure\n",
    "plt.savefig('./Saved_Visualizations/delivery_risks_barpct.pdf')\n",
    "plt.savefig('./Saved_Visualizations/delivery_risks_barpct.png')"
   ]
  },
  {
   "cell_type": "code",
   "execution_count": null,
   "metadata": {},
   "outputs": [],
   "source": [
    "test2_plt = test2['admit_NICU'].plot(kind = 'barh', width = 0.8, stacked = True, figsize = (10,9))\n",
    "\n",
    "#Setting tick labels empty becasue meant to align with Percentage plot\n",
    "#must figure out how to make this a subplot of the above\n",
    "test2_plt.set_yticklabels(fullnames_list, fontsize = 12)\n",
    "test2_plt.set_title(\"Infant's Congenital Factors Counts \", fontsize = 16)\n",
    "plt.grid(axis = 'x')\n",
    "\n",
    "#Resize plot area to fit within Figure Size\n",
    "plt.tight_layout(rect = (0,0,.8,1))\n",
    "\n",
    "\n",
    "plt.savefig('./Saved_Visualizations/delivery_risks_barcnt.pdf')\n",
    "plt.savefig('./Saved_Visualizations/delivery_risks_barcnt.png')"
   ]
  },
  {
   "cell_type": "code",
   "execution_count": null,
   "metadata": {},
   "outputs": [],
   "source": [
    "\n",
    "\n",
    "births_nou = remove_category(births_nou,'APGAR_score_5min',88)\n",
    "births_nou = remove_category(births_nou,'APGAR_score_5min',99)\n",
    "test = pct_bplot(births_nou,'APGAR_score_5min')\n",
    "\n",
    "\n",
    "test_plt = test.plot(kind = 'bar', stacked = True, legend = True,figsize=(10,12))\n",
    "plt.axhline(y=8.7/100, color='r', linestyle='-', label = '9%')\n",
    "#test_plt.set_xticklabels(fullnames_list)\n",
    "test_plt.set_title(\"5 Minute APGAR Score Resulting in NICU Admittance \", fontsize = 16)\n",
    "leg = test_plt.legend(labels=[' Average Rate of Admittance, 8.7%', 'Admitted to NICU', 'Normal Birth'],fontsize= 10, loc = 'lower center')\n",
    "#Adding annotation for percentages\n",
    "for p in test_plt.patches:\n",
    "    width, height = p.get_width(), p.get_height()\n",
    "    x, y = p.get_xy()\n",
    "    test_plt.annotate('{:.0%}'.format(height), (p.get_x()+.5*width, p.get_y() + height*.9), ha = 'center', color = 'black')\n",
    "# Get the bounding box of the original legend\n",
    "bb = leg.get_bbox_to_anchor().inverse_transformed(test_plt.transAxes)\n",
    "# Change to location of the legend. \n",
    "yOffset = -.15\n",
    "bb.y0 += yOffset\n",
    "bb.y1 += yOffset\n",
    "leg.set_bbox_to_anchor(bb, transform = test_plt.transAxes)\n",
    "#(left, bottom, right, top)\n",
    "#plt.tight_layout(rect = (0,0,1.1,1))\n",
    "plt.savefig('./Saved_Visualizations/apgar5_barpct.pdf')\n",
    "plt.savefig('./Saved_Visualizations/apgar5_barpct.png')\n",
    "\n",
    "\n",
    "\n",
    "\n",
    "\n"
   ]
  },
  {
   "cell_type": "code",
   "execution_count": null,
   "metadata": {},
   "outputs": [],
   "source": [
    "births_nou = remove_category(births_nou,'APGAR_score_10min',88)\n",
    "births_nou = remove_category(births_nou,'APGAR_score_10min',99)\n",
    "test = pct_bplot(births_nou,'APGAR_score_10min')\n",
    "test_plt = test.plot(kind = 'bar', stacked = True, legend = True,figsize=(10,12))\n",
    "plt.axhline(y=8.7/100, color='r', linestyle='-', label = '9%')\n",
    "#test_plt.set_xticklabels(fullnames_list)\n",
    "test_plt.set_title(\"10 Minute APGAR Score Resulting in NICU Admittance \", fontsize = 16)\n",
    "leg = test_plt.legend(labels=[' Average Rate of Admittance, 8.7%', 'Admitted to NICU', 'Normal Birth'],fontsize= 10, loc = 'lower center')\n",
    "#Adding annotation for percentages\n",
    "for p in test_plt.patches:\n",
    "    width, height = p.get_width(), p.get_height()\n",
    "    x, y = p.get_xy()\n",
    "    test_plt.annotate('{:.0%}'.format(height), (p.get_x()+.5*width, p.get_y() + height*.9), ha = 'center', color = 'black')\n",
    "# Get the bounding box of the original legend\n",
    "bb = leg.get_bbox_to_anchor().inverse_transformed(test_plt.transAxes)\n",
    "# Change to location of the legend. \n",
    "yOffset = -.15\n",
    "bb.y0 += yOffset\n",
    "bb.y1 += yOffset\n",
    "leg.set_bbox_to_anchor(bb, transform = test_plt.transAxes)\n",
    "#(left, bottom, right, top)\n",
    "#plt.tight_layout(rect = (0,0,1.1,1))\n",
    "plt.savefig('./Saved_Visualizations/apgar5_barpct.pdf')\n",
    "plt.savefig('./Saved_Visualizations/apgar5_barpct.png')\n",
    "\n"
   ]
  },
  {
   "cell_type": "code",
   "execution_count": null,
   "metadata": {},
   "outputs": [],
   "source": []
  }
 ],
 "metadata": {
  "kernelspec": {
   "display_name": "Python 3",
   "language": "python",
   "name": "python3"
  },
  "language_info": {
   "codemirror_mode": {
    "name": "ipython",
    "version": 3
   },
   "file_extension": ".py",
   "mimetype": "text/x-python",
   "name": "python",
   "nbconvert_exporter": "python",
   "pygments_lexer": "ipython3",
   "version": "3.7.4"
  }
 },
 "nbformat": 4,
 "nbformat_minor": 2
}
