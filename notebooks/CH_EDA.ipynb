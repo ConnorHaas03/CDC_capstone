{
 "cells": [
  {
   "cell_type": "code",
   "execution_count": 1,
   "metadata": {},
   "outputs": [],
   "source": [
    "import pandas as pd\n",
    "import numpy as np\n",
    "import math"
   ]
  },
  {
   "cell_type": "code",
   "execution_count": 2,
   "metadata": {
    "scrolled": true
   },
   "outputs": [
    {
     "name": "stderr",
     "output_type": "stream",
     "text": [
      "<string>:2: DtypeWarning: Columns (3,5,13,17,18,21,22,26,27,28,29,31,32,33,34,35,36,37,47,48,54,63,64,73,75,105) have mixed types. Specify dtype option on import or set low_memory=False.\n"
     ]
    },
    {
     "name": "stdout",
     "output_type": "stream",
     "text": [
      "Wall time: 34.9 s\n",
      "Wall time: 43.8 s\n"
     ]
    }
   ],
   "source": [
    "%time nat15DF = pd.read_csv('C:/Users/conma/Desktop/NYCDSA/Capstone_Project/CDC_capstone/data/raw/nat2015.csv')\n",
    "%time nat15DF2 = pd.read_csv('C:/Users/conma/Desktop/NYCDSA/Capstone_Project/CDC_capstone/data/raw/nat2015_2.csv')"
   ]
  },
  {
   "cell_type": "code",
   "execution_count": 3,
   "metadata": {},
   "outputs": [
    {
     "name": "stdout",
     "output_type": "stream",
     "text": [
      "Wall time: 2min 7s\n"
     ]
    }
   ],
   "source": [
    "%time nat15TotDF = pd.merge(nat15DF,nat15DF2, how='left')"
   ]
  },
  {
   "cell_type": "code",
   "execution_count": null,
   "metadata": {},
   "outputs": [],
   "source": [
    "for c in nat15TotDF.columns[1:30]:\n",
    "    print('\\nCOLUMN: \"{}\"\\n=============================='.format(c))\n",
    "    info_string = nat15TotDF[c].value_counts(dropna=False).to_string().most_common(10)\n",
    "    #print(type(info_string))\n",
    "    continue"
   ]
  },
  {
   "cell_type": "code",
   "execution_count": 4,
   "metadata": {},
   "outputs": [],
   "source": [
    "def sampler (df,samples):    \n",
    "    for i in samples:\n",
    "        print('\\nFrac samples: {}=============================='.format(i))\n",
    "        %time print(df.sample(frac=i).agg(['mean','std']))"
   ]
  },
  {
   "cell_type": "code",
   "execution_count": 5,
   "metadata": {},
   "outputs": [
    {
     "name": "stdout",
     "output_type": "stream",
     "text": [
      "\n",
      "Frac samples: 0.2==============================\n",
      "      birth_year  birth_month  birth_day_of_wk  mothers_age  mothers_nativity  \\\n",
      "mean      2015.0     6.554319         4.042038    28.647186          1.244772   \n",
      "std          0.0     3.431667         1.856920     5.871982          0.433894   \n",
      "\n",
      "      mothers_residence_status  mothers_race  mothers_marital_status  \\\n",
      "mean                  1.283985      1.696645                1.407699   \n",
      "std                   0.500175      2.858131                0.491407   \n",
      "\n",
      "      fathers_race  prior_living_births  ...  prior_terminations  wic  \\\n",
      "mean     17.543421             1.610387  ...            1.053779  NaN   \n",
      "std      36.039540             7.131775  ...            8.162731  NaN   \n",
      "\n",
      "      attendant_at_birth  APGAR_score_5min  plurality  last_norm_menses_mo  \\\n",
      "mean            1.305172          9.133619   1.035608            10.407553   \n",
      "std             0.758391          5.651260   0.192034            18.671704   \n",
      "\n",
      "      last_norm_menses_yr  combined_gestation_wk  obst_est_edit_wk  \\\n",
      "mean          2329.955078              38.687888         38.556693   \n",
      "std           1556.016681               2.934041          2.655244   \n",
      "\n",
      "      birth_weight_gm  \n",
      "mean      3275.042836  \n",
      "std        611.718732  \n",
      "\n",
      "[2 rows x 21 columns]\n",
      "Wall time: 18min 21s\n",
      "\n",
      "Frac samples: 0.1==============================\n",
      "      birth_year  birth_month  birth_day_of_wk  mothers_age  mothers_nativity  \\\n",
      "mean      2015.0     6.557575         4.035565    28.668216          1.246725   \n",
      "std          0.0     3.428343         1.853816     5.882571          0.434997   \n",
      "\n",
      "      mothers_residence_status  mothers_race  mothers_marital_status  \\\n",
      "mean                  1.285067      1.701249                1.405888   \n",
      "std                   0.502346      2.924544                0.491064   \n",
      "\n",
      "      fathers_race  prior_living_births  ...  prior_terminations  wic  \\\n",
      "mean     17.519753             1.592894  ...            1.013749  NaN   \n",
      "std      36.013374             6.994733  ...            7.926190  NaN   \n",
      "\n",
      "      attendant_at_birth  APGAR_score_5min  plurality  last_norm_menses_mo  \\\n",
      "mean            1.303219          9.118168   1.035079            10.369816   \n",
      "std             0.750901          5.526606   0.190065            18.572174   \n",
      "\n",
      "      last_norm_menses_yr  combined_gestation_wk  obst_est_edit_wk  \\\n",
      "mean          2326.850940              38.689421         38.558312   \n",
      "std           1548.664784               2.879963          2.593920   \n",
      "\n",
      "      birth_weight_gm  \n",
      "mean      3276.389923  \n",
      "std        609.434799  \n",
      "\n",
      "[2 rows x 21 columns]\n",
      "Wall time: 3min 44s\n",
      "Wall time: 22min 5s\n"
     ]
    }
   ],
   "source": [
    "nat15TotDF = nat15TotDF.drop(nat15TotDF.columns[0],axis=1)\n",
    "%time sampler(nat15TotDF,[.2,.1])"
   ]
  },
  {
   "cell_type": "code",
   "execution_count": 6,
   "metadata": {},
   "outputs": [
    {
     "ename": "TypeError",
     "evalue": "'method' object is not subscriptable",
     "output_type": "error",
     "traceback": [
      "\u001b[1;31m---------------------------------------------------------------------------\u001b[0m",
      "\u001b[1;31mTypeError\u001b[0m                                 Traceback (most recent call last)",
      "\u001b[1;32m<ipython-input-6-6ac78b6db51b>\u001b[0m in \u001b[0;36m<module>\u001b[1;34m\u001b[0m\n\u001b[0;32m      1\u001b[0m \u001b[0msample_lst\u001b[0m \u001b[1;33m=\u001b[0m \u001b[1;33m[\u001b[0m\u001b[1;36m.2\u001b[0m\u001b[1;33m,\u001b[0m\u001b[1;36m1\u001b[0m\u001b[1;33m]\u001b[0m\u001b[1;33m\u001b[0m\u001b[1;33m\u001b[0m\u001b[0m\n\u001b[1;32m----> 2\u001b[1;33m \u001b[0mpd\u001b[0m\u001b[1;33m.\u001b[0m\u001b[0mDataFrame\u001b[0m\u001b[1;33m(\u001b[0m\u001b[0mlist\u001b[0m\u001b[1;33m(\u001b[0m\u001b[0mmap\u001b[0m\u001b[1;33m(\u001b[0m\u001b[1;32mlambda\u001b[0m \u001b[0mx\u001b[0m\u001b[1;33m:\u001b[0m \u001b[0mnat15TotDF\u001b[0m\u001b[1;33m.\u001b[0m\u001b[0msample\u001b[0m\u001b[1;33m[\u001b[0m\u001b[0mx\u001b[0m\u001b[1;33m]\u001b[0m\u001b[1;33m,\u001b[0m\u001b[0msample_lst\u001b[0m\u001b[1;33m)\u001b[0m\u001b[1;33m)\u001b[0m\u001b[1;33m)\u001b[0m\u001b[1;33m\u001b[0m\u001b[1;33m\u001b[0m\u001b[0m\n\u001b[0m",
      "\u001b[1;32m<ipython-input-6-6ac78b6db51b>\u001b[0m in \u001b[0;36m<lambda>\u001b[1;34m(x)\u001b[0m\n\u001b[0;32m      1\u001b[0m \u001b[0msample_lst\u001b[0m \u001b[1;33m=\u001b[0m \u001b[1;33m[\u001b[0m\u001b[1;36m.2\u001b[0m\u001b[1;33m,\u001b[0m\u001b[1;36m1\u001b[0m\u001b[1;33m]\u001b[0m\u001b[1;33m\u001b[0m\u001b[1;33m\u001b[0m\u001b[0m\n\u001b[1;32m----> 2\u001b[1;33m \u001b[0mpd\u001b[0m\u001b[1;33m.\u001b[0m\u001b[0mDataFrame\u001b[0m\u001b[1;33m(\u001b[0m\u001b[0mlist\u001b[0m\u001b[1;33m(\u001b[0m\u001b[0mmap\u001b[0m\u001b[1;33m(\u001b[0m\u001b[1;32mlambda\u001b[0m \u001b[0mx\u001b[0m\u001b[1;33m:\u001b[0m \u001b[0mnat15TotDF\u001b[0m\u001b[1;33m.\u001b[0m\u001b[0msample\u001b[0m\u001b[1;33m[\u001b[0m\u001b[0mx\u001b[0m\u001b[1;33m]\u001b[0m\u001b[1;33m,\u001b[0m\u001b[0msample_lst\u001b[0m\u001b[1;33m)\u001b[0m\u001b[1;33m)\u001b[0m\u001b[1;33m)\u001b[0m\u001b[1;33m\u001b[0m\u001b[1;33m\u001b[0m\u001b[0m\n\u001b[0m",
      "\u001b[1;31mTypeError\u001b[0m: 'method' object is not subscriptable"
     ]
    }
   ],
   "source": [
    "sample_lst = [.2,1]\n",
    "pd.DataFrame(list(map(lambda x: nat15TotDF.sample[x],sample_lst)))b"
   ]
  },
  {
   "cell_type": "code",
   "execution_count": null,
   "metadata": {},
   "outputs": [
    {
     "name": "stdout",
     "output_type": "stream",
     "text": [
      "\n",
      "Frac samples: 1==============================\n"
     ]
    }
   ],
   "source": [
    "%time sampler(nat15TotDF,[1])"
   ]
  }
 ],
 "metadata": {
  "kernelspec": {
   "display_name": "Python 3",
   "language": "python",
   "name": "python3"
  },
  "language_info": {
   "codemirror_mode": {
    "name": "ipython",
    "version": 3
   },
   "file_extension": ".py",
   "mimetype": "text/x-python",
   "name": "python",
   "nbconvert_exporter": "python",
   "pygments_lexer": "ipython3",
   "version": "3.7.4"
  }
 },
 "nbformat": 4,
 "nbformat_minor": 2
}
