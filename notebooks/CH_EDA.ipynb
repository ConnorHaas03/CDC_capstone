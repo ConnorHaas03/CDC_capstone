{
 "cells": [
  {
   "cell_type": "code",
   "execution_count": 1,
   "metadata": {},
   "outputs": [],
   "source": [
    "import pandas as pd\n",
    "import numpy as np\n",
    "import math\n",
    "import random"
   ]
  },
  {
   "cell_type": "code",
   "execution_count": 15,
   "metadata": {},
   "outputs": [],
   "source": [
    "def sampled_df (df,samples):    \n",
    "    return df.sample(samples)"
   ]
  },
  {
   "cell_type": "markdown",
   "metadata": {},
   "source": [
    " ## Read CSV files and Sample Data\n",
    " chose 200,000 rows as std and mean do not differ much then from 2,000,000 and 4,000,000 rows"
   ]
  },
  {
   "cell_type": "code",
   "execution_count": null,
   "metadata": {},
   "outputs": [],
   "source": [
    "nat13DF = pd.read_csv('../data/raw/nat2013.csv')\n",
    "random.seed(1)\n",
    "sampled_2013 = sampled_df(nat13DF,200000)\n",
    "sampled_2013.to_csv('../data/raw/samp13.csv')"
   ]
  },
  {
   "cell_type": "code",
   "execution_count": 17,
   "metadata": {},
   "outputs": [],
   "source": [
    "nat14DF = pd.read_csv('../data/raw/nat2014.csv')\n",
    "random.seed(1)\n",
    "sampled_2014 = sampled_df(nat14DF,200000)\n",
    "sampled_2014.to_csv('../data/raw/samp14.csv')"
   ]
  },
  {
   "cell_type": "code",
   "execution_count": null,
   "metadata": {},
   "outputs": [],
   "source": [
    "nat15DF = pd.read_csv('../data/raw/nat2015.csv')\n",
    "random.seed(1)\n",
    "sampled_2015 = sampled_df(nat15DF,200000)\n",
    "sampled_2015.to_csv('../data/raw/samp15.csv')"
   ]
  },
  {
   "cell_type": "code",
   "execution_count": null,
   "metadata": {},
   "outputs": [],
   "source": [
    "nat16DF = pd.read_csv('../data/raw/nat2016.csv')\n",
    "random.seed(1)\n",
    "sampled_2016 = sampled_df(nat16TotDF,200000)\n",
    "sampled_2016.to_csv('../data/raw/samp16.csv')"
   ]
  },
  {
   "cell_type": "code",
   "execution_count": null,
   "metadata": {},
   "outputs": [],
   "source": [
    "nat17DF = pd.read_csv('../data/raw/nat2017.csv')\n",
    "random.seed(1)\n",
    "sampled_2017 = sampled_df(nat17TotDF,200000)\n",
    "sampled_2017.to_csv('../data/raw/samp17.csv')"
   ]
  },
  {
   "cell_type": "markdown",
   "metadata": {},
   "source": [
    " To avoid memory issues, reload kernal and reload csv files from samples to concat"
   ]
  },
  {
   "cell_type": "code",
   "execution_count": 18,
   "metadata": {},
   "outputs": [],
   "source": [
    "samp13 = pd.read_csv('../data/raw/samp13.csv')\n",
    "samp14 = pd.read_csv('../data/raw/samp14.csv')\n",
    "samp15 = pd.read_csv('../data/raw/samp15.csv')\n",
    "samp16 = pd.read_csv('../data/raw/samp16.csv')\n",
    "samp17 = pd.read_csv('../data/raw/samp17.csv')"
   ]
  },
  {
   "cell_type": "code",
   "execution_count": 33,
   "metadata": {},
   "outputs": [],
   "source": [
    "totSampDF = pd.concat([samp13,samp14,samp15,samp16,samp17],sort=False) #sort=False to get non alphabatized\n",
    "totSampDF.to_csv('../data/raw/totSampDF.csv')"
   ]
  },
  {
   "cell_type": "code",
   "execution_count": 31,
   "metadata": {},
   "outputs": [
    {
     "data": {
      "text/plain": [
       "APGAR_score_10min          999999\n",
       "APGAR_score_5min           999999\n",
       "Unnamed: 0                1000000\n",
       "admit_NICU                 999999\n",
       "admit_to_IC                999999\n",
       "                           ...   \n",
       "trial_of_labor_attempt     999999\n",
       "unplanned_hyster           999999\n",
       "weight_gain                400000\n",
       "weight_gain_reporting      400000\n",
       "wic                        599999\n",
       "Length: 122, dtype: int64"
      ]
     },
     "execution_count": 31,
     "metadata": {},
     "output_type": "execute_result"
    }
   ],
   "source": [
    "totSampDF.count()"
   ]
  },
  {
   "cell_type": "markdown",
   "metadata": {},
   "source": [
    "### Testing for skewness in columns wanted\n",
    " Only show top 10 as some columns might have many different values"
   ]
  },
  {
   "cell_type": "code",
   "execution_count": null,
   "metadata": {},
   "outputs": [],
   "source": [
    "for c in nat15TotDF.columns[1:30]:\n",
    "    print('\\nCOLUMN: \"{}\"\\n=============================='.format(c))\n",
    "    info_string = nat15TotDF[c].value_counts(dropna=False).nlargest(10).to_string()\n",
    "    print(info_string)\n",
    "    continue"
   ]
  },
  {
   "cell_type": "markdown",
   "metadata": {},
   "source": [
    "### Sample dataframe\n",
    " Determine the mean and std of different sample sizes of the dataframe to see how much to downsample data"
   ]
  },
  {
   "cell_type": "code",
   "execution_count": null,
   "metadata": {},
   "outputs": [],
   "source": [
    "def sampler (df,samples):    \n",
    "    for i in samples:\n",
    "        print('\\nFrac samples: {}=============================='.format(i))\n",
    "        %time print(df.sample(frac=i).agg(['mean','std']))\n",
    "#pd.DataFrame(list(map(lambda x: nat15TotDF.sample[x],sample_lst)))"
   ]
  },
  {
   "cell_type": "code",
   "execution_count": null,
   "metadata": {},
   "outputs": [],
   "source": [
    "%time sampler(nat15TotDF,[.5,.2,.1,.05])"
   ]
  },
  {
   "cell_type": "code",
   "execution_count": null,
   "metadata": {},
   "outputs": [],
   "source": [
    "%time sampler(nat15TotDF,[.05])"
   ]
  },
  {
   "cell_type": "code",
   "execution_count": null,
   "metadata": {},
   "outputs": [],
   "source": [
    "%time sampler(nat14TotDF,[.5,.2,.1])"
   ]
  }
 ],
 "metadata": {
  "kernelspec": {
   "display_name": "Python 3",
   "language": "python",
   "name": "python3"
  },
  "language_info": {
   "codemirror_mode": {
    "name": "ipython",
    "version": 3
   },
   "file_extension": ".py",
   "mimetype": "text/x-python",
   "name": "python",
   "nbconvert_exporter": "python",
   "pygments_lexer": "ipython3",
   "version": "3.7.4"
  }
 },
 "nbformat": 4,
 "nbformat_minor": 2
}
